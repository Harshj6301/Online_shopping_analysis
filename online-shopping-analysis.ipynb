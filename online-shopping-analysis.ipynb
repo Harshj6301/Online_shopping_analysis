{
 "cells": [
  {
   "cell_type": "code",
   "execution_count": 1,
   "id": "5617f1e2",
   "metadata": {
    "_cell_guid": "b1076dfc-b9ad-4769-8c92-a6c4dae69d19",
    "_uuid": "8f2839f25d086af736a60e9eeb907d3b93b6e0e5",
    "execution": {
     "iopub.execute_input": "2023-03-31T12:06:14.225301Z",
     "iopub.status.busy": "2023-03-31T12:06:14.224882Z",
     "iopub.status.idle": "2023-03-31T12:06:14.246649Z",
     "shell.execute_reply": "2023-03-31T12:06:14.245296Z"
    },
    "papermill": {
     "duration": 0.042834,
     "end_time": "2023-03-31T12:06:14.249754",
     "exception": false,
     "start_time": "2023-03-31T12:06:14.206920",
     "status": "completed"
    },
    "tags": []
   },
   "outputs": [
    {
     "name": "stdout",
     "output_type": "stream",
     "text": [
      "/kaggle/input/my-data-2/Retail.OrderHistory.Clean.csv\n"
     ]
    }
   ],
   "source": [
    "# This Python 3 environment comes with many helpful analytics libraries installed\n",
    "# It is defined by the kaggle/python Docker image: https://github.com/kaggle/docker-python\n",
    "# For example, here's several helpful packages to load\n",
    "\n",
    "import numpy as np # linear algebra\n",
    "import pandas as pd # data processing, CSV file I/O (e.g. pd.read_csv)\n",
    "import warnings\n",
    "warnings.filterwarnings('ignore')\n",
    "\n",
    "# Input data files are available in the read-only \"../input/\" directory\n",
    "# For example, running this (by clicking run or pressing Shift+Enter) will list all files under the input directory\n",
    "\n",
    "import os\n",
    "for dirname, _, filenames in os.walk('/kaggle/input'):\n",
    "    for filename in filenames:\n",
    "        print(os.path.join(dirname, filename))\n",
    "\n",
    "# You can write up to 20GB to the current directory (/kaggle/working/) that gets preserved as output when you create a version using \"Save & Run All\" \n",
    "# You can also write temporary files to /kaggle/temp/, but they won't be saved outside of the current session"
   ]
  },
  {
   "cell_type": "markdown",
   "id": "c1cb2636",
   "metadata": {
    "papermill": {
     "duration": 0.012119,
     "end_time": "2023-03-31T12:06:14.274341",
     "exception": false,
     "start_time": "2023-03-31T12:06:14.262222",
     "status": "completed"
    },
    "tags": []
   },
   "source": [
    "# E-commerce data"
   ]
  },
  {
   "cell_type": "markdown",
   "id": "8ea5893e",
   "metadata": {
    "papermill": {
     "duration": 0.011605,
     "end_time": "2023-03-31T12:06:14.299636",
     "exception": false,
     "start_time": "2023-03-31T12:06:14.288031",
     "status": "completed"
    },
    "tags": []
   },
   "source": [
    "## This data is my personal data from online e-commerce website to analyse the data and get an insight"
   ]
  },
  {
   "cell_type": "markdown",
   "id": "f652b3aa",
   "metadata": {
    "papermill": {
     "duration": 0.011472,
     "end_time": "2023-03-31T12:06:14.322963",
     "exception": false,
     "start_time": "2023-03-31T12:06:14.311491",
     "status": "completed"
    },
    "tags": []
   },
   "source": [
    "### Importing the dataset"
   ]
  },
  {
   "cell_type": "code",
   "execution_count": 2,
   "id": "14196250",
   "metadata": {
    "execution": {
     "iopub.execute_input": "2023-03-31T12:06:14.348447Z",
     "iopub.status.busy": "2023-03-31T12:06:14.348022Z",
     "iopub.status.idle": "2023-03-31T12:06:14.368655Z",
     "shell.execute_reply": "2023-03-31T12:06:14.367155Z"
    },
    "papermill": {
     "duration": 0.036497,
     "end_time": "2023-03-31T12:06:14.371236",
     "exception": false,
     "start_time": "2023-03-31T12:06:14.334739",
     "status": "completed"
    },
    "tags": []
   },
   "outputs": [
    {
     "name": "stdout",
     "output_type": "stream",
     "text": [
      "orders_df: (113, 24)\n"
     ]
    }
   ],
   "source": [
    "orders_df = pd.read_csv('/kaggle/input/my-data-2/Retail.OrderHistory.Clean.csv',encoding='utf8',encoding_errors='ignore')\n",
    "print('orders_df:',orders_df.shape)"
   ]
  },
  {
   "cell_type": "markdown",
   "id": "f92e93d9",
   "metadata": {
    "papermill": {
     "duration": 0.011738,
     "end_time": "2023-03-31T12:06:14.394853",
     "exception": false,
     "start_time": "2023-03-31T12:06:14.383115",
     "status": "completed"
    },
    "tags": []
   },
   "source": [
    "### Basic data analysis and cleaning"
   ]
  },
  {
   "cell_type": "code",
   "execution_count": 3,
   "id": "ea7aeb9f",
   "metadata": {
    "execution": {
     "iopub.execute_input": "2023-03-31T12:06:14.420984Z",
     "iopub.status.busy": "2023-03-31T12:06:14.420554Z",
     "iopub.status.idle": "2023-03-31T12:06:14.464467Z",
     "shell.execute_reply": "2023-03-31T12:06:14.463113Z"
    },
    "papermill": {
     "duration": 0.060215,
     "end_time": "2023-03-31T12:06:14.467100",
     "exception": false,
     "start_time": "2023-03-31T12:06:14.406885",
     "status": "completed"
    },
    "tags": []
   },
   "outputs": [
    {
     "data": {
      "text/html": [
       "<div>\n",
       "<style scoped>\n",
       "    .dataframe tbody tr th:only-of-type {\n",
       "        vertical-align: middle;\n",
       "    }\n",
       "\n",
       "    .dataframe tbody tr th {\n",
       "        vertical-align: top;\n",
       "    }\n",
       "\n",
       "    .dataframe thead th {\n",
       "        text-align: right;\n",
       "    }\n",
       "</style>\n",
       "<table border=\"1\" class=\"dataframe\">\n",
       "  <thead>\n",
       "    <tr style=\"text-align: right;\">\n",
       "      <th></th>\n",
       "      <th>Order ID</th>\n",
       "      <th>Order Date</th>\n",
       "      <th>Purchase Order Number</th>\n",
       "      <th>Currency</th>\n",
       "      <th>Unit Price</th>\n",
       "      <th>Unit Price Tax</th>\n",
       "      <th>Shipping Charge</th>\n",
       "      <th>Total Discounts</th>\n",
       "      <th>Total Owed</th>\n",
       "      <th>Shipment Item Subtotal</th>\n",
       "      <th>...</th>\n",
       "      <th>Payment Instrument Type</th>\n",
       "      <th>Order Status</th>\n",
       "      <th>Shipment Status</th>\n",
       "      <th>Ship Date</th>\n",
       "      <th>Shipping Option</th>\n",
       "      <th>Unnamed: 19</th>\n",
       "      <th>Product Name</th>\n",
       "      <th>Gift Message</th>\n",
       "      <th>Gift Sender Name</th>\n",
       "      <th>Gift Recipient Contact Details</th>\n",
       "    </tr>\n",
       "  </thead>\n",
       "  <tbody>\n",
       "    <tr>\n",
       "      <th>0</th>\n",
       "      <td>402-3170714-4132350</td>\n",
       "      <td>03/24/2023 02:28:49 UTC</td>\n",
       "      <td>NaN</td>\n",
       "      <td>INR</td>\n",
       "      <td>6,205.36</td>\n",
       "      <td>744.64</td>\n",
       "      <td>0.00</td>\n",
       "      <td>0</td>\n",
       "      <td>6,950</td>\n",
       "      <td>6,205.36</td>\n",
       "      <td>...</td>\n",
       "      <td>NaN</td>\n",
       "      <td>Closed</td>\n",
       "      <td>Shipped</td>\n",
       "      <td>03/27/2023 07:43:22 UTC</td>\n",
       "      <td>Std IN EZ Metro COD</td>\n",
       "      <td>NaN</td>\n",
       "      <td>Rynox Air GT 4 Jacket - Mesh Motorcycle Riding...</td>\n",
       "      <td>NaN</td>\n",
       "      <td>NaN</td>\n",
       "      <td>NaN</td>\n",
       "    </tr>\n",
       "    <tr>\n",
       "      <th>1</th>\n",
       "      <td>402-0957206-0852356</td>\n",
       "      <td>03/03/2023 08:02:35 UTC</td>\n",
       "      <td>NaN</td>\n",
       "      <td>INR</td>\n",
       "      <td>226.27</td>\n",
       "      <td>40.73</td>\n",
       "      <td>6.10</td>\n",
       "      <td>0</td>\n",
       "      <td>267</td>\n",
       "      <td>226.27</td>\n",
       "      <td>...</td>\n",
       "      <td>NaN</td>\n",
       "      <td>Closed</td>\n",
       "      <td>Shipped</td>\n",
       "      <td>03/13/2023 09:24:47 UTC</td>\n",
       "      <td>std-in-10k</td>\n",
       "      <td>NaN</td>\n",
       "      <td>3M Auto Specialty Tyre Dresser (250 ml) | Long...</td>\n",
       "      <td>NaN</td>\n",
       "      <td>NaN</td>\n",
       "      <td>NaN</td>\n",
       "    </tr>\n",
       "    <tr>\n",
       "      <th>2</th>\n",
       "      <td>402-0957206-0852356</td>\n",
       "      <td>03/03/2023 08:02:35 UTC</td>\n",
       "      <td>NaN</td>\n",
       "      <td>INR</td>\n",
       "      <td>168.64</td>\n",
       "      <td>30.36</td>\n",
       "      <td>6.10</td>\n",
       "      <td>0</td>\n",
       "      <td>199</td>\n",
       "      <td>366.1</td>\n",
       "      <td>...</td>\n",
       "      <td>NaN</td>\n",
       "      <td>Closed</td>\n",
       "      <td>Shipped</td>\n",
       "      <td>03/03/2023 11:15:18 UTC</td>\n",
       "      <td>std-in-10k</td>\n",
       "      <td>NaN</td>\n",
       "      <td>Motul C2 Chain Lube for All Bikes (150 ml)</td>\n",
       "      <td>NaN</td>\n",
       "      <td>NaN</td>\n",
       "      <td>NaN</td>\n",
       "    </tr>\n",
       "    <tr>\n",
       "      <th>3</th>\n",
       "      <td>402-0957206-0852356</td>\n",
       "      <td>03/03/2023 08:02:35 UTC</td>\n",
       "      <td>NaN</td>\n",
       "      <td>INR</td>\n",
       "      <td>79.46</td>\n",
       "      <td>9.54</td>\n",
       "      <td>4.29</td>\n",
       "      <td>0</td>\n",
       "      <td>89</td>\n",
       "      <td>79.46</td>\n",
       "      <td>...</td>\n",
       "      <td>NaN</td>\n",
       "      <td>Closed</td>\n",
       "      <td>Shipped</td>\n",
       "      <td>03/03/2023 09:31:07 UTC</td>\n",
       "      <td>std-in-10k</td>\n",
       "      <td>NaN</td>\n",
       "      <td>Stewit Universal Motorcycle/Cycle Chain Cleane...</td>\n",
       "      <td>NaN</td>\n",
       "      <td>NaN</td>\n",
       "      <td>NaN</td>\n",
       "    </tr>\n",
       "    <tr>\n",
       "      <th>4</th>\n",
       "      <td>402-0957206-0852356</td>\n",
       "      <td>03/03/2023 08:02:35 UTC</td>\n",
       "      <td>NaN</td>\n",
       "      <td>INR</td>\n",
       "      <td>197.46</td>\n",
       "      <td>35.54</td>\n",
       "      <td>6.10</td>\n",
       "      <td>0</td>\n",
       "      <td>233</td>\n",
       "      <td>366.1</td>\n",
       "      <td>...</td>\n",
       "      <td>NaN</td>\n",
       "      <td>Closed</td>\n",
       "      <td>Shipped</td>\n",
       "      <td>03/03/2023 11:15:18 UTC</td>\n",
       "      <td>std-in-10k</td>\n",
       "      <td>NaN</td>\n",
       "      <td>Motul C1 Chain Clean for All Bikes (150 ml)</td>\n",
       "      <td>NaN</td>\n",
       "      <td>NaN</td>\n",
       "      <td>NaN</td>\n",
       "    </tr>\n",
       "  </tbody>\n",
       "</table>\n",
       "<p>5 rows × 24 columns</p>\n",
       "</div>"
      ],
      "text/plain": [
       "              Order ID               Order Date  Purchase Order Number  \\\n",
       "0  402-3170714-4132350  03/24/2023 02:28:49 UTC                    NaN   \n",
       "1  402-0957206-0852356  03/03/2023 08:02:35 UTC                    NaN   \n",
       "2  402-0957206-0852356  03/03/2023 08:02:35 UTC                    NaN   \n",
       "3  402-0957206-0852356  03/03/2023 08:02:35 UTC                    NaN   \n",
       "4  402-0957206-0852356  03/03/2023 08:02:35 UTC                    NaN   \n",
       "\n",
       "  Currency Unit Price Unit Price Tax  Shipping Charge Total Discounts  \\\n",
       "0      INR   6,205.36         744.64             0.00               0   \n",
       "1      INR     226.27          40.73             6.10               0   \n",
       "2      INR     168.64          30.36             6.10               0   \n",
       "3      INR      79.46           9.54             4.29               0   \n",
       "4      INR     197.46          35.54             6.10               0   \n",
       "\n",
       "  Total Owed Shipment Item Subtotal  ... Payment Instrument Type Order Status  \\\n",
       "0      6,950               6,205.36  ...                     NaN       Closed   \n",
       "1        267                 226.27  ...                     NaN       Closed   \n",
       "2        199                  366.1  ...                     NaN       Closed   \n",
       "3         89                  79.46  ...                     NaN       Closed   \n",
       "4        233                  366.1  ...                     NaN       Closed   \n",
       "\n",
       "  Shipment Status                Ship Date      Shipping Option Unnamed: 19  \\\n",
       "0         Shipped  03/27/2023 07:43:22 UTC  Std IN EZ Metro COD         NaN   \n",
       "1         Shipped  03/13/2023 09:24:47 UTC           std-in-10k         NaN   \n",
       "2         Shipped  03/03/2023 11:15:18 UTC           std-in-10k         NaN   \n",
       "3         Shipped  03/03/2023 09:31:07 UTC           std-in-10k         NaN   \n",
       "4         Shipped  03/03/2023 11:15:18 UTC           std-in-10k         NaN   \n",
       "\n",
       "                                        Product Name Gift Message  \\\n",
       "0  Rynox Air GT 4 Jacket - Mesh Motorcycle Riding...          NaN   \n",
       "1  3M Auto Specialty Tyre Dresser (250 ml) | Long...          NaN   \n",
       "2         Motul C2 Chain Lube for All Bikes (150 ml)          NaN   \n",
       "3  Stewit Universal Motorcycle/Cycle Chain Cleane...          NaN   \n",
       "4        Motul C1 Chain Clean for All Bikes (150 ml)          NaN   \n",
       "\n",
       "  Gift Sender Name  Gift Recipient Contact Details  \n",
       "0              NaN                             NaN  \n",
       "1              NaN                             NaN  \n",
       "2              NaN                             NaN  \n",
       "3              NaN                             NaN  \n",
       "4              NaN                             NaN  \n",
       "\n",
       "[5 rows x 24 columns]"
      ]
     },
     "execution_count": 3,
     "metadata": {},
     "output_type": "execute_result"
    }
   ],
   "source": [
    "orders_df.head()"
   ]
  },
  {
   "cell_type": "code",
   "execution_count": 4,
   "id": "a54a672c",
   "metadata": {
    "execution": {
     "iopub.execute_input": "2023-03-31T12:06:14.494028Z",
     "iopub.status.busy": "2023-03-31T12:06:14.493175Z",
     "iopub.status.idle": "2023-03-31T12:06:14.521641Z",
     "shell.execute_reply": "2023-03-31T12:06:14.520189Z"
    },
    "papermill": {
     "duration": 0.044613,
     "end_time": "2023-03-31T12:06:14.524045",
     "exception": false,
     "start_time": "2023-03-31T12:06:14.479432",
     "status": "completed"
    },
    "tags": []
   },
   "outputs": [
    {
     "data": {
      "text/html": [
       "<div>\n",
       "<style scoped>\n",
       "    .dataframe tbody tr th:only-of-type {\n",
       "        vertical-align: middle;\n",
       "    }\n",
       "\n",
       "    .dataframe tbody tr th {\n",
       "        vertical-align: top;\n",
       "    }\n",
       "\n",
       "    .dataframe thead th {\n",
       "        text-align: right;\n",
       "    }\n",
       "</style>\n",
       "<table border=\"1\" class=\"dataframe\">\n",
       "  <thead>\n",
       "    <tr style=\"text-align: right;\">\n",
       "      <th></th>\n",
       "      <th>Order ID</th>\n",
       "      <th>Order Date</th>\n",
       "      <th>Purchase Order Number</th>\n",
       "      <th>Currency</th>\n",
       "      <th>Unit Price</th>\n",
       "      <th>Unit Price Tax</th>\n",
       "      <th>Shipping Charge</th>\n",
       "      <th>Total Discounts</th>\n",
       "      <th>Total Owed</th>\n",
       "      <th>Shipment Item Subtotal</th>\n",
       "      <th>...</th>\n",
       "      <th>Payment Instrument Type</th>\n",
       "      <th>Order Status</th>\n",
       "      <th>Shipment Status</th>\n",
       "      <th>Ship Date</th>\n",
       "      <th>Shipping Option</th>\n",
       "      <th>Unnamed: 19</th>\n",
       "      <th>Product Name</th>\n",
       "      <th>Gift Message</th>\n",
       "      <th>Gift Sender Name</th>\n",
       "      <th>Gift Recipient Contact Details</th>\n",
       "    </tr>\n",
       "  </thead>\n",
       "  <tbody>\n",
       "    <tr>\n",
       "      <th>108</th>\n",
       "      <td>403-0993554-2121128</td>\n",
       "      <td>06/21/2017 11:27:51 UTC</td>\n",
       "      <td>NaN</td>\n",
       "      <td>INR</td>\n",
       "      <td>1,057.14</td>\n",
       "      <td>52.86</td>\n",
       "      <td>2.38</td>\n",
       "      <td>'-111'</td>\n",
       "      <td>999</td>\n",
       "      <td>1,057.14</td>\n",
       "      <td>...</td>\n",
       "      <td>NaN</td>\n",
       "      <td>Closed</td>\n",
       "      <td>Shipped</td>\n",
       "      <td>06/21/2017 17:07:25 UTC</td>\n",
       "      <td>std-in-remote-cod-eligible</td>\n",
       "      <td>NaN</td>\n",
       "      <td>Zoook ZB-Jazz Beats Wireless On-Ear Bluetooth ...</td>\n",
       "      <td>NaN</td>\n",
       "      <td>NaN</td>\n",
       "      <td>NaN</td>\n",
       "    </tr>\n",
       "    <tr>\n",
       "      <th>109</th>\n",
       "      <td>404-4587324-9933107</td>\n",
       "      <td>05/23/2017 07:23:49 UTC</td>\n",
       "      <td>NaN</td>\n",
       "      <td>INR</td>\n",
       "      <td>9,477.73</td>\n",
       "      <td>521.27</td>\n",
       "      <td>2.61</td>\n",
       "      <td>0</td>\n",
       "      <td>9,999</td>\n",
       "      <td>9,477.73</td>\n",
       "      <td>...</td>\n",
       "      <td>NaN</td>\n",
       "      <td>Closed</td>\n",
       "      <td>Shipped</td>\n",
       "      <td>05/24/2017 22:02:29 UTC</td>\n",
       "      <td>std-in-remote-cod-eligible-10k</td>\n",
       "      <td>NaN</td>\n",
       "      <td>Asus Zenfone 2 Laser 5.5 ZE550KL(Black, 3 GB R...</td>\n",
       "      <td>NaN</td>\n",
       "      <td>NaN</td>\n",
       "      <td>NaN</td>\n",
       "    </tr>\n",
       "    <tr>\n",
       "      <th>110</th>\n",
       "      <td>404-6573646-1465164</td>\n",
       "      <td>12/04/2016 16:12:41 UTC</td>\n",
       "      <td>NaN</td>\n",
       "      <td>INR</td>\n",
       "      <td>319</td>\n",
       "      <td>0</td>\n",
       "      <td>70.00</td>\n",
       "      <td>0</td>\n",
       "      <td>389</td>\n",
       "      <td>319</td>\n",
       "      <td>...</td>\n",
       "      <td>NaN</td>\n",
       "      <td>Closed</td>\n",
       "      <td>Shipped</td>\n",
       "      <td>12/05/2016 08:49:13 UTC</td>\n",
       "      <td>Std IN EZ National COD</td>\n",
       "      <td>NaN</td>\n",
       "      <td>CHKOKKO 8X Zoom Universal Mobile Phone Telesco...</td>\n",
       "      <td>NaN</td>\n",
       "      <td>NaN</td>\n",
       "      <td>NaN</td>\n",
       "    </tr>\n",
       "    <tr>\n",
       "      <th>111</th>\n",
       "      <td>404-5258692-2328309</td>\n",
       "      <td>09/25/2016 12:00:47 UTC</td>\n",
       "      <td>NaN</td>\n",
       "      <td>INR</td>\n",
       "      <td>99</td>\n",
       "      <td>0</td>\n",
       "      <td>50.00</td>\n",
       "      <td>0</td>\n",
       "      <td>149</td>\n",
       "      <td>99</td>\n",
       "      <td>...</td>\n",
       "      <td>NaN</td>\n",
       "      <td>Closed</td>\n",
       "      <td>Shipped</td>\n",
       "      <td>09/26/2016 08:38:01 UTC</td>\n",
       "      <td>IN Std Dom 2_50k_cod</td>\n",
       "      <td>NaN</td>\n",
       "      <td>Casotec Metal Back TPU Back Case Cover for Mic...</td>\n",
       "      <td>NaN</td>\n",
       "      <td>NaN</td>\n",
       "      <td>NaN</td>\n",
       "    </tr>\n",
       "    <tr>\n",
       "      <th>112</th>\n",
       "      <td>171-6515020-2681962</td>\n",
       "      <td>09/25/2016 07:31:58 UTC</td>\n",
       "      <td>NaN</td>\n",
       "      <td>INR</td>\n",
       "      <td>284.76</td>\n",
       "      <td>14.24</td>\n",
       "      <td>40.00</td>\n",
       "      <td>0</td>\n",
       "      <td>339</td>\n",
       "      <td>284.76</td>\n",
       "      <td>...</td>\n",
       "      <td>NaN</td>\n",
       "      <td>Closed</td>\n",
       "      <td>Shipped</td>\n",
       "      <td>09/25/2016 10:03:18 UTC</td>\n",
       "      <td>std-in-remote-cod-eligible</td>\n",
       "      <td>NaN</td>\n",
       "      <td>CASSIEY?? 2.5D Curved Edge Ultra HD+ 9H Hardne...</td>\n",
       "      <td>NaN</td>\n",
       "      <td>NaN</td>\n",
       "      <td>NaN</td>\n",
       "    </tr>\n",
       "  </tbody>\n",
       "</table>\n",
       "<p>5 rows × 24 columns</p>\n",
       "</div>"
      ],
      "text/plain": [
       "                Order ID               Order Date  Purchase Order Number  \\\n",
       "108  403-0993554-2121128  06/21/2017 11:27:51 UTC                    NaN   \n",
       "109  404-4587324-9933107  05/23/2017 07:23:49 UTC                    NaN   \n",
       "110  404-6573646-1465164  12/04/2016 16:12:41 UTC                    NaN   \n",
       "111  404-5258692-2328309  09/25/2016 12:00:47 UTC                    NaN   \n",
       "112  171-6515020-2681962  09/25/2016 07:31:58 UTC                    NaN   \n",
       "\n",
       "    Currency Unit Price Unit Price Tax  Shipping Charge Total Discounts  \\\n",
       "108      INR   1,057.14          52.86             2.38          '-111'   \n",
       "109      INR   9,477.73         521.27             2.61               0   \n",
       "110      INR        319              0            70.00               0   \n",
       "111      INR         99              0            50.00               0   \n",
       "112      INR     284.76          14.24            40.00               0   \n",
       "\n",
       "    Total Owed Shipment Item Subtotal  ... Payment Instrument Type  \\\n",
       "108        999               1,057.14  ...                     NaN   \n",
       "109      9,999               9,477.73  ...                     NaN   \n",
       "110        389                    319  ...                     NaN   \n",
       "111        149                     99  ...                     NaN   \n",
       "112        339                 284.76  ...                     NaN   \n",
       "\n",
       "    Order Status Shipment Status                Ship Date  \\\n",
       "108       Closed         Shipped  06/21/2017 17:07:25 UTC   \n",
       "109       Closed         Shipped  05/24/2017 22:02:29 UTC   \n",
       "110       Closed         Shipped  12/05/2016 08:49:13 UTC   \n",
       "111       Closed         Shipped  09/26/2016 08:38:01 UTC   \n",
       "112       Closed         Shipped  09/25/2016 10:03:18 UTC   \n",
       "\n",
       "                    Shipping Option Unnamed: 19  \\\n",
       "108      std-in-remote-cod-eligible         NaN   \n",
       "109  std-in-remote-cod-eligible-10k         NaN   \n",
       "110          Std IN EZ National COD         NaN   \n",
       "111            IN Std Dom 2_50k_cod         NaN   \n",
       "112      std-in-remote-cod-eligible         NaN   \n",
       "\n",
       "                                          Product Name Gift Message  \\\n",
       "108  Zoook ZB-Jazz Beats Wireless On-Ear Bluetooth ...          NaN   \n",
       "109  Asus Zenfone 2 Laser 5.5 ZE550KL(Black, 3 GB R...          NaN   \n",
       "110  CHKOKKO 8X Zoom Universal Mobile Phone Telesco...          NaN   \n",
       "111  Casotec Metal Back TPU Back Case Cover for Mic...          NaN   \n",
       "112  CASSIEY?? 2.5D Curved Edge Ultra HD+ 9H Hardne...          NaN   \n",
       "\n",
       "    Gift Sender Name  Gift Recipient Contact Details  \n",
       "108              NaN                             NaN  \n",
       "109              NaN                             NaN  \n",
       "110              NaN                             NaN  \n",
       "111              NaN                             NaN  \n",
       "112              NaN                             NaN  \n",
       "\n",
       "[5 rows x 24 columns]"
      ]
     },
     "execution_count": 4,
     "metadata": {},
     "output_type": "execute_result"
    }
   ],
   "source": [
    "orders_df.tail()"
   ]
  },
  {
   "cell_type": "code",
   "execution_count": 5,
   "id": "17301146",
   "metadata": {
    "execution": {
     "iopub.execute_input": "2023-03-31T12:06:14.551399Z",
     "iopub.status.busy": "2023-03-31T12:06:14.550986Z",
     "iopub.status.idle": "2023-03-31T12:06:14.577494Z",
     "shell.execute_reply": "2023-03-31T12:06:14.576112Z"
    },
    "papermill": {
     "duration": 0.043331,
     "end_time": "2023-03-31T12:06:14.580202",
     "exception": false,
     "start_time": "2023-03-31T12:06:14.536871",
     "status": "completed"
    },
    "tags": []
   },
   "outputs": [
    {
     "name": "stdout",
     "output_type": "stream",
     "text": [
      "<class 'pandas.core.frame.DataFrame'>\n",
      "RangeIndex: 113 entries, 0 to 112\n",
      "Data columns (total 24 columns):\n",
      " #   Column                          Non-Null Count  Dtype  \n",
      "---  ------                          --------------  -----  \n",
      " 0   Order ID                        113 non-null    object \n",
      " 1   Order Date                      113 non-null    object \n",
      " 2   Purchase Order Number           0 non-null      float64\n",
      " 3   Currency                        113 non-null    object \n",
      " 4   Unit Price                      113 non-null    object \n",
      " 5   Unit Price Tax                  113 non-null    object \n",
      " 6   Shipping Charge                 113 non-null    float64\n",
      " 7   Total Discounts                 113 non-null    object \n",
      " 8   Total Owed                      113 non-null    object \n",
      " 9   Shipment Item Subtotal          86 non-null     object \n",
      " 10  Shipment Item Subtotal Tax      86 non-null     object \n",
      " 11  ASIN                            113 non-null    object \n",
      " 12  Product Condition               113 non-null    object \n",
      " 13  Quantity                        113 non-null    int64  \n",
      " 14  Payment Instrument Type         30 non-null     object \n",
      " 15  Order Status                    113 non-null    object \n",
      " 16  Shipment Status                 86 non-null     object \n",
      " 17  Ship Date                       86 non-null     object \n",
      " 18  Shipping Option                 89 non-null     object \n",
      " 19  Unnamed: 19                     0 non-null      float64\n",
      " 20  Product Name                    113 non-null    object \n",
      " 21  Gift Message                    0 non-null      float64\n",
      " 22  Gift Sender Name                0 non-null      float64\n",
      " 23  Gift Recipient Contact Details  0 non-null      float64\n",
      "dtypes: float64(6), int64(1), object(17)\n",
      "memory usage: 21.3+ KB\n"
     ]
    }
   ],
   "source": [
    "orders_df.info()"
   ]
  },
  {
   "cell_type": "markdown",
   "id": "600a6c39",
   "metadata": {
    "papermill": {
     "duration": 0.012441,
     "end_time": "2023-03-31T12:06:14.605459",
     "exception": false,
     "start_time": "2023-03-31T12:06:14.593018",
     "status": "completed"
    },
    "tags": []
   },
   "source": [
    "As we find the ***Purchase Order Number***, ***Gift Message***,***Gift Sender Name***, ***Gift Recipient Contact Details*** and ***Unnamed: 19*** have *0* entries, we will drop those features"
   ]
  },
  {
   "cell_type": "code",
   "execution_count": 6,
   "id": "3130fbe0",
   "metadata": {
    "execution": {
     "iopub.execute_input": "2023-03-31T12:06:14.633232Z",
     "iopub.status.busy": "2023-03-31T12:06:14.632471Z",
     "iopub.status.idle": "2023-03-31T12:06:14.659944Z",
     "shell.execute_reply": "2023-03-31T12:06:14.658016Z"
    },
    "papermill": {
     "duration": 0.044835,
     "end_time": "2023-03-31T12:06:14.663061",
     "exception": false,
     "start_time": "2023-03-31T12:06:14.618226",
     "status": "completed"
    },
    "tags": []
   },
   "outputs": [
    {
     "name": "stdout",
     "output_type": "stream",
     "text": [
      "(113, 19)\n"
     ]
    },
    {
     "data": {
      "text/html": [
       "<div>\n",
       "<style scoped>\n",
       "    .dataframe tbody tr th:only-of-type {\n",
       "        vertical-align: middle;\n",
       "    }\n",
       "\n",
       "    .dataframe tbody tr th {\n",
       "        vertical-align: top;\n",
       "    }\n",
       "\n",
       "    .dataframe thead th {\n",
       "        text-align: right;\n",
       "    }\n",
       "</style>\n",
       "<table border=\"1\" class=\"dataframe\">\n",
       "  <thead>\n",
       "    <tr style=\"text-align: right;\">\n",
       "      <th></th>\n",
       "      <th>Order ID</th>\n",
       "      <th>Order Date</th>\n",
       "      <th>Currency</th>\n",
       "      <th>Unit Price</th>\n",
       "      <th>Unit Price Tax</th>\n",
       "      <th>Shipping Charge</th>\n",
       "      <th>Total Discounts</th>\n",
       "      <th>Total Owed</th>\n",
       "      <th>Shipment Item Subtotal</th>\n",
       "      <th>Shipment Item Subtotal Tax</th>\n",
       "      <th>ASIN</th>\n",
       "      <th>Product Condition</th>\n",
       "      <th>Quantity</th>\n",
       "      <th>Payment Instrument Type</th>\n",
       "      <th>Order Status</th>\n",
       "      <th>Shipment Status</th>\n",
       "      <th>Ship Date</th>\n",
       "      <th>Shipping Option</th>\n",
       "      <th>Product Name</th>\n",
       "    </tr>\n",
       "  </thead>\n",
       "  <tbody>\n",
       "    <tr>\n",
       "      <th>0</th>\n",
       "      <td>402-3170714-4132350</td>\n",
       "      <td>03/24/2023 02:28:49 UTC</td>\n",
       "      <td>INR</td>\n",
       "      <td>6,205.36</td>\n",
       "      <td>744.64</td>\n",
       "      <td>0.00</td>\n",
       "      <td>0</td>\n",
       "      <td>6,950</td>\n",
       "      <td>6,205.36</td>\n",
       "      <td>744.64</td>\n",
       "      <td>B0BSR1J8XW</td>\n",
       "      <td>New</td>\n",
       "      <td>1</td>\n",
       "      <td>NaN</td>\n",
       "      <td>Closed</td>\n",
       "      <td>Shipped</td>\n",
       "      <td>03/27/2023 07:43:22 UTC</td>\n",
       "      <td>Std IN EZ Metro COD</td>\n",
       "      <td>Rynox Air GT 4 Jacket - Mesh Motorcycle Riding...</td>\n",
       "    </tr>\n",
       "    <tr>\n",
       "      <th>1</th>\n",
       "      <td>402-0957206-0852356</td>\n",
       "      <td>03/03/2023 08:02:35 UTC</td>\n",
       "      <td>INR</td>\n",
       "      <td>226.27</td>\n",
       "      <td>40.73</td>\n",
       "      <td>6.10</td>\n",
       "      <td>0</td>\n",
       "      <td>267</td>\n",
       "      <td>226.27</td>\n",
       "      <td>40.73</td>\n",
       "      <td>B00S5SAFDQ</td>\n",
       "      <td>New</td>\n",
       "      <td>1</td>\n",
       "      <td>NaN</td>\n",
       "      <td>Closed</td>\n",
       "      <td>Shipped</td>\n",
       "      <td>03/13/2023 09:24:47 UTC</td>\n",
       "      <td>std-in-10k</td>\n",
       "      <td>3M Auto Specialty Tyre Dresser (250 ml) | Long...</td>\n",
       "    </tr>\n",
       "    <tr>\n",
       "      <th>2</th>\n",
       "      <td>402-0957206-0852356</td>\n",
       "      <td>03/03/2023 08:02:35 UTC</td>\n",
       "      <td>INR</td>\n",
       "      <td>168.64</td>\n",
       "      <td>30.36</td>\n",
       "      <td>6.10</td>\n",
       "      <td>0</td>\n",
       "      <td>199</td>\n",
       "      <td>366.1</td>\n",
       "      <td>65.9</td>\n",
       "      <td>B01ESPB2VI</td>\n",
       "      <td>New</td>\n",
       "      <td>1</td>\n",
       "      <td>NaN</td>\n",
       "      <td>Closed</td>\n",
       "      <td>Shipped</td>\n",
       "      <td>03/03/2023 11:15:18 UTC</td>\n",
       "      <td>std-in-10k</td>\n",
       "      <td>Motul C2 Chain Lube for All Bikes (150 ml)</td>\n",
       "    </tr>\n",
       "    <tr>\n",
       "      <th>3</th>\n",
       "      <td>402-0957206-0852356</td>\n",
       "      <td>03/03/2023 08:02:35 UTC</td>\n",
       "      <td>INR</td>\n",
       "      <td>79.46</td>\n",
       "      <td>9.54</td>\n",
       "      <td>4.29</td>\n",
       "      <td>0</td>\n",
       "      <td>89</td>\n",
       "      <td>79.46</td>\n",
       "      <td>9.54</td>\n",
       "      <td>B09XKH1R5N</td>\n",
       "      <td>New</td>\n",
       "      <td>1</td>\n",
       "      <td>NaN</td>\n",
       "      <td>Closed</td>\n",
       "      <td>Shipped</td>\n",
       "      <td>03/03/2023 09:31:07 UTC</td>\n",
       "      <td>std-in-10k</td>\n",
       "      <td>Stewit Universal Motorcycle/Cycle Chain Cleane...</td>\n",
       "    </tr>\n",
       "    <tr>\n",
       "      <th>4</th>\n",
       "      <td>402-0957206-0852356</td>\n",
       "      <td>03/03/2023 08:02:35 UTC</td>\n",
       "      <td>INR</td>\n",
       "      <td>197.46</td>\n",
       "      <td>35.54</td>\n",
       "      <td>6.10</td>\n",
       "      <td>0</td>\n",
       "      <td>233</td>\n",
       "      <td>366.1</td>\n",
       "      <td>65.9</td>\n",
       "      <td>B01ESPB2V8</td>\n",
       "      <td>New</td>\n",
       "      <td>1</td>\n",
       "      <td>NaN</td>\n",
       "      <td>Closed</td>\n",
       "      <td>Shipped</td>\n",
       "      <td>03/03/2023 11:15:18 UTC</td>\n",
       "      <td>std-in-10k</td>\n",
       "      <td>Motul C1 Chain Clean for All Bikes (150 ml)</td>\n",
       "    </tr>\n",
       "  </tbody>\n",
       "</table>\n",
       "</div>"
      ],
      "text/plain": [
       "              Order ID               Order Date Currency Unit Price  \\\n",
       "0  402-3170714-4132350  03/24/2023 02:28:49 UTC      INR   6,205.36   \n",
       "1  402-0957206-0852356  03/03/2023 08:02:35 UTC      INR     226.27   \n",
       "2  402-0957206-0852356  03/03/2023 08:02:35 UTC      INR     168.64   \n",
       "3  402-0957206-0852356  03/03/2023 08:02:35 UTC      INR      79.46   \n",
       "4  402-0957206-0852356  03/03/2023 08:02:35 UTC      INR     197.46   \n",
       "\n",
       "  Unit Price Tax  Shipping Charge Total Discounts Total Owed  \\\n",
       "0         744.64             0.00               0      6,950   \n",
       "1          40.73             6.10               0        267   \n",
       "2          30.36             6.10               0        199   \n",
       "3           9.54             4.29               0         89   \n",
       "4          35.54             6.10               0        233   \n",
       "\n",
       "  Shipment Item Subtotal Shipment Item Subtotal Tax        ASIN  \\\n",
       "0               6,205.36                     744.64  B0BSR1J8XW   \n",
       "1                 226.27                      40.73  B00S5SAFDQ   \n",
       "2                  366.1                       65.9  B01ESPB2VI   \n",
       "3                  79.46                       9.54  B09XKH1R5N   \n",
       "4                  366.1                       65.9  B01ESPB2V8   \n",
       "\n",
       "  Product Condition  Quantity Payment Instrument Type Order Status  \\\n",
       "0               New         1                     NaN       Closed   \n",
       "1               New         1                     NaN       Closed   \n",
       "2               New         1                     NaN       Closed   \n",
       "3               New         1                     NaN       Closed   \n",
       "4               New         1                     NaN       Closed   \n",
       "\n",
       "  Shipment Status                Ship Date      Shipping Option  \\\n",
       "0         Shipped  03/27/2023 07:43:22 UTC  Std IN EZ Metro COD   \n",
       "1         Shipped  03/13/2023 09:24:47 UTC           std-in-10k   \n",
       "2         Shipped  03/03/2023 11:15:18 UTC           std-in-10k   \n",
       "3         Shipped  03/03/2023 09:31:07 UTC           std-in-10k   \n",
       "4         Shipped  03/03/2023 11:15:18 UTC           std-in-10k   \n",
       "\n",
       "                                        Product Name  \n",
       "0  Rynox Air GT 4 Jacket - Mesh Motorcycle Riding...  \n",
       "1  3M Auto Specialty Tyre Dresser (250 ml) | Long...  \n",
       "2         Motul C2 Chain Lube for All Bikes (150 ml)  \n",
       "3  Stewit Universal Motorcycle/Cycle Chain Cleane...  \n",
       "4        Motul C1 Chain Clean for All Bikes (150 ml)  "
      ]
     },
     "execution_count": 6,
     "metadata": {},
     "output_type": "execute_result"
    }
   ],
   "source": [
    "orders_df.drop(columns=['Purchase Order Number','Gift Message','Gift Sender Name','Gift Recipient Contact Details','Unnamed: 19'],inplace=True)\n",
    "print(orders_df.shape)\n",
    "orders_df.head()"
   ]
  },
  {
   "cell_type": "markdown",
   "id": "90e5d9ed",
   "metadata": {
    "papermill": {
     "duration": 0.012832,
     "end_time": "2023-03-31T12:06:14.689705",
     "exception": false,
     "start_time": "2023-03-31T12:06:14.676873",
     "status": "completed"
    },
    "tags": []
   },
   "source": [
    "We will observe the data carefully to identify the features we need to clean"
   ]
  },
  {
   "cell_type": "code",
   "execution_count": 7,
   "id": "4600f8e9",
   "metadata": {
    "execution": {
     "iopub.execute_input": "2023-03-31T12:06:14.718193Z",
     "iopub.status.busy": "2023-03-31T12:06:14.717406Z",
     "iopub.status.idle": "2023-03-31T12:06:14.723112Z",
     "shell.execute_reply": "2023-03-31T12:06:14.721799Z"
    },
    "papermill": {
     "duration": 0.022755,
     "end_time": "2023-03-31T12:06:14.725613",
     "exception": false,
     "start_time": "2023-03-31T12:06:14.702858",
     "status": "completed"
    },
    "tags": []
   },
   "outputs": [],
   "source": [
    "features_to_float = ['Unit Price','Unit Price Tax','Total Discounts','Total Owed','Shipment Item Subtotal','Shipment Item Subtotal Tax']"
   ]
  },
  {
   "cell_type": "code",
   "execution_count": 8,
   "id": "cb1f6088",
   "metadata": {
    "execution": {
     "iopub.execute_input": "2023-03-31T12:06:14.754953Z",
     "iopub.status.busy": "2023-03-31T12:06:14.753995Z",
     "iopub.status.idle": "2023-03-31T12:06:14.765505Z",
     "shell.execute_reply": "2023-03-31T12:06:14.763483Z"
    },
    "papermill": {
     "duration": 0.029672,
     "end_time": "2023-03-31T12:06:14.768665",
     "exception": false,
     "start_time": "2023-03-31T12:06:14.738993",
     "status": "completed"
    },
    "tags": []
   },
   "outputs": [
    {
     "name": "stdout",
     "output_type": "stream",
     "text": [
      "Unit Price                    92\n",
      "Unit Price Tax                67\n",
      "Total Discounts               10\n",
      "Total Owed                    77\n",
      "Shipment Item Subtotal        71\n",
      "Shipment Item Subtotal Tax    60\n",
      "dtype: int64\n"
     ]
    }
   ],
   "source": [
    "print(orders_df[features_to_float].nunique())"
   ]
  },
  {
   "cell_type": "code",
   "execution_count": 9,
   "id": "47e87c9c",
   "metadata": {
    "execution": {
     "iopub.execute_input": "2023-03-31T12:06:14.797693Z",
     "iopub.status.busy": "2023-03-31T12:06:14.797248Z",
     "iopub.status.idle": "2023-03-31T12:06:14.807185Z",
     "shell.execute_reply": "2023-03-31T12:06:14.805286Z"
    },
    "papermill": {
     "duration": 0.027236,
     "end_time": "2023-03-31T12:06:14.809618",
     "exception": false,
     "start_time": "2023-03-31T12:06:14.782382",
     "status": "completed"
    },
    "tags": []
   },
   "outputs": [
    {
     "name": "stdout",
     "output_type": "stream",
     "text": [
      "Unit Price ['6,205.36' '226.27' '168.64' '79.46' '197.46' '89' '267' '233' '199'\n",
      " '217' '2,827.62' '592.37' '699' '4,115.26' '2,541.52' '846.62' '2,455.36'\n",
      " '2,750' '256.28' '562.5' '124.58' '4,949' '1,156.24' '126.66' '263.8'\n",
      " '203.8' '209.52' '1,799.16' '799' '245.54' '677.12' '385.59' '3,050'\n",
      " '150.84' '387.38' '399' '178' '270.48' '252.38' '722.86' '1,570.48'\n",
      " '1,270.34' '422.88' '2,202.54' '643.22' '295.76' '10' '230.51' '338.14'\n",
      " '257.14' '334.74' '1,143.22' '605' '3,072.03' '189.52' '1,363.56'\n",
      " '151.43' '601.7' '295' '500' '951.43' '1' '266.96' '740.18' '748.57'\n",
      " '100' '13,391.96' '49' '253.38' '160.16' '193.22' '40' '665.25' '18' '30'\n",
      " '1,014.84' '286.44' '1,299' '338' '1,000' '561.61' '1,355.09' '210.94'\n",
      " '11,159.82' '783.05' '263.21' '731.13' '1,057.14' '9,477.73' '319' '99'\n",
      " '284.76']\n",
      "Unit Price Tax ['744.64' '40.73' '30.36' '9.54' '35.54' '0' '141.38' '106.63' '740.74'\n",
      " '457.48' '152.38' '294.64' '12.82' '67.5' '22.42' '138.76' '6.34' '13.2'\n",
      " '10.2' '10.48' '323.84' '29.46' '121.88' '69.41' '549' '27.16' '11.62'\n",
      " '13.52' '12.62' '36.14' '78.52' '228.66' '76.12' '396.46' '115.78'\n",
      " '53.24' '41.49' '60.86' '12.86' '60.26' '205.78' '552.97' '9.48' '245.44'\n",
      " '7.57' '108.3' '47.57' '32.04' '88.82' '37.43' '1,607.04' '45.62' '28.84'\n",
      " '34.78' '119.75' '284.16' '51.56' '67.39' '243.91' '59.06' '1,339.18'\n",
      " '140.95' '15.79' '43.87' '52.86' '521.27' '14.24']\n",
      "Total Discounts ['0' \"'-936.22'\" \"'-262.78'\" \"'-12.6'\" \"'-20'\" \"'-13.75'\" \"'-100'\"\n",
      " \"'-200'\" \"'-26'\" \"'-111'\"]\n",
      "Total Owed ['6,950' '267' '199' '89' '233' '0' '2,969' '699' '4,856' '2,062.78'\n",
      " '736.22' '2,750' '309.1' '617.4' '374' '1,295' '113' '277' '194' '290'\n",
      " '2,123' '261.25' '799' '455' '3,599' '178' '798' '284' '265' '759'\n",
      " '1,649' '1,499' '499' '2,599' '349' '399' '10' '312' '540' '395' '1,299'\n",
      " '1,349' '605' '3,625' '398' '1,609' '159' '710' '295' '500' '999' '1'\n",
      " '299' '829' '786' '100' '14,999' '49' '189' '228' '40' '785' '18' '30'\n",
      " '338' '1,000' '629' '1,599' '320' '12,499' '1,124' '279' '749' '9,999'\n",
      " '389' '149' '339']\n",
      "Shipment Item Subtotal ['6,205.36' '226.27' '366.1' '79.46' nan '2,827.62' '592.37' '4,115.26'\n",
      " '3,388.14' '2,455.36' '256.28' '562.5' '249.16' '1,156.24' '330.46'\n",
      " '263.8' '209.52' '1,799.16' '245.54' '677.12' '385.59' '3,050' '150.84'\n",
      " '774.76' '270.48' '252.38' '2,293.34' '1,270.34' '422.88' '2,202.54'\n",
      " '643.22' '295.76' '230.51' '338.14' '1,784.62' '334.74' '1,143.22' '605'\n",
      " '399' '3,072.03' '379.04' '1,701.70' '151.43' '601.7' '295' '951.43' '1'\n",
      " '266.96' '740.18' '748.57' '199' '13,391.96' '413.54' '193.22' '40'\n",
      " '665.25' '18' '30' '1,301.28' '1,000' '100' '561.61' '1,355.09' '210.94'\n",
      " '11,159.82' '783.05' '994.34' '1,057.14' '9,477.73' '319' '99' '284.76']\n",
      "Shipment Item Subtotal Tax ['744.64' '40.73' '65.9' '9.54' nan '141.38' '106.63' '740.74' '609.86'\n",
      " '294.64' '12.82' '67.5' '44.84' '138.76' '16.54' '13.2' '10.48' '323.84'\n",
      " '29.46' '121.88' '69.41' '549' '27.16' '23.24' '13.52' '12.62' '114.66'\n",
      " '228.66' '76.12' '396.46' '115.78' '53.24' '41.49' '60.86' '254.38'\n",
      " '60.26' '205.78' '0' '552.97' '18.96' '306.3' '7.57' '108.3' '47.57'\n",
      " '32.04' '88.82' '37.43' '1,607.04' '74.46' '34.78' '119.75' '335.72'\n",
      " '67.39' '243.91' '59.06' '1,339.18' '140.95' '59.66' '52.86' '521.27'\n",
      " '14.24']\n"
     ]
    }
   ],
   "source": [
    "for feature in features_to_float:\n",
    "    print(feature,orders_df[feature].unique())"
   ]
  },
  {
   "cell_type": "markdown",
   "id": "1e843c6a",
   "metadata": {
    "papermill": {
     "duration": 0.01317,
     "end_time": "2023-03-31T12:06:14.836628",
     "exception": false,
     "start_time": "2023-03-31T12:06:14.823458",
     "status": "completed"
    },
    "tags": []
   },
   "source": [
    "As we observed earlier as well, some features need to be converted and cleaned for easier analysis"
   ]
  },
  {
   "cell_type": "markdown",
   "id": "7a103ca6",
   "metadata": {
    "papermill": {
     "duration": 0.013262,
     "end_time": "2023-03-31T12:06:14.864051",
     "exception": false,
     "start_time": "2023-03-31T12:06:14.850789",
     "status": "completed"
    },
    "tags": []
   },
   "source": [
    "#### Converting all the price related features to floats"
   ]
  },
  {
   "cell_type": "code",
   "execution_count": 10,
   "id": "19291d5a",
   "metadata": {
    "execution": {
     "iopub.execute_input": "2023-03-31T12:06:14.892952Z",
     "iopub.status.busy": "2023-03-31T12:06:14.892549Z",
     "iopub.status.idle": "2023-03-31T12:06:14.912780Z",
     "shell.execute_reply": "2023-03-31T12:06:14.911713Z"
    },
    "papermill": {
     "duration": 0.037743,
     "end_time": "2023-03-31T12:06:14.915303",
     "exception": false,
     "start_time": "2023-03-31T12:06:14.877560",
     "status": "completed"
    },
    "tags": []
   },
   "outputs": [
    {
     "data": {
      "text/html": [
       "<div>\n",
       "<style scoped>\n",
       "    .dataframe tbody tr th:only-of-type {\n",
       "        vertical-align: middle;\n",
       "    }\n",
       "\n",
       "    .dataframe tbody tr th {\n",
       "        vertical-align: top;\n",
       "    }\n",
       "\n",
       "    .dataframe thead th {\n",
       "        text-align: right;\n",
       "    }\n",
       "</style>\n",
       "<table border=\"1\" class=\"dataframe\">\n",
       "  <thead>\n",
       "    <tr style=\"text-align: right;\">\n",
       "      <th></th>\n",
       "      <th>Order ID</th>\n",
       "      <th>Order Date</th>\n",
       "      <th>Currency</th>\n",
       "      <th>Unit Price</th>\n",
       "      <th>Unit Price Tax</th>\n",
       "      <th>Shipping Charge</th>\n",
       "      <th>Total Discounts</th>\n",
       "      <th>Total Owed</th>\n",
       "      <th>Shipment Item Subtotal</th>\n",
       "      <th>Shipment Item Subtotal Tax</th>\n",
       "      <th>ASIN</th>\n",
       "      <th>Product Condition</th>\n",
       "      <th>Quantity</th>\n",
       "      <th>Payment Instrument Type</th>\n",
       "      <th>Order Status</th>\n",
       "      <th>Shipment Status</th>\n",
       "      <th>Ship Date</th>\n",
       "      <th>Shipping Option</th>\n",
       "      <th>Product Name</th>\n",
       "    </tr>\n",
       "  </thead>\n",
       "  <tbody>\n",
       "    <tr>\n",
       "      <th>0</th>\n",
       "      <td>402-3170714-4132350</td>\n",
       "      <td>03/24/2023 02:28:49 UTC</td>\n",
       "      <td>INR</td>\n",
       "      <td>6,205.36</td>\n",
       "      <td>744.64</td>\n",
       "      <td>0.0</td>\n",
       "      <td>0</td>\n",
       "      <td>6,950</td>\n",
       "      <td>6,205.36</td>\n",
       "      <td>744.64</td>\n",
       "      <td>B0BSR1J8XW</td>\n",
       "      <td>New</td>\n",
       "      <td>1</td>\n",
       "      <td>NaN</td>\n",
       "      <td>Closed</td>\n",
       "      <td>Shipped</td>\n",
       "      <td>03/27/2023 07:43:22 UTC</td>\n",
       "      <td>Std IN EZ Metro COD</td>\n",
       "      <td>Rynox Air GT 4 Jacket - Mesh Motorcycle Riding...</td>\n",
       "    </tr>\n",
       "    <tr>\n",
       "      <th>1</th>\n",
       "      <td>402-0957206-0852356</td>\n",
       "      <td>03/03/2023 08:02:35 UTC</td>\n",
       "      <td>INR</td>\n",
       "      <td>226.27</td>\n",
       "      <td>40.73</td>\n",
       "      <td>6.1</td>\n",
       "      <td>0</td>\n",
       "      <td>267</td>\n",
       "      <td>226.27</td>\n",
       "      <td>40.73</td>\n",
       "      <td>B00S5SAFDQ</td>\n",
       "      <td>New</td>\n",
       "      <td>1</td>\n",
       "      <td>NaN</td>\n",
       "      <td>Closed</td>\n",
       "      <td>Shipped</td>\n",
       "      <td>03/13/2023 09:24:47 UTC</td>\n",
       "      <td>std-in-10k</td>\n",
       "      <td>3M Auto Specialty Tyre Dresser (250 ml) | Long...</td>\n",
       "    </tr>\n",
       "  </tbody>\n",
       "</table>\n",
       "</div>"
      ],
      "text/plain": [
       "              Order ID               Order Date Currency Unit Price  \\\n",
       "0  402-3170714-4132350  03/24/2023 02:28:49 UTC      INR   6,205.36   \n",
       "1  402-0957206-0852356  03/03/2023 08:02:35 UTC      INR     226.27   \n",
       "\n",
       "  Unit Price Tax  Shipping Charge Total Discounts Total Owed  \\\n",
       "0         744.64              0.0               0      6,950   \n",
       "1          40.73              6.1               0        267   \n",
       "\n",
       "  Shipment Item Subtotal Shipment Item Subtotal Tax        ASIN  \\\n",
       "0               6,205.36                     744.64  B0BSR1J8XW   \n",
       "1                 226.27                      40.73  B00S5SAFDQ   \n",
       "\n",
       "  Product Condition  Quantity Payment Instrument Type Order Status  \\\n",
       "0               New         1                     NaN       Closed   \n",
       "1               New         1                     NaN       Closed   \n",
       "\n",
       "  Shipment Status                Ship Date      Shipping Option  \\\n",
       "0         Shipped  03/27/2023 07:43:22 UTC  Std IN EZ Metro COD   \n",
       "1         Shipped  03/13/2023 09:24:47 UTC           std-in-10k   \n",
       "\n",
       "                                        Product Name  \n",
       "0  Rynox Air GT 4 Jacket - Mesh Motorcycle Riding...  \n",
       "1  3M Auto Specialty Tyre Dresser (250 ml) | Long...  "
      ]
     },
     "execution_count": 10,
     "metadata": {},
     "output_type": "execute_result"
    }
   ],
   "source": [
    "orders_df.head(2)"
   ]
  },
  {
   "cell_type": "code",
   "execution_count": 11,
   "id": "509ccbf1",
   "metadata": {
    "execution": {
     "iopub.execute_input": "2023-03-31T12:06:14.945726Z",
     "iopub.status.busy": "2023-03-31T12:06:14.944584Z",
     "iopub.status.idle": "2023-03-31T12:06:14.950300Z",
     "shell.execute_reply": "2023-03-31T12:06:14.948900Z"
    },
    "papermill": {
     "duration": 0.023462,
     "end_time": "2023-03-31T12:06:14.952669",
     "exception": false,
     "start_time": "2023-03-31T12:06:14.929207",
     "status": "completed"
    },
    "tags": []
   },
   "outputs": [],
   "source": [
    "# Defining a funciton to clean and convert the features"
   ]
  },
  {
   "cell_type": "code",
   "execution_count": 12,
   "id": "2d1cbc84",
   "metadata": {
    "execution": {
     "iopub.execute_input": "2023-03-31T12:06:14.982051Z",
     "iopub.status.busy": "2023-03-31T12:06:14.981652Z",
     "iopub.status.idle": "2023-03-31T12:06:14.988761Z",
     "shell.execute_reply": "2023-03-31T12:06:14.987503Z"
    },
    "papermill": {
     "duration": 0.024856,
     "end_time": "2023-03-31T12:06:14.991324",
     "exception": false,
     "start_time": "2023-03-31T12:06:14.966468",
     "status": "completed"
    },
    "tags": []
   },
   "outputs": [],
   "source": [
    "def feature_cleaner(feature_list,dataset):\n",
    "    \"\"\"The function replaces ','(comma) and '''(quote) in the entries and later converts all records into float64 \"\"\"\n",
    "    for feature in feature_list:\n",
    "        dataset[feature] = dataset[feature].str.replace(',','')\n",
    "        dataset[feature] = dataset[feature].str.replace(\"'\",'')\n",
    "    print('Data cleaned..\\nConverting to numeric type')\n",
    "    dataset[features_to_float] = dataset[features_to_float].astype('float64')\n",
    "    return dataset[features_to_float]"
   ]
  },
  {
   "cell_type": "code",
   "execution_count": 13,
   "id": "54d99ad2",
   "metadata": {
    "execution": {
     "iopub.execute_input": "2023-03-31T12:06:15.021331Z",
     "iopub.status.busy": "2023-03-31T12:06:15.020853Z",
     "iopub.status.idle": "2023-03-31T12:06:15.085239Z",
     "shell.execute_reply": "2023-03-31T12:06:15.083700Z"
    },
    "papermill": {
     "duration": 0.083152,
     "end_time": "2023-03-31T12:06:15.088444",
     "exception": false,
     "start_time": "2023-03-31T12:06:15.005292",
     "status": "completed"
    },
    "tags": []
   },
   "outputs": [],
   "source": [
    "?feature_cleaner"
   ]
  },
  {
   "cell_type": "code",
   "execution_count": 14,
   "id": "49008e0f",
   "metadata": {
    "execution": {
     "iopub.execute_input": "2023-03-31T12:06:15.118884Z",
     "iopub.status.busy": "2023-03-31T12:06:15.118483Z",
     "iopub.status.idle": "2023-03-31T12:06:15.148665Z",
     "shell.execute_reply": "2023-03-31T12:06:15.146994Z"
    },
    "papermill": {
     "duration": 0.048893,
     "end_time": "2023-03-31T12:06:15.151396",
     "exception": false,
     "start_time": "2023-03-31T12:06:15.102503",
     "status": "completed"
    },
    "tags": []
   },
   "outputs": [
    {
     "name": "stdout",
     "output_type": "stream",
     "text": [
      "Data cleaned..\n",
      "Converting to numeric type\n"
     ]
    },
    {
     "data": {
      "text/html": [
       "<div>\n",
       "<style scoped>\n",
       "    .dataframe tbody tr th:only-of-type {\n",
       "        vertical-align: middle;\n",
       "    }\n",
       "\n",
       "    .dataframe tbody tr th {\n",
       "        vertical-align: top;\n",
       "    }\n",
       "\n",
       "    .dataframe thead th {\n",
       "        text-align: right;\n",
       "    }\n",
       "</style>\n",
       "<table border=\"1\" class=\"dataframe\">\n",
       "  <thead>\n",
       "    <tr style=\"text-align: right;\">\n",
       "      <th></th>\n",
       "      <th>Unit Price</th>\n",
       "      <th>Unit Price Tax</th>\n",
       "      <th>Total Discounts</th>\n",
       "      <th>Total Owed</th>\n",
       "      <th>Shipment Item Subtotal</th>\n",
       "      <th>Shipment Item Subtotal Tax</th>\n",
       "    </tr>\n",
       "  </thead>\n",
       "  <tbody>\n",
       "    <tr>\n",
       "      <th>0</th>\n",
       "      <td>6205.36</td>\n",
       "      <td>744.64</td>\n",
       "      <td>0.0</td>\n",
       "      <td>6950.0</td>\n",
       "      <td>6205.36</td>\n",
       "      <td>744.64</td>\n",
       "    </tr>\n",
       "    <tr>\n",
       "      <th>1</th>\n",
       "      <td>226.27</td>\n",
       "      <td>40.73</td>\n",
       "      <td>0.0</td>\n",
       "      <td>267.0</td>\n",
       "      <td>226.27</td>\n",
       "      <td>40.73</td>\n",
       "    </tr>\n",
       "    <tr>\n",
       "      <th>2</th>\n",
       "      <td>168.64</td>\n",
       "      <td>30.36</td>\n",
       "      <td>0.0</td>\n",
       "      <td>199.0</td>\n",
       "      <td>366.10</td>\n",
       "      <td>65.90</td>\n",
       "    </tr>\n",
       "    <tr>\n",
       "      <th>3</th>\n",
       "      <td>79.46</td>\n",
       "      <td>9.54</td>\n",
       "      <td>0.0</td>\n",
       "      <td>89.0</td>\n",
       "      <td>79.46</td>\n",
       "      <td>9.54</td>\n",
       "    </tr>\n",
       "    <tr>\n",
       "      <th>4</th>\n",
       "      <td>197.46</td>\n",
       "      <td>35.54</td>\n",
       "      <td>0.0</td>\n",
       "      <td>233.0</td>\n",
       "      <td>366.10</td>\n",
       "      <td>65.90</td>\n",
       "    </tr>\n",
       "    <tr>\n",
       "      <th>...</th>\n",
       "      <td>...</td>\n",
       "      <td>...</td>\n",
       "      <td>...</td>\n",
       "      <td>...</td>\n",
       "      <td>...</td>\n",
       "      <td>...</td>\n",
       "    </tr>\n",
       "    <tr>\n",
       "      <th>108</th>\n",
       "      <td>1057.14</td>\n",
       "      <td>52.86</td>\n",
       "      <td>-111.0</td>\n",
       "      <td>999.0</td>\n",
       "      <td>1057.14</td>\n",
       "      <td>52.86</td>\n",
       "    </tr>\n",
       "    <tr>\n",
       "      <th>109</th>\n",
       "      <td>9477.73</td>\n",
       "      <td>521.27</td>\n",
       "      <td>0.0</td>\n",
       "      <td>9999.0</td>\n",
       "      <td>9477.73</td>\n",
       "      <td>521.27</td>\n",
       "    </tr>\n",
       "    <tr>\n",
       "      <th>110</th>\n",
       "      <td>319.00</td>\n",
       "      <td>0.00</td>\n",
       "      <td>0.0</td>\n",
       "      <td>389.0</td>\n",
       "      <td>319.00</td>\n",
       "      <td>0.00</td>\n",
       "    </tr>\n",
       "    <tr>\n",
       "      <th>111</th>\n",
       "      <td>99.00</td>\n",
       "      <td>0.00</td>\n",
       "      <td>0.0</td>\n",
       "      <td>149.0</td>\n",
       "      <td>99.00</td>\n",
       "      <td>0.00</td>\n",
       "    </tr>\n",
       "    <tr>\n",
       "      <th>112</th>\n",
       "      <td>284.76</td>\n",
       "      <td>14.24</td>\n",
       "      <td>0.0</td>\n",
       "      <td>339.0</td>\n",
       "      <td>284.76</td>\n",
       "      <td>14.24</td>\n",
       "    </tr>\n",
       "  </tbody>\n",
       "</table>\n",
       "<p>113 rows × 6 columns</p>\n",
       "</div>"
      ],
      "text/plain": [
       "     Unit Price  Unit Price Tax  Total Discounts  Total Owed  \\\n",
       "0       6205.36          744.64              0.0      6950.0   \n",
       "1        226.27           40.73              0.0       267.0   \n",
       "2        168.64           30.36              0.0       199.0   \n",
       "3         79.46            9.54              0.0        89.0   \n",
       "4        197.46           35.54              0.0       233.0   \n",
       "..          ...             ...              ...         ...   \n",
       "108     1057.14           52.86           -111.0       999.0   \n",
       "109     9477.73          521.27              0.0      9999.0   \n",
       "110      319.00            0.00              0.0       389.0   \n",
       "111       99.00            0.00              0.0       149.0   \n",
       "112      284.76           14.24              0.0       339.0   \n",
       "\n",
       "     Shipment Item Subtotal  Shipment Item Subtotal Tax  \n",
       "0                   6205.36                      744.64  \n",
       "1                    226.27                       40.73  \n",
       "2                    366.10                       65.90  \n",
       "3                     79.46                        9.54  \n",
       "4                    366.10                       65.90  \n",
       "..                      ...                         ...  \n",
       "108                 1057.14                       52.86  \n",
       "109                 9477.73                      521.27  \n",
       "110                  319.00                        0.00  \n",
       "111                   99.00                        0.00  \n",
       "112                  284.76                       14.24  \n",
       "\n",
       "[113 rows x 6 columns]"
      ]
     },
     "execution_count": 14,
     "metadata": {},
     "output_type": "execute_result"
    }
   ],
   "source": [
    "feature_cleaner(feature_list=features_to_float,dataset=orders_df)"
   ]
  },
  {
   "cell_type": "code",
   "execution_count": 15,
   "id": "6bc1a6c3",
   "metadata": {
    "execution": {
     "iopub.execute_input": "2023-03-31T12:06:15.181877Z",
     "iopub.status.busy": "2023-03-31T12:06:15.181461Z",
     "iopub.status.idle": "2023-03-31T12:06:15.217466Z",
     "shell.execute_reply": "2023-03-31T12:06:15.216118Z"
    },
    "papermill": {
     "duration": 0.054485,
     "end_time": "2023-03-31T12:06:15.220235",
     "exception": false,
     "start_time": "2023-03-31T12:06:15.165750",
     "status": "completed"
    },
    "tags": []
   },
   "outputs": [],
   "source": [
    "orders_df['Ship Date'] = pd.to_datetime(orders_df['Ship Date'])\n",
    "orders_df['Order Date'] = pd.to_datetime(orders_df['Order Date'])"
   ]
  },
  {
   "cell_type": "code",
   "execution_count": 16,
   "id": "6707b5b1",
   "metadata": {
    "execution": {
     "iopub.execute_input": "2023-03-31T12:06:15.251823Z",
     "iopub.status.busy": "2023-03-31T12:06:15.251350Z",
     "iopub.status.idle": "2023-03-31T12:06:15.264869Z",
     "shell.execute_reply": "2023-03-31T12:06:15.263728Z"
    },
    "papermill": {
     "duration": 0.032053,
     "end_time": "2023-03-31T12:06:15.267255",
     "exception": false,
     "start_time": "2023-03-31T12:06:15.235202",
     "status": "completed"
    },
    "tags": []
   },
   "outputs": [],
   "source": [
    "orders_df['Order Date'] = pd.to_datetime(orders_df['Order Date']).dt.tz_localize(None)\n",
    "orders_df['Ship Date'] = pd.to_datetime(orders_df['Ship Date']).dt.tz_localize(None)"
   ]
  },
  {
   "cell_type": "code",
   "execution_count": 17,
   "id": "ad97cfe5",
   "metadata": {
    "execution": {
     "iopub.execute_input": "2023-03-31T12:06:15.298676Z",
     "iopub.status.busy": "2023-03-31T12:06:15.298228Z",
     "iopub.status.idle": "2023-03-31T12:06:15.314386Z",
     "shell.execute_reply": "2023-03-31T12:06:15.312840Z"
    },
    "papermill": {
     "duration": 0.035619,
     "end_time": "2023-03-31T12:06:15.317590",
     "exception": false,
     "start_time": "2023-03-31T12:06:15.281971",
     "status": "completed"
    },
    "tags": []
   },
   "outputs": [
    {
     "name": "stdout",
     "output_type": "stream",
     "text": [
      "<class 'pandas.core.frame.DataFrame'>\n",
      "RangeIndex: 113 entries, 0 to 112\n",
      "Data columns (total 19 columns):\n",
      " #   Column                      Non-Null Count  Dtype         \n",
      "---  ------                      --------------  -----         \n",
      " 0   Order ID                    113 non-null    object        \n",
      " 1   Order Date                  113 non-null    datetime64[ns]\n",
      " 2   Currency                    113 non-null    object        \n",
      " 3   Unit Price                  113 non-null    float64       \n",
      " 4   Unit Price Tax              113 non-null    float64       \n",
      " 5   Shipping Charge             113 non-null    float64       \n",
      " 6   Total Discounts             113 non-null    float64       \n",
      " 7   Total Owed                  113 non-null    float64       \n",
      " 8   Shipment Item Subtotal      86 non-null     float64       \n",
      " 9   Shipment Item Subtotal Tax  86 non-null     float64       \n",
      " 10  ASIN                        113 non-null    object        \n",
      " 11  Product Condition           113 non-null    object        \n",
      " 12  Quantity                    113 non-null    int64         \n",
      " 13  Payment Instrument Type     30 non-null     object        \n",
      " 14  Order Status                113 non-null    object        \n",
      " 15  Shipment Status             86 non-null     object        \n",
      " 16  Ship Date                   86 non-null     datetime64[ns]\n",
      " 17  Shipping Option             89 non-null     object        \n",
      " 18  Product Name                113 non-null    object        \n",
      "dtypes: datetime64[ns](2), float64(7), int64(1), object(9)\n",
      "memory usage: 16.9+ KB\n"
     ]
    }
   ],
   "source": [
    "orders_df.info()"
   ]
  },
  {
   "cell_type": "code",
   "execution_count": 18,
   "id": "9e8ad4dd",
   "metadata": {
    "execution": {
     "iopub.execute_input": "2023-03-31T12:06:15.349008Z",
     "iopub.status.busy": "2023-03-31T12:06:15.348586Z",
     "iopub.status.idle": "2023-03-31T12:06:15.354460Z",
     "shell.execute_reply": "2023-03-31T12:06:15.353097Z"
    },
    "papermill": {
     "duration": 0.024076,
     "end_time": "2023-03-31T12:06:15.356800",
     "exception": false,
     "start_time": "2023-03-31T12:06:15.332724",
     "status": "completed"
    },
    "tags": []
   },
   "outputs": [],
   "source": [
    "def str_shortener(string_list):\n",
    "    new_list = []\n",
    "    for i in range(len(string_list)):\n",
    "        new_list.append(string_list[i][:35])\n",
    "    return new_list"
   ]
  },
  {
   "cell_type": "code",
   "execution_count": 19,
   "id": "3fdde153",
   "metadata": {
    "execution": {
     "iopub.execute_input": "2023-03-31T12:06:15.387533Z",
     "iopub.status.busy": "2023-03-31T12:06:15.387066Z",
     "iopub.status.idle": "2023-03-31T12:06:15.397367Z",
     "shell.execute_reply": "2023-03-31T12:06:15.396290Z"
    },
    "papermill": {
     "duration": 0.028779,
     "end_time": "2023-03-31T12:06:15.400043",
     "exception": false,
     "start_time": "2023-03-31T12:06:15.371264",
     "status": "completed"
    },
    "tags": []
   },
   "outputs": [],
   "source": [
    "product_price = orders_df[['Total Owed','Product Name','Shipment Item Subtotal Tax','Order Date']].sort_values(by='Total Owed', ascending=False) "
   ]
  },
  {
   "cell_type": "code",
   "execution_count": 20,
   "id": "779a03c2",
   "metadata": {
    "execution": {
     "iopub.execute_input": "2023-03-31T12:06:15.431504Z",
     "iopub.status.busy": "2023-03-31T12:06:15.430264Z",
     "iopub.status.idle": "2023-03-31T12:06:15.436145Z",
     "shell.execute_reply": "2023-03-31T12:06:15.435100Z"
    },
    "papermill": {
     "duration": 0.024076,
     "end_time": "2023-03-31T12:06:15.438559",
     "exception": false,
     "start_time": "2023-03-31T12:06:15.414483",
     "status": "completed"
    },
    "tags": []
   },
   "outputs": [],
   "source": [
    "product_name_list = product_price['Product Name'].to_list()"
   ]
  },
  {
   "cell_type": "code",
   "execution_count": 21,
   "id": "1af7c252",
   "metadata": {
    "execution": {
     "iopub.execute_input": "2023-03-31T12:06:15.468957Z",
     "iopub.status.busy": "2023-03-31T12:06:15.468512Z",
     "iopub.status.idle": "2023-03-31T12:06:15.475186Z",
     "shell.execute_reply": "2023-03-31T12:06:15.474175Z"
    },
    "papermill": {
     "duration": 0.024487,
     "end_time": "2023-03-31T12:06:15.477383",
     "exception": false,
     "start_time": "2023-03-31T12:06:15.452896",
     "status": "completed"
    },
    "tags": []
   },
   "outputs": [
    {
     "data": {
      "text/plain": [
       "['Honor 8X (Black, 4GB RAM, 64GB Stor',\n",
       " 'Lenovo Z2 Plus (Black, 64GB)',\n",
       " 'Asus Zenfone 2 Laser 5.5 ZE550KL(Bl',\n",
       " 'Rynox Air GT 4 Jacket - Mesh Motorc',\n",
       " 'Axor Apex Hunter D/V Dull Black Red']"
      ]
     },
     "execution_count": 21,
     "metadata": {},
     "output_type": "execute_result"
    }
   ],
   "source": [
    "shorted_list = str_shortener(product_name_list)\n",
    "shorted_list[:5]"
   ]
  },
  {
   "cell_type": "code",
   "execution_count": 22,
   "id": "c7ddac11",
   "metadata": {
    "execution": {
     "iopub.execute_input": "2023-03-31T12:06:15.508683Z",
     "iopub.status.busy": "2023-03-31T12:06:15.508222Z",
     "iopub.status.idle": "2023-03-31T12:06:15.517155Z",
     "shell.execute_reply": "2023-03-31T12:06:15.515761Z"
    },
    "papermill": {
     "duration": 0.027624,
     "end_time": "2023-03-31T12:06:15.519819",
     "exception": false,
     "start_time": "2023-03-31T12:06:15.492195",
     "status": "completed"
    },
    "tags": []
   },
   "outputs": [],
   "source": [
    "product_price['shorted_names'] = shorted_list\n",
    "product_price = product_price[product_price['Total Owed'] > 0]\n",
    "product_price.rename({'Total Owed':'Price','Shipment Item Subtotal Tax':'Tax'},axis=1,inplace=True)"
   ]
  },
  {
   "cell_type": "code",
   "execution_count": 23,
   "id": "9972f2c8",
   "metadata": {
    "execution": {
     "iopub.execute_input": "2023-03-31T12:06:15.550294Z",
     "iopub.status.busy": "2023-03-31T12:06:15.549880Z",
     "iopub.status.idle": "2023-03-31T12:06:15.564690Z",
     "shell.execute_reply": "2023-03-31T12:06:15.563411Z"
    },
    "papermill": {
     "duration": 0.033028,
     "end_time": "2023-03-31T12:06:15.567256",
     "exception": false,
     "start_time": "2023-03-31T12:06:15.534228",
     "status": "completed"
    },
    "tags": []
   },
   "outputs": [
    {
     "data": {
      "text/html": [
       "<div>\n",
       "<style scoped>\n",
       "    .dataframe tbody tr th:only-of-type {\n",
       "        vertical-align: middle;\n",
       "    }\n",
       "\n",
       "    .dataframe tbody tr th {\n",
       "        vertical-align: top;\n",
       "    }\n",
       "\n",
       "    .dataframe thead th {\n",
       "        text-align: right;\n",
       "    }\n",
       "</style>\n",
       "<table border=\"1\" class=\"dataframe\">\n",
       "  <thead>\n",
       "    <tr style=\"text-align: right;\">\n",
       "      <th></th>\n",
       "      <th>Price</th>\n",
       "      <th>Product Name</th>\n",
       "      <th>Tax</th>\n",
       "      <th>Order Date</th>\n",
       "      <th>shorted_names</th>\n",
       "    </tr>\n",
       "  </thead>\n",
       "  <tbody>\n",
       "    <tr>\n",
       "      <th>79</th>\n",
       "      <td>14999.0</td>\n",
       "      <td>Honor 8X (Black, 4GB RAM, 64GB Storage)</td>\n",
       "      <td>1607.04</td>\n",
       "      <td>2018-10-28 12:43:59</td>\n",
       "      <td>Honor 8X (Black, 4GB RAM, 64GB Stor</td>\n",
       "    </tr>\n",
       "    <tr>\n",
       "      <th>104</th>\n",
       "      <td>12499.0</td>\n",
       "      <td>Lenovo Z2 Plus (Black, 64GB)</td>\n",
       "      <td>1339.18</td>\n",
       "      <td>2017-07-24 16:09:05</td>\n",
       "      <td>Lenovo Z2 Plus (Black, 64GB)</td>\n",
       "    </tr>\n",
       "    <tr>\n",
       "      <th>109</th>\n",
       "      <td>9999.0</td>\n",
       "      <td>Asus Zenfone 2 Laser 5.5 ZE550KL(Black, 3 GB R...</td>\n",
       "      <td>521.27</td>\n",
       "      <td>2017-05-23 07:23:49</td>\n",
       "      <td>Asus Zenfone 2 Laser 5.5 ZE550KL(Bl</td>\n",
       "    </tr>\n",
       "    <tr>\n",
       "      <th>0</th>\n",
       "      <td>6950.0</td>\n",
       "      <td>Rynox Air GT 4 Jacket - Mesh Motorcycle Riding...</td>\n",
       "      <td>744.64</td>\n",
       "      <td>2023-03-24 02:28:49</td>\n",
       "      <td>Rynox Air GT 4 Jacket - Mesh Motorc</td>\n",
       "    </tr>\n",
       "    <tr>\n",
       "      <th>16</th>\n",
       "      <td>4856.0</td>\n",
       "      <td>Axor Apex Hunter D/V Dull Black Red Helmet-M</td>\n",
       "      <td>740.74</td>\n",
       "      <td>2022-11-28 10:25:56</td>\n",
       "      <td>Axor Apex Hunter D/V Dull Black Red</td>\n",
       "    </tr>\n",
       "  </tbody>\n",
       "</table>\n",
       "</div>"
      ],
      "text/plain": [
       "       Price                                       Product Name      Tax  \\\n",
       "79   14999.0            Honor 8X (Black, 4GB RAM, 64GB Storage)  1607.04   \n",
       "104  12499.0                       Lenovo Z2 Plus (Black, 64GB)  1339.18   \n",
       "109   9999.0  Asus Zenfone 2 Laser 5.5 ZE550KL(Black, 3 GB R...   521.27   \n",
       "0     6950.0  Rynox Air GT 4 Jacket - Mesh Motorcycle Riding...   744.64   \n",
       "16    4856.0       Axor Apex Hunter D/V Dull Black Red Helmet-M   740.74   \n",
       "\n",
       "             Order Date                        shorted_names  \n",
       "79  2018-10-28 12:43:59  Honor 8X (Black, 4GB RAM, 64GB Stor  \n",
       "104 2017-07-24 16:09:05         Lenovo Z2 Plus (Black, 64GB)  \n",
       "109 2017-05-23 07:23:49  Asus Zenfone 2 Laser 5.5 ZE550KL(Bl  \n",
       "0   2023-03-24 02:28:49  Rynox Air GT 4 Jacket - Mesh Motorc  \n",
       "16  2022-11-28 10:25:56  Axor Apex Hunter D/V Dull Black Red  "
      ]
     },
     "execution_count": 23,
     "metadata": {},
     "output_type": "execute_result"
    }
   ],
   "source": [
    "product_price.head()"
   ]
  },
  {
   "cell_type": "markdown",
   "id": "4e60d38d",
   "metadata": {
    "papermill": {
     "duration": 0.014298,
     "end_time": "2023-03-31T12:06:15.596224",
     "exception": false,
     "start_time": "2023-03-31T12:06:15.581926",
     "status": "completed"
    },
    "tags": []
   },
   "source": [
    "### EDA"
   ]
  },
  {
   "cell_type": "code",
   "execution_count": 24,
   "id": "c75a406d",
   "metadata": {
    "execution": {
     "iopub.execute_input": "2023-03-31T12:06:15.627038Z",
     "iopub.status.busy": "2023-03-31T12:06:15.626621Z",
     "iopub.status.idle": "2023-03-31T12:06:17.621654Z",
     "shell.execute_reply": "2023-03-31T12:06:17.620254Z"
    },
    "papermill": {
     "duration": 2.014143,
     "end_time": "2023-03-31T12:06:17.624871",
     "exception": false,
     "start_time": "2023-03-31T12:06:15.610728",
     "status": "completed"
    },
    "tags": []
   },
   "outputs": [],
   "source": [
    "import plotly.express as px\n",
    "import matplotlib.pyplot as plt"
   ]
  },
  {
   "cell_type": "markdown",
   "id": "803bf13b",
   "metadata": {
    "papermill": {
     "duration": 0.014988,
     "end_time": "2023-03-31T12:06:17.654546",
     "exception": false,
     "start_time": "2023-03-31T12:06:17.639558",
     "status": "completed"
    },
    "tags": []
   },
   "source": [
    "### Top 10 Products"
   ]
  },
  {
   "cell_type": "code",
   "execution_count": 25,
   "id": "17d98061",
   "metadata": {
    "execution": {
     "iopub.execute_input": "2023-03-31T12:06:17.686392Z",
     "iopub.status.busy": "2023-03-31T12:06:17.685756Z",
     "iopub.status.idle": "2023-03-31T12:06:19.188911Z",
     "shell.execute_reply": "2023-03-31T12:06:19.187730Z"
    },
    "papermill": {
     "duration": 1.521822,
     "end_time": "2023-03-31T12:06:19.191497",
     "exception": false,
     "start_time": "2023-03-31T12:06:17.669675",
     "status": "completed"
    },
    "tags": []
   },
   "outputs": [
    {
     "data": {
      "text/html": [
       "        <script type=\"text/javascript\">\n",
       "        window.PlotlyConfig = {MathJaxConfig: 'local'};\n",
       "        if (window.MathJax && window.MathJax.Hub && window.MathJax.Hub.Config) {window.MathJax.Hub.Config({SVG: {font: \"STIX-Web\"}});}\n",
       "        if (typeof require !== 'undefined') {\n",
       "        require.undef(\"plotly\");\n",
       "        requirejs.config({\n",
       "            paths: {\n",
       "                'plotly': ['https://cdn.plot.ly/plotly-2.18.0.min']\n",
       "            }\n",
       "        });\n",
       "        require(['plotly'], function(Plotly) {\n",
       "            window._Plotly = Plotly;\n",
       "        });\n",
       "        }\n",
       "        </script>\n",
       "        "
      ]
     },
     "metadata": {},
     "output_type": "display_data"
    },
    {
     "data": {
      "text/html": [
       "<div>                            <div id=\"e7af67a1-ae0d-4edb-bd88-1573812b2109\" class=\"plotly-graph-div\" style=\"height:525px; width:100%;\"></div>            <script type=\"text/javascript\">                require([\"plotly\"], function(Plotly) {                    window.PLOTLYENV=window.PLOTLYENV || {};                                    if (document.getElementById(\"e7af67a1-ae0d-4edb-bd88-1573812b2109\")) {                    Plotly.newPlot(                        \"e7af67a1-ae0d-4edb-bd88-1573812b2109\",                        [{\"customdata\":[[\"Honor 8X (Black, 4GB RAM, 64GB Storage)\"],[\"Lenovo Z2 Plus (Black, 64GB)\"],[\"Asus Zenfone 2 Laser 5.5 ZE550KL(Black, 3 GB RAM, 16 GB)\"],[\"Rynox Air GT 4 Jacket - Mesh Motorcycle Riding Jacket with Impact Protection and Abrasion Resistance - Black White | Small\"],[\"Axor Apex Hunter D/V Dull Black Red Helmet-M\"],[\"ALFA AWUS036NEH Long Range WIRELESS 802.11b/g/n Wi-Fi USBAdapter\"],[\"Casio Youth-Analog Black Dial Men's Watch-MCW-100H-9A2VDF (AD215)\"],[\"Peter England Men's Blue Blazer Slim (PIBZSNSBS78506_MediumBlue80_44)\"],[\"Rynox Air GT Riding Gloves (Grey Red, M)\"],[\"Butterfly Jet Elite Mixer Grinder, 750W, 4 Jars (Grey)\"]],\"domain\":{\"x\":[0.0,1.0],\"y\":[0.0,1.0]},\"hole\":0.5,\"hovertemplate\":\"shorted_names=%{label}<br>Price=%{value}<br>Product Name=%{customdata[0]}<extra></extra>\",\"labels\":[\"Honor 8X (Black, 4GB RAM, 64GB Stor\",\"Lenovo Z2 Plus (Black, 64GB)\",\"Asus Zenfone 2 Laser 5.5 ZE550KL(Bl\",\"Rynox Air GT 4 Jacket - Mesh Motorc\",\"Axor Apex Hunter D/V Dull Black Red\",\"ALFA AWUS036NEH Long Range WIRELESS\",\"Casio Youth-Analog Black Dial Men's\",\"Peter England Men's Blue Blazer Sli\",\"Rynox Air GT Riding Gloves (Grey Re\",\"Butterfly Jet Elite Mixer Grinder, \"],\"legendgroup\":\"\",\"name\":\"\",\"showlegend\":true,\"values\":[14999.0,12499.0,9999.0,6950.0,4856.0,3625.0,3599.0,2969.0,2750.0,2599.0],\"type\":\"pie\"}],                        {\"template\":{\"data\":{\"histogram2dcontour\":[{\"type\":\"histogram2dcontour\",\"colorbar\":{\"outlinewidth\":0,\"ticks\":\"\"},\"colorscale\":[[0.0,\"#0d0887\"],[0.1111111111111111,\"#46039f\"],[0.2222222222222222,\"#7201a8\"],[0.3333333333333333,\"#9c179e\"],[0.4444444444444444,\"#bd3786\"],[0.5555555555555556,\"#d8576b\"],[0.6666666666666666,\"#ed7953\"],[0.7777777777777778,\"#fb9f3a\"],[0.8888888888888888,\"#fdca26\"],[1.0,\"#f0f921\"]]}],\"choropleth\":[{\"type\":\"choropleth\",\"colorbar\":{\"outlinewidth\":0,\"ticks\":\"\"}}],\"histogram2d\":[{\"type\":\"histogram2d\",\"colorbar\":{\"outlinewidth\":0,\"ticks\":\"\"},\"colorscale\":[[0.0,\"#0d0887\"],[0.1111111111111111,\"#46039f\"],[0.2222222222222222,\"#7201a8\"],[0.3333333333333333,\"#9c179e\"],[0.4444444444444444,\"#bd3786\"],[0.5555555555555556,\"#d8576b\"],[0.6666666666666666,\"#ed7953\"],[0.7777777777777778,\"#fb9f3a\"],[0.8888888888888888,\"#fdca26\"],[1.0,\"#f0f921\"]]}],\"heatmap\":[{\"type\":\"heatmap\",\"colorbar\":{\"outlinewidth\":0,\"ticks\":\"\"},\"colorscale\":[[0.0,\"#0d0887\"],[0.1111111111111111,\"#46039f\"],[0.2222222222222222,\"#7201a8\"],[0.3333333333333333,\"#9c179e\"],[0.4444444444444444,\"#bd3786\"],[0.5555555555555556,\"#d8576b\"],[0.6666666666666666,\"#ed7953\"],[0.7777777777777778,\"#fb9f3a\"],[0.8888888888888888,\"#fdca26\"],[1.0,\"#f0f921\"]]}],\"heatmapgl\":[{\"type\":\"heatmapgl\",\"colorbar\":{\"outlinewidth\":0,\"ticks\":\"\"},\"colorscale\":[[0.0,\"#0d0887\"],[0.1111111111111111,\"#46039f\"],[0.2222222222222222,\"#7201a8\"],[0.3333333333333333,\"#9c179e\"],[0.4444444444444444,\"#bd3786\"],[0.5555555555555556,\"#d8576b\"],[0.6666666666666666,\"#ed7953\"],[0.7777777777777778,\"#fb9f3a\"],[0.8888888888888888,\"#fdca26\"],[1.0,\"#f0f921\"]]}],\"contourcarpet\":[{\"type\":\"contourcarpet\",\"colorbar\":{\"outlinewidth\":0,\"ticks\":\"\"}}],\"contour\":[{\"type\":\"contour\",\"colorbar\":{\"outlinewidth\":0,\"ticks\":\"\"},\"colorscale\":[[0.0,\"#0d0887\"],[0.1111111111111111,\"#46039f\"],[0.2222222222222222,\"#7201a8\"],[0.3333333333333333,\"#9c179e\"],[0.4444444444444444,\"#bd3786\"],[0.5555555555555556,\"#d8576b\"],[0.6666666666666666,\"#ed7953\"],[0.7777777777777778,\"#fb9f3a\"],[0.8888888888888888,\"#fdca26\"],[1.0,\"#f0f921\"]]}],\"surface\":[{\"type\":\"surface\",\"colorbar\":{\"outlinewidth\":0,\"ticks\":\"\"},\"colorscale\":[[0.0,\"#0d0887\"],[0.1111111111111111,\"#46039f\"],[0.2222222222222222,\"#7201a8\"],[0.3333333333333333,\"#9c179e\"],[0.4444444444444444,\"#bd3786\"],[0.5555555555555556,\"#d8576b\"],[0.6666666666666666,\"#ed7953\"],[0.7777777777777778,\"#fb9f3a\"],[0.8888888888888888,\"#fdca26\"],[1.0,\"#f0f921\"]]}],\"mesh3d\":[{\"type\":\"mesh3d\",\"colorbar\":{\"outlinewidth\":0,\"ticks\":\"\"}}],\"scatter\":[{\"fillpattern\":{\"fillmode\":\"overlay\",\"size\":10,\"solidity\":0.2},\"type\":\"scatter\"}],\"parcoords\":[{\"type\":\"parcoords\",\"line\":{\"colorbar\":{\"outlinewidth\":0,\"ticks\":\"\"}}}],\"scatterpolargl\":[{\"type\":\"scatterpolargl\",\"marker\":{\"colorbar\":{\"outlinewidth\":0,\"ticks\":\"\"}}}],\"bar\":[{\"error_x\":{\"color\":\"#2a3f5f\"},\"error_y\":{\"color\":\"#2a3f5f\"},\"marker\":{\"line\":{\"color\":\"#E5ECF6\",\"width\":0.5},\"pattern\":{\"fillmode\":\"overlay\",\"size\":10,\"solidity\":0.2}},\"type\":\"bar\"}],\"scattergeo\":[{\"type\":\"scattergeo\",\"marker\":{\"colorbar\":{\"outlinewidth\":0,\"ticks\":\"\"}}}],\"scatterpolar\":[{\"type\":\"scatterpolar\",\"marker\":{\"colorbar\":{\"outlinewidth\":0,\"ticks\":\"\"}}}],\"histogram\":[{\"marker\":{\"pattern\":{\"fillmode\":\"overlay\",\"size\":10,\"solidity\":0.2}},\"type\":\"histogram\"}],\"scattergl\":[{\"type\":\"scattergl\",\"marker\":{\"colorbar\":{\"outlinewidth\":0,\"ticks\":\"\"}}}],\"scatter3d\":[{\"type\":\"scatter3d\",\"line\":{\"colorbar\":{\"outlinewidth\":0,\"ticks\":\"\"}},\"marker\":{\"colorbar\":{\"outlinewidth\":0,\"ticks\":\"\"}}}],\"scattermapbox\":[{\"type\":\"scattermapbox\",\"marker\":{\"colorbar\":{\"outlinewidth\":0,\"ticks\":\"\"}}}],\"scatterternary\":[{\"type\":\"scatterternary\",\"marker\":{\"colorbar\":{\"outlinewidth\":0,\"ticks\":\"\"}}}],\"scattercarpet\":[{\"type\":\"scattercarpet\",\"marker\":{\"colorbar\":{\"outlinewidth\":0,\"ticks\":\"\"}}}],\"carpet\":[{\"aaxis\":{\"endlinecolor\":\"#2a3f5f\",\"gridcolor\":\"white\",\"linecolor\":\"white\",\"minorgridcolor\":\"white\",\"startlinecolor\":\"#2a3f5f\"},\"baxis\":{\"endlinecolor\":\"#2a3f5f\",\"gridcolor\":\"white\",\"linecolor\":\"white\",\"minorgridcolor\":\"white\",\"startlinecolor\":\"#2a3f5f\"},\"type\":\"carpet\"}],\"table\":[{\"cells\":{\"fill\":{\"color\":\"#EBF0F8\"},\"line\":{\"color\":\"white\"}},\"header\":{\"fill\":{\"color\":\"#C8D4E3\"},\"line\":{\"color\":\"white\"}},\"type\":\"table\"}],\"barpolar\":[{\"marker\":{\"line\":{\"color\":\"#E5ECF6\",\"width\":0.5},\"pattern\":{\"fillmode\":\"overlay\",\"size\":10,\"solidity\":0.2}},\"type\":\"barpolar\"}],\"pie\":[{\"automargin\":true,\"type\":\"pie\"}]},\"layout\":{\"autotypenumbers\":\"strict\",\"colorway\":[\"#636efa\",\"#EF553B\",\"#00cc96\",\"#ab63fa\",\"#FFA15A\",\"#19d3f3\",\"#FF6692\",\"#B6E880\",\"#FF97FF\",\"#FECB52\"],\"font\":{\"color\":\"#2a3f5f\"},\"hovermode\":\"closest\",\"hoverlabel\":{\"align\":\"left\"},\"paper_bgcolor\":\"white\",\"plot_bgcolor\":\"#E5ECF6\",\"polar\":{\"bgcolor\":\"#E5ECF6\",\"angularaxis\":{\"gridcolor\":\"white\",\"linecolor\":\"white\",\"ticks\":\"\"},\"radialaxis\":{\"gridcolor\":\"white\",\"linecolor\":\"white\",\"ticks\":\"\"}},\"ternary\":{\"bgcolor\":\"#E5ECF6\",\"aaxis\":{\"gridcolor\":\"white\",\"linecolor\":\"white\",\"ticks\":\"\"},\"baxis\":{\"gridcolor\":\"white\",\"linecolor\":\"white\",\"ticks\":\"\"},\"caxis\":{\"gridcolor\":\"white\",\"linecolor\":\"white\",\"ticks\":\"\"}},\"coloraxis\":{\"colorbar\":{\"outlinewidth\":0,\"ticks\":\"\"}},\"colorscale\":{\"sequential\":[[0.0,\"#0d0887\"],[0.1111111111111111,\"#46039f\"],[0.2222222222222222,\"#7201a8\"],[0.3333333333333333,\"#9c179e\"],[0.4444444444444444,\"#bd3786\"],[0.5555555555555556,\"#d8576b\"],[0.6666666666666666,\"#ed7953\"],[0.7777777777777778,\"#fb9f3a\"],[0.8888888888888888,\"#fdca26\"],[1.0,\"#f0f921\"]],\"sequentialminus\":[[0.0,\"#0d0887\"],[0.1111111111111111,\"#46039f\"],[0.2222222222222222,\"#7201a8\"],[0.3333333333333333,\"#9c179e\"],[0.4444444444444444,\"#bd3786\"],[0.5555555555555556,\"#d8576b\"],[0.6666666666666666,\"#ed7953\"],[0.7777777777777778,\"#fb9f3a\"],[0.8888888888888888,\"#fdca26\"],[1.0,\"#f0f921\"]],\"diverging\":[[0,\"#8e0152\"],[0.1,\"#c51b7d\"],[0.2,\"#de77ae\"],[0.3,\"#f1b6da\"],[0.4,\"#fde0ef\"],[0.5,\"#f7f7f7\"],[0.6,\"#e6f5d0\"],[0.7,\"#b8e186\"],[0.8,\"#7fbc41\"],[0.9,\"#4d9221\"],[1,\"#276419\"]]},\"xaxis\":{\"gridcolor\":\"white\",\"linecolor\":\"white\",\"ticks\":\"\",\"title\":{\"standoff\":15},\"zerolinecolor\":\"white\",\"automargin\":true,\"zerolinewidth\":2},\"yaxis\":{\"gridcolor\":\"white\",\"linecolor\":\"white\",\"ticks\":\"\",\"title\":{\"standoff\":15},\"zerolinecolor\":\"white\",\"automargin\":true,\"zerolinewidth\":2},\"scene\":{\"xaxis\":{\"backgroundcolor\":\"#E5ECF6\",\"gridcolor\":\"white\",\"linecolor\":\"white\",\"showbackground\":true,\"ticks\":\"\",\"zerolinecolor\":\"white\",\"gridwidth\":2},\"yaxis\":{\"backgroundcolor\":\"#E5ECF6\",\"gridcolor\":\"white\",\"linecolor\":\"white\",\"showbackground\":true,\"ticks\":\"\",\"zerolinecolor\":\"white\",\"gridwidth\":2},\"zaxis\":{\"backgroundcolor\":\"#E5ECF6\",\"gridcolor\":\"white\",\"linecolor\":\"white\",\"showbackground\":true,\"ticks\":\"\",\"zerolinecolor\":\"white\",\"gridwidth\":2}},\"shapedefaults\":{\"line\":{\"color\":\"#2a3f5f\"}},\"annotationdefaults\":{\"arrowcolor\":\"#2a3f5f\",\"arrowhead\":0,\"arrowwidth\":1},\"geo\":{\"bgcolor\":\"white\",\"landcolor\":\"#E5ECF6\",\"subunitcolor\":\"white\",\"showland\":true,\"showlakes\":true,\"lakecolor\":\"white\"},\"title\":{\"x\":0.05},\"mapbox\":{\"style\":\"light\"}}},\"legend\":{\"tracegroupgap\":0},\"margin\":{\"t\":60}},                        {\"responsive\": true}                    ).then(function(){\n",
       "                            \n",
       "var gd = document.getElementById('e7af67a1-ae0d-4edb-bd88-1573812b2109');\n",
       "var x = new MutationObserver(function (mutations, observer) {{\n",
       "        var display = window.getComputedStyle(gd).display;\n",
       "        if (!display || display === 'none') {{\n",
       "            console.log([gd, 'removed!']);\n",
       "            Plotly.purge(gd);\n",
       "            observer.disconnect();\n",
       "        }}\n",
       "}});\n",
       "\n",
       "// Listen for the removal of the full notebook cells\n",
       "var notebookContainer = gd.closest('#notebook-container');\n",
       "if (notebookContainer) {{\n",
       "    x.observe(notebookContainer, {childList: true});\n",
       "}}\n",
       "\n",
       "// Listen for the clearing of the current output cell\n",
       "var outputEl = gd.closest('.output');\n",
       "if (outputEl) {{\n",
       "    x.observe(outputEl, {childList: true});\n",
       "}}\n",
       "\n",
       "                        })                };                });            </script>        </div>"
      ]
     },
     "metadata": {},
     "output_type": "display_data"
    }
   ],
   "source": [
    "px.pie(data_frame=product_price[:10],values='Price',hover_data=['Product Name'],names='shorted_names',hole=0.5)"
   ]
  },
  {
   "cell_type": "markdown",
   "id": "85766a47",
   "metadata": {
    "papermill": {
     "duration": 0.014514,
     "end_time": "2023-03-31T12:06:19.221765",
     "exception": false,
     "start_time": "2023-03-31T12:06:19.207251",
     "status": "completed"
    },
    "tags": []
   },
   "source": [
    "#### Inference \n",
    "Mobile phones are the most costly products in the dataset, while appliances and apparels comes later\n",
    "\n",
    "---"
   ]
  },
  {
   "cell_type": "markdown",
   "id": "5f00c590",
   "metadata": {
    "papermill": {
     "duration": 0.014686,
     "end_time": "2023-03-31T12:06:19.251602",
     "exception": false,
     "start_time": "2023-03-31T12:06:19.236916",
     "status": "completed"
    },
    "tags": []
   },
   "source": [
    "### Last 10 Products"
   ]
  },
  {
   "cell_type": "code",
   "execution_count": 26,
   "id": "7405fc11",
   "metadata": {
    "execution": {
     "iopub.execute_input": "2023-03-31T12:06:19.283154Z",
     "iopub.status.busy": "2023-03-31T12:06:19.282712Z",
     "iopub.status.idle": "2023-03-31T12:06:19.335782Z",
     "shell.execute_reply": "2023-03-31T12:06:19.334665Z"
    },
    "papermill": {
     "duration": 0.071981,
     "end_time": "2023-03-31T12:06:19.338455",
     "exception": false,
     "start_time": "2023-03-31T12:06:19.266474",
     "status": "completed"
    },
    "tags": []
   },
   "outputs": [
    {
     "data": {
      "text/html": [
       "<div>                            <div id=\"3ffc6817-782f-489c-810f-f4608acb851d\" class=\"plotly-graph-div\" style=\"height:525px; width:100%;\"></div>            <script type=\"text/javascript\">                require([\"plotly\"], function(Plotly) {                    window.PLOTLYENV=window.PLOTLYENV || {};                                    if (document.getElementById(\"3ffc6817-782f-489c-810f-f4608acb851d\")) {                    Plotly.newPlot(                        \"3ffc6817-782f-489c-810f-f4608acb851d\",                        [{\"customdata\":[[\"iBall Style 63 Optical Mouse (Black)\"],[\"Dettol Liquid Hand wash Refill Original -1500 ml\"],[\"SWADESI STUFF Quartz Movement Analogue Black Dial Leather Strap Lord Shiva Mahadev Men's Watch\"],[\"Casotec Metal Back TPU Back Case Cover for Micromax Canvas Knight A350 - Brown\"],[\"SFT Cinnamon (Dalchini Stick) 200 Gm\"],[\"Amazon Pay balance: Money\"],[\"Mobile Prepaid Recharge\"],[\"Stewit Universal Motorcycle/Cycle Chain Cleaner Brush for Bikes (Blue)\"],[\"Mobile Prepaid Recharge\"],[\"Mobile Prepaid Recharge\"],[\"Mobile Prepaid Recharge\"],[\"Mobile Prepaid Recharge\"],[\"Mobile Prepaid Recharge\"],[\"Mobile Prepaid Recharge\"],[\"Mobile Prepaid Recharge\"],[\"Mobile Prepaid Recharge\"],[\"Mobile Prepaid Recharge\"],[\"Amazon Pay balance: Credits\"],[\"Amazon Pay balance: Money (Cash-load)\"]],\"domain\":{\"x\":[0.0,1.0],\"y\":[0.0,1.0]},\"hole\":0.5,\"hovertemplate\":\"shorted_names=%{label}<br>Price=%{value}<br>Product Name=%{customdata[0]}<extra></extra>\",\"labels\":[\"iBall Style 63 Optical Mouse (Black\",\"Dettol Liquid Hand wash Refill Orig\",\"SWADESI STUFF Quartz Movement Analo\",\"Casotec Metal Back TPU Back Case Co\",\"SFT Cinnamon (Dalchini Stick) 200 G\",\"Amazon Pay balance: Money\",\"Mobile Prepaid Recharge\",\"Stewit Universal Motorcycle/Cycle C\",\"Mobile Prepaid Recharge\",\"Mobile Prepaid Recharge\",\"Mobile Prepaid Recharge\",\"Mobile Prepaid Recharge\",\"Mobile Prepaid Recharge\",\"Mobile Prepaid Recharge\",\"Mobile Prepaid Recharge\",\"Mobile Prepaid Recharge\",\"Mobile Prepaid Recharge\",\"Amazon Pay balance: Credits\",\"Amazon Pay balance: Money (Cash-loa\"],\"legendgroup\":\"\",\"name\":\"\",\"showlegend\":true,\"values\":[189.0,178.0,159.0,149.0,113.0,100.0,100.0,89.0,49.0,49.0,49.0,49.0,40.0,30.0,30.0,30.0,18.0,10.0,1.0],\"type\":\"pie\"}],                        {\"template\":{\"data\":{\"histogram2dcontour\":[{\"type\":\"histogram2dcontour\",\"colorbar\":{\"outlinewidth\":0,\"ticks\":\"\"},\"colorscale\":[[0.0,\"#0d0887\"],[0.1111111111111111,\"#46039f\"],[0.2222222222222222,\"#7201a8\"],[0.3333333333333333,\"#9c179e\"],[0.4444444444444444,\"#bd3786\"],[0.5555555555555556,\"#d8576b\"],[0.6666666666666666,\"#ed7953\"],[0.7777777777777778,\"#fb9f3a\"],[0.8888888888888888,\"#fdca26\"],[1.0,\"#f0f921\"]]}],\"choropleth\":[{\"type\":\"choropleth\",\"colorbar\":{\"outlinewidth\":0,\"ticks\":\"\"}}],\"histogram2d\":[{\"type\":\"histogram2d\",\"colorbar\":{\"outlinewidth\":0,\"ticks\":\"\"},\"colorscale\":[[0.0,\"#0d0887\"],[0.1111111111111111,\"#46039f\"],[0.2222222222222222,\"#7201a8\"],[0.3333333333333333,\"#9c179e\"],[0.4444444444444444,\"#bd3786\"],[0.5555555555555556,\"#d8576b\"],[0.6666666666666666,\"#ed7953\"],[0.7777777777777778,\"#fb9f3a\"],[0.8888888888888888,\"#fdca26\"],[1.0,\"#f0f921\"]]}],\"heatmap\":[{\"type\":\"heatmap\",\"colorbar\":{\"outlinewidth\":0,\"ticks\":\"\"},\"colorscale\":[[0.0,\"#0d0887\"],[0.1111111111111111,\"#46039f\"],[0.2222222222222222,\"#7201a8\"],[0.3333333333333333,\"#9c179e\"],[0.4444444444444444,\"#bd3786\"],[0.5555555555555556,\"#d8576b\"],[0.6666666666666666,\"#ed7953\"],[0.7777777777777778,\"#fb9f3a\"],[0.8888888888888888,\"#fdca26\"],[1.0,\"#f0f921\"]]}],\"heatmapgl\":[{\"type\":\"heatmapgl\",\"colorbar\":{\"outlinewidth\":0,\"ticks\":\"\"},\"colorscale\":[[0.0,\"#0d0887\"],[0.1111111111111111,\"#46039f\"],[0.2222222222222222,\"#7201a8\"],[0.3333333333333333,\"#9c179e\"],[0.4444444444444444,\"#bd3786\"],[0.5555555555555556,\"#d8576b\"],[0.6666666666666666,\"#ed7953\"],[0.7777777777777778,\"#fb9f3a\"],[0.8888888888888888,\"#fdca26\"],[1.0,\"#f0f921\"]]}],\"contourcarpet\":[{\"type\":\"contourcarpet\",\"colorbar\":{\"outlinewidth\":0,\"ticks\":\"\"}}],\"contour\":[{\"type\":\"contour\",\"colorbar\":{\"outlinewidth\":0,\"ticks\":\"\"},\"colorscale\":[[0.0,\"#0d0887\"],[0.1111111111111111,\"#46039f\"],[0.2222222222222222,\"#7201a8\"],[0.3333333333333333,\"#9c179e\"],[0.4444444444444444,\"#bd3786\"],[0.5555555555555556,\"#d8576b\"],[0.6666666666666666,\"#ed7953\"],[0.7777777777777778,\"#fb9f3a\"],[0.8888888888888888,\"#fdca26\"],[1.0,\"#f0f921\"]]}],\"surface\":[{\"type\":\"surface\",\"colorbar\":{\"outlinewidth\":0,\"ticks\":\"\"},\"colorscale\":[[0.0,\"#0d0887\"],[0.1111111111111111,\"#46039f\"],[0.2222222222222222,\"#7201a8\"],[0.3333333333333333,\"#9c179e\"],[0.4444444444444444,\"#bd3786\"],[0.5555555555555556,\"#d8576b\"],[0.6666666666666666,\"#ed7953\"],[0.7777777777777778,\"#fb9f3a\"],[0.8888888888888888,\"#fdca26\"],[1.0,\"#f0f921\"]]}],\"mesh3d\":[{\"type\":\"mesh3d\",\"colorbar\":{\"outlinewidth\":0,\"ticks\":\"\"}}],\"scatter\":[{\"fillpattern\":{\"fillmode\":\"overlay\",\"size\":10,\"solidity\":0.2},\"type\":\"scatter\"}],\"parcoords\":[{\"type\":\"parcoords\",\"line\":{\"colorbar\":{\"outlinewidth\":0,\"ticks\":\"\"}}}],\"scatterpolargl\":[{\"type\":\"scatterpolargl\",\"marker\":{\"colorbar\":{\"outlinewidth\":0,\"ticks\":\"\"}}}],\"bar\":[{\"error_x\":{\"color\":\"#2a3f5f\"},\"error_y\":{\"color\":\"#2a3f5f\"},\"marker\":{\"line\":{\"color\":\"#E5ECF6\",\"width\":0.5},\"pattern\":{\"fillmode\":\"overlay\",\"size\":10,\"solidity\":0.2}},\"type\":\"bar\"}],\"scattergeo\":[{\"type\":\"scattergeo\",\"marker\":{\"colorbar\":{\"outlinewidth\":0,\"ticks\":\"\"}}}],\"scatterpolar\":[{\"type\":\"scatterpolar\",\"marker\":{\"colorbar\":{\"outlinewidth\":0,\"ticks\":\"\"}}}],\"histogram\":[{\"marker\":{\"pattern\":{\"fillmode\":\"overlay\",\"size\":10,\"solidity\":0.2}},\"type\":\"histogram\"}],\"scattergl\":[{\"type\":\"scattergl\",\"marker\":{\"colorbar\":{\"outlinewidth\":0,\"ticks\":\"\"}}}],\"scatter3d\":[{\"type\":\"scatter3d\",\"line\":{\"colorbar\":{\"outlinewidth\":0,\"ticks\":\"\"}},\"marker\":{\"colorbar\":{\"outlinewidth\":0,\"ticks\":\"\"}}}],\"scattermapbox\":[{\"type\":\"scattermapbox\",\"marker\":{\"colorbar\":{\"outlinewidth\":0,\"ticks\":\"\"}}}],\"scatterternary\":[{\"type\":\"scatterternary\",\"marker\":{\"colorbar\":{\"outlinewidth\":0,\"ticks\":\"\"}}}],\"scattercarpet\":[{\"type\":\"scattercarpet\",\"marker\":{\"colorbar\":{\"outlinewidth\":0,\"ticks\":\"\"}}}],\"carpet\":[{\"aaxis\":{\"endlinecolor\":\"#2a3f5f\",\"gridcolor\":\"white\",\"linecolor\":\"white\",\"minorgridcolor\":\"white\",\"startlinecolor\":\"#2a3f5f\"},\"baxis\":{\"endlinecolor\":\"#2a3f5f\",\"gridcolor\":\"white\",\"linecolor\":\"white\",\"minorgridcolor\":\"white\",\"startlinecolor\":\"#2a3f5f\"},\"type\":\"carpet\"}],\"table\":[{\"cells\":{\"fill\":{\"color\":\"#EBF0F8\"},\"line\":{\"color\":\"white\"}},\"header\":{\"fill\":{\"color\":\"#C8D4E3\"},\"line\":{\"color\":\"white\"}},\"type\":\"table\"}],\"barpolar\":[{\"marker\":{\"line\":{\"color\":\"#E5ECF6\",\"width\":0.5},\"pattern\":{\"fillmode\":\"overlay\",\"size\":10,\"solidity\":0.2}},\"type\":\"barpolar\"}],\"pie\":[{\"automargin\":true,\"type\":\"pie\"}]},\"layout\":{\"autotypenumbers\":\"strict\",\"colorway\":[\"#636efa\",\"#EF553B\",\"#00cc96\",\"#ab63fa\",\"#FFA15A\",\"#19d3f3\",\"#FF6692\",\"#B6E880\",\"#FF97FF\",\"#FECB52\"],\"font\":{\"color\":\"#2a3f5f\"},\"hovermode\":\"closest\",\"hoverlabel\":{\"align\":\"left\"},\"paper_bgcolor\":\"white\",\"plot_bgcolor\":\"#E5ECF6\",\"polar\":{\"bgcolor\":\"#E5ECF6\",\"angularaxis\":{\"gridcolor\":\"white\",\"linecolor\":\"white\",\"ticks\":\"\"},\"radialaxis\":{\"gridcolor\":\"white\",\"linecolor\":\"white\",\"ticks\":\"\"}},\"ternary\":{\"bgcolor\":\"#E5ECF6\",\"aaxis\":{\"gridcolor\":\"white\",\"linecolor\":\"white\",\"ticks\":\"\"},\"baxis\":{\"gridcolor\":\"white\",\"linecolor\":\"white\",\"ticks\":\"\"},\"caxis\":{\"gridcolor\":\"white\",\"linecolor\":\"white\",\"ticks\":\"\"}},\"coloraxis\":{\"colorbar\":{\"outlinewidth\":0,\"ticks\":\"\"}},\"colorscale\":{\"sequential\":[[0.0,\"#0d0887\"],[0.1111111111111111,\"#46039f\"],[0.2222222222222222,\"#7201a8\"],[0.3333333333333333,\"#9c179e\"],[0.4444444444444444,\"#bd3786\"],[0.5555555555555556,\"#d8576b\"],[0.6666666666666666,\"#ed7953\"],[0.7777777777777778,\"#fb9f3a\"],[0.8888888888888888,\"#fdca26\"],[1.0,\"#f0f921\"]],\"sequentialminus\":[[0.0,\"#0d0887\"],[0.1111111111111111,\"#46039f\"],[0.2222222222222222,\"#7201a8\"],[0.3333333333333333,\"#9c179e\"],[0.4444444444444444,\"#bd3786\"],[0.5555555555555556,\"#d8576b\"],[0.6666666666666666,\"#ed7953\"],[0.7777777777777778,\"#fb9f3a\"],[0.8888888888888888,\"#fdca26\"],[1.0,\"#f0f921\"]],\"diverging\":[[0,\"#8e0152\"],[0.1,\"#c51b7d\"],[0.2,\"#de77ae\"],[0.3,\"#f1b6da\"],[0.4,\"#fde0ef\"],[0.5,\"#f7f7f7\"],[0.6,\"#e6f5d0\"],[0.7,\"#b8e186\"],[0.8,\"#7fbc41\"],[0.9,\"#4d9221\"],[1,\"#276419\"]]},\"xaxis\":{\"gridcolor\":\"white\",\"linecolor\":\"white\",\"ticks\":\"\",\"title\":{\"standoff\":15},\"zerolinecolor\":\"white\",\"automargin\":true,\"zerolinewidth\":2},\"yaxis\":{\"gridcolor\":\"white\",\"linecolor\":\"white\",\"ticks\":\"\",\"title\":{\"standoff\":15},\"zerolinecolor\":\"white\",\"automargin\":true,\"zerolinewidth\":2},\"scene\":{\"xaxis\":{\"backgroundcolor\":\"#E5ECF6\",\"gridcolor\":\"white\",\"linecolor\":\"white\",\"showbackground\":true,\"ticks\":\"\",\"zerolinecolor\":\"white\",\"gridwidth\":2},\"yaxis\":{\"backgroundcolor\":\"#E5ECF6\",\"gridcolor\":\"white\",\"linecolor\":\"white\",\"showbackground\":true,\"ticks\":\"\",\"zerolinecolor\":\"white\",\"gridwidth\":2},\"zaxis\":{\"backgroundcolor\":\"#E5ECF6\",\"gridcolor\":\"white\",\"linecolor\":\"white\",\"showbackground\":true,\"ticks\":\"\",\"zerolinecolor\":\"white\",\"gridwidth\":2}},\"shapedefaults\":{\"line\":{\"color\":\"#2a3f5f\"}},\"annotationdefaults\":{\"arrowcolor\":\"#2a3f5f\",\"arrowhead\":0,\"arrowwidth\":1},\"geo\":{\"bgcolor\":\"white\",\"landcolor\":\"#E5ECF6\",\"subunitcolor\":\"white\",\"showland\":true,\"showlakes\":true,\"lakecolor\":\"white\"},\"title\":{\"x\":0.05},\"mapbox\":{\"style\":\"light\"}}},\"legend\":{\"tracegroupgap\":0},\"margin\":{\"t\":60}},                        {\"responsive\": true}                    ).then(function(){\n",
       "                            \n",
       "var gd = document.getElementById('3ffc6817-782f-489c-810f-f4608acb851d');\n",
       "var x = new MutationObserver(function (mutations, observer) {{\n",
       "        var display = window.getComputedStyle(gd).display;\n",
       "        if (!display || display === 'none') {{\n",
       "            console.log([gd, 'removed!']);\n",
       "            Plotly.purge(gd);\n",
       "            observer.disconnect();\n",
       "        }}\n",
       "}});\n",
       "\n",
       "// Listen for the removal of the full notebook cells\n",
       "var notebookContainer = gd.closest('#notebook-container');\n",
       "if (notebookContainer) {{\n",
       "    x.observe(notebookContainer, {childList: true});\n",
       "}}\n",
       "\n",
       "// Listen for the clearing of the current output cell\n",
       "var outputEl = gd.closest('.output');\n",
       "if (outputEl) {{\n",
       "    x.observe(outputEl, {childList: true});\n",
       "}}\n",
       "\n",
       "                        })                };                });            </script>        </div>"
      ]
     },
     "metadata": {},
     "output_type": "display_data"
    }
   ],
   "source": [
    "px.pie(data_frame=product_price[-19:],values='Price',hover_data=['Product Name'],names='shorted_names',hole=0.5)"
   ]
  },
  {
   "cell_type": "markdown",
   "id": "2b2b8725",
   "metadata": {
    "papermill": {
     "duration": 0.015092,
     "end_time": "2023-03-31T12:06:19.369238",
     "exception": false,
     "start_time": "2023-03-31T12:06:19.354146",
     "status": "completed"
    },
    "tags": []
   },
   "source": [
    "#### Inference\n",
    "Groceries, accessories and related products are the least costly products and are bought in very few quantities\n",
    "\n",
    "---"
   ]
  },
  {
   "cell_type": "markdown",
   "id": "965f2582",
   "metadata": {
    "papermill": {
     "duration": 0.015314,
     "end_time": "2023-03-31T12:06:19.400341",
     "exception": false,
     "start_time": "2023-03-31T12:06:19.385027",
     "status": "completed"
    },
    "tags": []
   },
   "source": [
    "#### Investigate why ***Mobile Prepaid Recharge*** is ranked between"
   ]
  },
  {
   "cell_type": "code",
   "execution_count": 27,
   "id": "dd9de651",
   "metadata": {
    "execution": {
     "iopub.execute_input": "2023-03-31T12:06:19.433354Z",
     "iopub.status.busy": "2023-03-31T12:06:19.432529Z",
     "iopub.status.idle": "2023-03-31T12:06:19.450012Z",
     "shell.execute_reply": "2023-03-31T12:06:19.448664Z"
    },
    "papermill": {
     "duration": 0.037039,
     "end_time": "2023-03-31T12:06:19.452846",
     "exception": false,
     "start_time": "2023-03-31T12:06:19.415807",
     "status": "completed"
    },
    "tags": []
   },
   "outputs": [
    {
     "data": {
      "text/html": [
       "<div>\n",
       "<style scoped>\n",
       "    .dataframe tbody tr th:only-of-type {\n",
       "        vertical-align: middle;\n",
       "    }\n",
       "\n",
       "    .dataframe tbody tr th {\n",
       "        vertical-align: top;\n",
       "    }\n",
       "\n",
       "    .dataframe thead th {\n",
       "        text-align: right;\n",
       "    }\n",
       "</style>\n",
       "<table border=\"1\" class=\"dataframe\">\n",
       "  <thead>\n",
       "    <tr style=\"text-align: right;\">\n",
       "      <th></th>\n",
       "      <th>Price</th>\n",
       "      <th>Product Name</th>\n",
       "      <th>Tax</th>\n",
       "      <th>Order Date</th>\n",
       "      <th>shorted_names</th>\n",
       "    </tr>\n",
       "  </thead>\n",
       "  <tbody>\n",
       "    <tr>\n",
       "      <th>60</th>\n",
       "      <td>399.0</td>\n",
       "      <td>Mobile Prepaid Recharge</td>\n",
       "      <td>0.0</td>\n",
       "      <td>2020-03-21 07:41:19</td>\n",
       "      <td>Mobile Prepaid Recharge</td>\n",
       "    </tr>\n",
       "    <tr>\n",
       "      <th>90</th>\n",
       "      <td>399.0</td>\n",
       "      <td>Mobile Prepaid Recharge</td>\n",
       "      <td>0.0</td>\n",
       "      <td>2018-06-23 02:20:35</td>\n",
       "      <td>Mobile Prepaid Recharge</td>\n",
       "    </tr>\n",
       "    <tr>\n",
       "      <th>77</th>\n",
       "      <td>199.0</td>\n",
       "      <td>Mobile Prepaid Recharge</td>\n",
       "      <td>0.0</td>\n",
       "      <td>2018-11-14 10:45:20</td>\n",
       "      <td>Mobile Prepaid Recharge</td>\n",
       "    </tr>\n",
       "    <tr>\n",
       "      <th>80</th>\n",
       "      <td>199.0</td>\n",
       "      <td>Mobile Prepaid Recharge</td>\n",
       "      <td>0.0</td>\n",
       "      <td>2018-10-17 03:57:54</td>\n",
       "      <td>Mobile Prepaid Recharge</td>\n",
       "    </tr>\n",
       "    <tr>\n",
       "      <th>78</th>\n",
       "      <td>100.0</td>\n",
       "      <td>Mobile Prepaid Recharge</td>\n",
       "      <td>NaN</td>\n",
       "      <td>2018-11-11 06:23:38</td>\n",
       "      <td>Mobile Prepaid Recharge</td>\n",
       "    </tr>\n",
       "    <tr>\n",
       "      <th>83</th>\n",
       "      <td>49.0</td>\n",
       "      <td>Mobile Prepaid Recharge</td>\n",
       "      <td>NaN</td>\n",
       "      <td>2018-10-13 11:44:25</td>\n",
       "      <td>Mobile Prepaid Recharge</td>\n",
       "    </tr>\n",
       "    <tr>\n",
       "      <th>84</th>\n",
       "      <td>49.0</td>\n",
       "      <td>Mobile Prepaid Recharge</td>\n",
       "      <td>NaN</td>\n",
       "      <td>2018-10-13 11:40:24</td>\n",
       "      <td>Mobile Prepaid Recharge</td>\n",
       "    </tr>\n",
       "    <tr>\n",
       "      <th>82</th>\n",
       "      <td>49.0</td>\n",
       "      <td>Mobile Prepaid Recharge</td>\n",
       "      <td>NaN</td>\n",
       "      <td>2018-10-13 11:47:37</td>\n",
       "      <td>Mobile Prepaid Recharge</td>\n",
       "    </tr>\n",
       "    <tr>\n",
       "      <th>81</th>\n",
       "      <td>49.0</td>\n",
       "      <td>Mobile Prepaid Recharge</td>\n",
       "      <td>NaN</td>\n",
       "      <td>2018-10-13 12:05:21</td>\n",
       "      <td>Mobile Prepaid Recharge</td>\n",
       "    </tr>\n",
       "    <tr>\n",
       "      <th>88</th>\n",
       "      <td>40.0</td>\n",
       "      <td>Mobile Prepaid Recharge</td>\n",
       "      <td>0.0</td>\n",
       "      <td>2018-06-26 05:26:27</td>\n",
       "      <td>Mobile Prepaid Recharge</td>\n",
       "    </tr>\n",
       "    <tr>\n",
       "      <th>92</th>\n",
       "      <td>30.0</td>\n",
       "      <td>Mobile Prepaid Recharge</td>\n",
       "      <td>0.0</td>\n",
       "      <td>2018-06-20 01:29:03</td>\n",
       "      <td>Mobile Prepaid Recharge</td>\n",
       "    </tr>\n",
       "    <tr>\n",
       "      <th>93</th>\n",
       "      <td>30.0</td>\n",
       "      <td>Mobile Prepaid Recharge</td>\n",
       "      <td>0.0</td>\n",
       "      <td>2018-06-16 04:52:57</td>\n",
       "      <td>Mobile Prepaid Recharge</td>\n",
       "    </tr>\n",
       "    <tr>\n",
       "      <th>94</th>\n",
       "      <td>30.0</td>\n",
       "      <td>Mobile Prepaid Recharge</td>\n",
       "      <td>0.0</td>\n",
       "      <td>2018-06-15 05:22:37</td>\n",
       "      <td>Mobile Prepaid Recharge</td>\n",
       "    </tr>\n",
       "    <tr>\n",
       "      <th>91</th>\n",
       "      <td>18.0</td>\n",
       "      <td>Mobile Prepaid Recharge</td>\n",
       "      <td>0.0</td>\n",
       "      <td>2018-06-20 01:29:42</td>\n",
       "      <td>Mobile Prepaid Recharge</td>\n",
       "    </tr>\n",
       "  </tbody>\n",
       "</table>\n",
       "</div>"
      ],
      "text/plain": [
       "    Price             Product Name  Tax          Order Date  \\\n",
       "60  399.0  Mobile Prepaid Recharge  0.0 2020-03-21 07:41:19   \n",
       "90  399.0  Mobile Prepaid Recharge  0.0 2018-06-23 02:20:35   \n",
       "77  199.0  Mobile Prepaid Recharge  0.0 2018-11-14 10:45:20   \n",
       "80  199.0  Mobile Prepaid Recharge  0.0 2018-10-17 03:57:54   \n",
       "78  100.0  Mobile Prepaid Recharge  NaN 2018-11-11 06:23:38   \n",
       "83   49.0  Mobile Prepaid Recharge  NaN 2018-10-13 11:44:25   \n",
       "84   49.0  Mobile Prepaid Recharge  NaN 2018-10-13 11:40:24   \n",
       "82   49.0  Mobile Prepaid Recharge  NaN 2018-10-13 11:47:37   \n",
       "81   49.0  Mobile Prepaid Recharge  NaN 2018-10-13 12:05:21   \n",
       "88   40.0  Mobile Prepaid Recharge  0.0 2018-06-26 05:26:27   \n",
       "92   30.0  Mobile Prepaid Recharge  0.0 2018-06-20 01:29:03   \n",
       "93   30.0  Mobile Prepaid Recharge  0.0 2018-06-16 04:52:57   \n",
       "94   30.0  Mobile Prepaid Recharge  0.0 2018-06-15 05:22:37   \n",
       "91   18.0  Mobile Prepaid Recharge  0.0 2018-06-20 01:29:42   \n",
       "\n",
       "              shorted_names  \n",
       "60  Mobile Prepaid Recharge  \n",
       "90  Mobile Prepaid Recharge  \n",
       "77  Mobile Prepaid Recharge  \n",
       "80  Mobile Prepaid Recharge  \n",
       "78  Mobile Prepaid Recharge  \n",
       "83  Mobile Prepaid Recharge  \n",
       "84  Mobile Prepaid Recharge  \n",
       "82  Mobile Prepaid Recharge  \n",
       "81  Mobile Prepaid Recharge  \n",
       "88  Mobile Prepaid Recharge  \n",
       "92  Mobile Prepaid Recharge  \n",
       "93  Mobile Prepaid Recharge  \n",
       "94  Mobile Prepaid Recharge  \n",
       "91  Mobile Prepaid Recharge  "
      ]
     },
     "execution_count": 27,
     "metadata": {},
     "output_type": "execute_result"
    }
   ],
   "source": [
    "product_price.loc[product_price['Product Name'] == 'Mobile Prepaid Recharge']"
   ]
  },
  {
   "cell_type": "markdown",
   "id": "abacac19",
   "metadata": {
    "papermill": {
     "duration": 0.015182,
     "end_time": "2023-03-31T12:06:19.483783",
     "exception": false,
     "start_time": "2023-03-31T12:06:19.468601",
     "status": "completed"
    },
    "tags": []
   },
   "source": [
    "Mobile Prepaid Recharge is bought multiple times and in varying plan cost over some span of time, lets plot it for better understanding"
   ]
  },
  {
   "cell_type": "code",
   "execution_count": 28,
   "id": "fbdfab7a",
   "metadata": {
    "execution": {
     "iopub.execute_input": "2023-03-31T12:06:19.517236Z",
     "iopub.status.busy": "2023-03-31T12:06:19.516396Z",
     "iopub.status.idle": "2023-03-31T12:06:19.619920Z",
     "shell.execute_reply": "2023-03-31T12:06:19.618696Z"
    },
    "papermill": {
     "duration": 0.123337,
     "end_time": "2023-03-31T12:06:19.622670",
     "exception": false,
     "start_time": "2023-03-31T12:06:19.499333",
     "status": "completed"
    },
    "tags": []
   },
   "outputs": [
    {
     "data": {
      "text/html": [
       "<div>                            <div id=\"d3771604-77cf-4e88-bc57-3e13414f2a0e\" class=\"plotly-graph-div\" style=\"height:500px; width:900px;\"></div>            <script type=\"text/javascript\">                require([\"plotly\"], function(Plotly) {                    window.PLOTLYENV=window.PLOTLYENV || {};                                    if (document.getElementById(\"d3771604-77cf-4e88-bc57-3e13414f2a0e\")) {                    Plotly.newPlot(                        \"d3771604-77cf-4e88-bc57-3e13414f2a0e\",                        [{\"hovertemplate\":\"Order Date=%{x}<br>Price=%{y}<br>size=%{marker.size}<extra></extra>\",\"legendgroup\":\"\",\"marker\":{\"color\":\"#636efa\",\"size\":[5,5,5,5,5,5,5,5,5,5,5,5,5,5],\"sizemode\":\"area\",\"sizeref\":0.0125,\"symbol\":\"circle\"},\"mode\":\"markers\",\"name\":\"\",\"orientation\":\"v\",\"showlegend\":false,\"x\":[\"2020-03-21T07:41:19\",\"2018-06-23T02:20:35\",\"2018-11-14T10:45:20\",\"2018-10-17T03:57:54\",\"2018-11-11T06:23:38\",\"2018-10-13T11:44:25\",\"2018-10-13T11:40:24\",\"2018-10-13T11:47:37\",\"2018-10-13T12:05:21\",\"2018-06-26T05:26:27\",\"2018-06-20T01:29:03\",\"2018-06-16T04:52:57\",\"2018-06-15T05:22:37\",\"2018-06-20T01:29:42\"],\"xaxis\":\"x\",\"y\":[399.0,399.0,199.0,199.0,100.0,49.0,49.0,49.0,49.0,40.0,30.0,30.0,30.0,18.0],\"yaxis\":\"y\",\"type\":\"scatter\"}],                        {\"template\":{\"data\":{\"histogram2dcontour\":[{\"type\":\"histogram2dcontour\",\"colorbar\":{\"outlinewidth\":0,\"ticks\":\"\"},\"colorscale\":[[0.0,\"#0d0887\"],[0.1111111111111111,\"#46039f\"],[0.2222222222222222,\"#7201a8\"],[0.3333333333333333,\"#9c179e\"],[0.4444444444444444,\"#bd3786\"],[0.5555555555555556,\"#d8576b\"],[0.6666666666666666,\"#ed7953\"],[0.7777777777777778,\"#fb9f3a\"],[0.8888888888888888,\"#fdca26\"],[1.0,\"#f0f921\"]]}],\"choropleth\":[{\"type\":\"choropleth\",\"colorbar\":{\"outlinewidth\":0,\"ticks\":\"\"}}],\"histogram2d\":[{\"type\":\"histogram2d\",\"colorbar\":{\"outlinewidth\":0,\"ticks\":\"\"},\"colorscale\":[[0.0,\"#0d0887\"],[0.1111111111111111,\"#46039f\"],[0.2222222222222222,\"#7201a8\"],[0.3333333333333333,\"#9c179e\"],[0.4444444444444444,\"#bd3786\"],[0.5555555555555556,\"#d8576b\"],[0.6666666666666666,\"#ed7953\"],[0.7777777777777778,\"#fb9f3a\"],[0.8888888888888888,\"#fdca26\"],[1.0,\"#f0f921\"]]}],\"heatmap\":[{\"type\":\"heatmap\",\"colorbar\":{\"outlinewidth\":0,\"ticks\":\"\"},\"colorscale\":[[0.0,\"#0d0887\"],[0.1111111111111111,\"#46039f\"],[0.2222222222222222,\"#7201a8\"],[0.3333333333333333,\"#9c179e\"],[0.4444444444444444,\"#bd3786\"],[0.5555555555555556,\"#d8576b\"],[0.6666666666666666,\"#ed7953\"],[0.7777777777777778,\"#fb9f3a\"],[0.8888888888888888,\"#fdca26\"],[1.0,\"#f0f921\"]]}],\"heatmapgl\":[{\"type\":\"heatmapgl\",\"colorbar\":{\"outlinewidth\":0,\"ticks\":\"\"},\"colorscale\":[[0.0,\"#0d0887\"],[0.1111111111111111,\"#46039f\"],[0.2222222222222222,\"#7201a8\"],[0.3333333333333333,\"#9c179e\"],[0.4444444444444444,\"#bd3786\"],[0.5555555555555556,\"#d8576b\"],[0.6666666666666666,\"#ed7953\"],[0.7777777777777778,\"#fb9f3a\"],[0.8888888888888888,\"#fdca26\"],[1.0,\"#f0f921\"]]}],\"contourcarpet\":[{\"type\":\"contourcarpet\",\"colorbar\":{\"outlinewidth\":0,\"ticks\":\"\"}}],\"contour\":[{\"type\":\"contour\",\"colorbar\":{\"outlinewidth\":0,\"ticks\":\"\"},\"colorscale\":[[0.0,\"#0d0887\"],[0.1111111111111111,\"#46039f\"],[0.2222222222222222,\"#7201a8\"],[0.3333333333333333,\"#9c179e\"],[0.4444444444444444,\"#bd3786\"],[0.5555555555555556,\"#d8576b\"],[0.6666666666666666,\"#ed7953\"],[0.7777777777777778,\"#fb9f3a\"],[0.8888888888888888,\"#fdca26\"],[1.0,\"#f0f921\"]]}],\"surface\":[{\"type\":\"surface\",\"colorbar\":{\"outlinewidth\":0,\"ticks\":\"\"},\"colorscale\":[[0.0,\"#0d0887\"],[0.1111111111111111,\"#46039f\"],[0.2222222222222222,\"#7201a8\"],[0.3333333333333333,\"#9c179e\"],[0.4444444444444444,\"#bd3786\"],[0.5555555555555556,\"#d8576b\"],[0.6666666666666666,\"#ed7953\"],[0.7777777777777778,\"#fb9f3a\"],[0.8888888888888888,\"#fdca26\"],[1.0,\"#f0f921\"]]}],\"mesh3d\":[{\"type\":\"mesh3d\",\"colorbar\":{\"outlinewidth\":0,\"ticks\":\"\"}}],\"scatter\":[{\"fillpattern\":{\"fillmode\":\"overlay\",\"size\":10,\"solidity\":0.2},\"type\":\"scatter\"}],\"parcoords\":[{\"type\":\"parcoords\",\"line\":{\"colorbar\":{\"outlinewidth\":0,\"ticks\":\"\"}}}],\"scatterpolargl\":[{\"type\":\"scatterpolargl\",\"marker\":{\"colorbar\":{\"outlinewidth\":0,\"ticks\":\"\"}}}],\"bar\":[{\"error_x\":{\"color\":\"#2a3f5f\"},\"error_y\":{\"color\":\"#2a3f5f\"},\"marker\":{\"line\":{\"color\":\"#E5ECF6\",\"width\":0.5},\"pattern\":{\"fillmode\":\"overlay\",\"size\":10,\"solidity\":0.2}},\"type\":\"bar\"}],\"scattergeo\":[{\"type\":\"scattergeo\",\"marker\":{\"colorbar\":{\"outlinewidth\":0,\"ticks\":\"\"}}}],\"scatterpolar\":[{\"type\":\"scatterpolar\",\"marker\":{\"colorbar\":{\"outlinewidth\":0,\"ticks\":\"\"}}}],\"histogram\":[{\"marker\":{\"pattern\":{\"fillmode\":\"overlay\",\"size\":10,\"solidity\":0.2}},\"type\":\"histogram\"}],\"scattergl\":[{\"type\":\"scattergl\",\"marker\":{\"colorbar\":{\"outlinewidth\":0,\"ticks\":\"\"}}}],\"scatter3d\":[{\"type\":\"scatter3d\",\"line\":{\"colorbar\":{\"outlinewidth\":0,\"ticks\":\"\"}},\"marker\":{\"colorbar\":{\"outlinewidth\":0,\"ticks\":\"\"}}}],\"scattermapbox\":[{\"type\":\"scattermapbox\",\"marker\":{\"colorbar\":{\"outlinewidth\":0,\"ticks\":\"\"}}}],\"scatterternary\":[{\"type\":\"scatterternary\",\"marker\":{\"colorbar\":{\"outlinewidth\":0,\"ticks\":\"\"}}}],\"scattercarpet\":[{\"type\":\"scattercarpet\",\"marker\":{\"colorbar\":{\"outlinewidth\":0,\"ticks\":\"\"}}}],\"carpet\":[{\"aaxis\":{\"endlinecolor\":\"#2a3f5f\",\"gridcolor\":\"white\",\"linecolor\":\"white\",\"minorgridcolor\":\"white\",\"startlinecolor\":\"#2a3f5f\"},\"baxis\":{\"endlinecolor\":\"#2a3f5f\",\"gridcolor\":\"white\",\"linecolor\":\"white\",\"minorgridcolor\":\"white\",\"startlinecolor\":\"#2a3f5f\"},\"type\":\"carpet\"}],\"table\":[{\"cells\":{\"fill\":{\"color\":\"#EBF0F8\"},\"line\":{\"color\":\"white\"}},\"header\":{\"fill\":{\"color\":\"#C8D4E3\"},\"line\":{\"color\":\"white\"}},\"type\":\"table\"}],\"barpolar\":[{\"marker\":{\"line\":{\"color\":\"#E5ECF6\",\"width\":0.5},\"pattern\":{\"fillmode\":\"overlay\",\"size\":10,\"solidity\":0.2}},\"type\":\"barpolar\"}],\"pie\":[{\"automargin\":true,\"type\":\"pie\"}]},\"layout\":{\"autotypenumbers\":\"strict\",\"colorway\":[\"#636efa\",\"#EF553B\",\"#00cc96\",\"#ab63fa\",\"#FFA15A\",\"#19d3f3\",\"#FF6692\",\"#B6E880\",\"#FF97FF\",\"#FECB52\"],\"font\":{\"color\":\"#2a3f5f\"},\"hovermode\":\"closest\",\"hoverlabel\":{\"align\":\"left\"},\"paper_bgcolor\":\"white\",\"plot_bgcolor\":\"#E5ECF6\",\"polar\":{\"bgcolor\":\"#E5ECF6\",\"angularaxis\":{\"gridcolor\":\"white\",\"linecolor\":\"white\",\"ticks\":\"\"},\"radialaxis\":{\"gridcolor\":\"white\",\"linecolor\":\"white\",\"ticks\":\"\"}},\"ternary\":{\"bgcolor\":\"#E5ECF6\",\"aaxis\":{\"gridcolor\":\"white\",\"linecolor\":\"white\",\"ticks\":\"\"},\"baxis\":{\"gridcolor\":\"white\",\"linecolor\":\"white\",\"ticks\":\"\"},\"caxis\":{\"gridcolor\":\"white\",\"linecolor\":\"white\",\"ticks\":\"\"}},\"coloraxis\":{\"colorbar\":{\"outlinewidth\":0,\"ticks\":\"\"}},\"colorscale\":{\"sequential\":[[0.0,\"#0d0887\"],[0.1111111111111111,\"#46039f\"],[0.2222222222222222,\"#7201a8\"],[0.3333333333333333,\"#9c179e\"],[0.4444444444444444,\"#bd3786\"],[0.5555555555555556,\"#d8576b\"],[0.6666666666666666,\"#ed7953\"],[0.7777777777777778,\"#fb9f3a\"],[0.8888888888888888,\"#fdca26\"],[1.0,\"#f0f921\"]],\"sequentialminus\":[[0.0,\"#0d0887\"],[0.1111111111111111,\"#46039f\"],[0.2222222222222222,\"#7201a8\"],[0.3333333333333333,\"#9c179e\"],[0.4444444444444444,\"#bd3786\"],[0.5555555555555556,\"#d8576b\"],[0.6666666666666666,\"#ed7953\"],[0.7777777777777778,\"#fb9f3a\"],[0.8888888888888888,\"#fdca26\"],[1.0,\"#f0f921\"]],\"diverging\":[[0,\"#8e0152\"],[0.1,\"#c51b7d\"],[0.2,\"#de77ae\"],[0.3,\"#f1b6da\"],[0.4,\"#fde0ef\"],[0.5,\"#f7f7f7\"],[0.6,\"#e6f5d0\"],[0.7,\"#b8e186\"],[0.8,\"#7fbc41\"],[0.9,\"#4d9221\"],[1,\"#276419\"]]},\"xaxis\":{\"gridcolor\":\"white\",\"linecolor\":\"white\",\"ticks\":\"\",\"title\":{\"standoff\":15},\"zerolinecolor\":\"white\",\"automargin\":true,\"zerolinewidth\":2},\"yaxis\":{\"gridcolor\":\"white\",\"linecolor\":\"white\",\"ticks\":\"\",\"title\":{\"standoff\":15},\"zerolinecolor\":\"white\",\"automargin\":true,\"zerolinewidth\":2},\"scene\":{\"xaxis\":{\"backgroundcolor\":\"#E5ECF6\",\"gridcolor\":\"white\",\"linecolor\":\"white\",\"showbackground\":true,\"ticks\":\"\",\"zerolinecolor\":\"white\",\"gridwidth\":2},\"yaxis\":{\"backgroundcolor\":\"#E5ECF6\",\"gridcolor\":\"white\",\"linecolor\":\"white\",\"showbackground\":true,\"ticks\":\"\",\"zerolinecolor\":\"white\",\"gridwidth\":2},\"zaxis\":{\"backgroundcolor\":\"#E5ECF6\",\"gridcolor\":\"white\",\"linecolor\":\"white\",\"showbackground\":true,\"ticks\":\"\",\"zerolinecolor\":\"white\",\"gridwidth\":2}},\"shapedefaults\":{\"line\":{\"color\":\"#2a3f5f\"}},\"annotationdefaults\":{\"arrowcolor\":\"#2a3f5f\",\"arrowhead\":0,\"arrowwidth\":1},\"geo\":{\"bgcolor\":\"white\",\"landcolor\":\"#E5ECF6\",\"subunitcolor\":\"white\",\"showland\":true,\"showlakes\":true,\"lakecolor\":\"white\"},\"title\":{\"x\":0.05},\"mapbox\":{\"style\":\"light\"}}},\"xaxis\":{\"anchor\":\"y\",\"domain\":[0.0,1.0],\"title\":{\"text\":\"Order Date\"}},\"yaxis\":{\"anchor\":\"x\",\"domain\":[0.0,1.0],\"title\":{\"text\":\"Price\"}},\"legend\":{\"tracegroupgap\":0,\"itemsizing\":\"constant\"},\"margin\":{\"t\":60},\"height\":500,\"width\":900},                        {\"responsive\": true}                    ).then(function(){\n",
       "                            \n",
       "var gd = document.getElementById('d3771604-77cf-4e88-bc57-3e13414f2a0e');\n",
       "var x = new MutationObserver(function (mutations, observer) {{\n",
       "        var display = window.getComputedStyle(gd).display;\n",
       "        if (!display || display === 'none') {{\n",
       "            console.log([gd, 'removed!']);\n",
       "            Plotly.purge(gd);\n",
       "            observer.disconnect();\n",
       "        }}\n",
       "}});\n",
       "\n",
       "// Listen for the removal of the full notebook cells\n",
       "var notebookContainer = gd.closest('#notebook-container');\n",
       "if (notebookContainer) {{\n",
       "    x.observe(notebookContainer, {childList: true});\n",
       "}}\n",
       "\n",
       "// Listen for the clearing of the current output cell\n",
       "var outputEl = gd.closest('.output');\n",
       "if (outputEl) {{\n",
       "    x.observe(outputEl, {childList: true});\n",
       "}}\n",
       "\n",
       "                        })                };                });            </script>        </div>"
      ]
     },
     "metadata": {},
     "output_type": "display_data"
    }
   ],
   "source": [
    "# Fix Size with a func/loop\n",
    "px.scatter(data_frame=product_price.loc[product_price['Product Name'] == 'Mobile Prepaid Recharge'], x='Order Date', y='Price',height=500,width=900,size=[5,5,5,5,5,5,5,5,5,5,5,5,5,5])"
   ]
  },
  {
   "cell_type": "markdown",
   "id": "6b2215fa",
   "metadata": {
    "papermill": {
     "duration": 0.015625,
     "end_time": "2023-03-31T12:06:19.654597",
     "exception": false,
     "start_time": "2023-03-31T12:06:19.638972",
     "status": "completed"
    },
    "tags": []
   },
   "source": [
    "\n",
    "#### Inference\n",
    "Now that we plot it we see some records scattered across the plot, this gives an insight as to why the price in barplot was stacked with multiple records"
   ]
  },
  {
   "cell_type": "markdown",
   "id": "55ccdca2",
   "metadata": {
    "papermill": {
     "duration": 0.015505,
     "end_time": "2023-03-31T12:06:19.686825",
     "exception": false,
     "start_time": "2023-03-31T12:06:19.671320",
     "status": "completed"
    },
    "tags": []
   },
   "source": [
    "### Orders time"
   ]
  },
  {
   "cell_type": "code",
   "execution_count": 29,
   "id": "61b78521",
   "metadata": {
    "execution": {
     "iopub.execute_input": "2023-03-31T12:06:19.720137Z",
     "iopub.status.busy": "2023-03-31T12:06:19.719693Z",
     "iopub.status.idle": "2023-03-31T12:06:19.821456Z",
     "shell.execute_reply": "2023-03-31T12:06:19.820065Z"
    },
    "papermill": {
     "duration": 0.121705,
     "end_time": "2023-03-31T12:06:19.824257",
     "exception": false,
     "start_time": "2023-03-31T12:06:19.702552",
     "status": "completed"
    },
    "tags": []
   },
   "outputs": [
    {
     "data": {
      "text/html": [
       "<div>                            <div id=\"406eff21-1fd5-4fb3-a62a-5df73d2daca4\" class=\"plotly-graph-div\" style=\"height:525px; width:100%;\"></div>            <script type=\"text/javascript\">                require([\"plotly\"], function(Plotly) {                    window.PLOTLYENV=window.PLOTLYENV || {};                                    if (document.getElementById(\"406eff21-1fd5-4fb3-a62a-5df73d2daca4\")) {                    Plotly.newPlot(                        \"406eff21-1fd5-4fb3-a62a-5df73d2daca4\",                        [{\"customdata\":[[\"Rynox Air GT 4 Jacket - Mesh Motorcycle Riding Jacket with Impact Protection and Abrasion Resistance - Black White | Small\"],[\"3M Auto Specialty Tyre Dresser (250 ml) | Long lasting tyre Gloss | Fading and Crack Prevention.\"],[\"Motul C2 Chain Lube for All Bikes (150 ml)\"],[\"Stewit Universal Motorcycle/Cycle Chain Cleaner Brush for Bikes (Blue)\"],[\"Motul C1 Chain Clean for All Bikes (150 ml)\"],[\"Peter England Men's Blue Blazer Slim (PIBZSNSBS78506_MediumBlue80_44)\"],[\"FitBox Sports Intruder 20 Kg Adjustable PVC Dumbbells Weights With Dumbbells Rods For Home Gym & Strength Training, 10 Kg X 2 (Black)\"],[\"Axor Apex Hunter D/V Dull Black Red Helmet-M\"],[\"Tribit XSound Go 16W 5.0 Bluetooth Speaker with Loud Sound & Rich Bass, 24H Playtime, IPX7 Waterproof, Wireless Stereo Pairing, Type-C, Portable Wirel\"],[\"iClever HS14 Headphones for Girls, Kids Headphones with Mic, 94dB Volume Limited, Adjustable Headband, Foldable, Wired Over Ear Child Headset for Onli\"],[\"Rynox Air GT Riding Gloves (Grey Red, M)\"],[\"SOFTSPUN Microfiber Cloth - 4 pcs - 40x40 cms - 340 GSM Grey- Thick Lint & Streak-Free Multipurpose Cloths - Automotive Microfibre Towels for Car Bike\"],[\"Himalayan Organics Omega 3 6 9 Flaxseed Oil With Nutrition Supplement For Healthy Hair, Skin, Joint, Brain, Muscles And Bones - 90 Vegetarian Capsules\"],[\"eSplanade - 5 inches - Singing Bowl Tibetan Buddhist Prayer Instrument With Striker Stick | OM Bell | OM Bowl | Meditation Bowl | Music Therapy\"],[\"SFT Cinnamon (Dalchini Stick) 200 Gm\"],[\"Saffola Honey, 100% Pure NMR tested Honey, 1.0kg\"],[\"SFT Cardamom Green (Elaichi) 100 Gm\"],[\"Evergreen Farms Fresh Whole Cashews Kaju 250 Grams\"],[\"Steelbird SBA-1 R2K Double Visor Full Face Graphics ABS Helmet, Inner Silver Sun Shield and Outer Clear Visor (Medium 580 mm, Matt Black Grey)\"],[\"DR. VAIDYA'S new age ayurveda Herbobuild| Ayurvedic Capsules for Muscle Gain | Stamina and Performance | Power of Ashwagandha, Shatavari and Safed Mus\"],[\"Azani Plant Mass Gainer 1kg | 1083 Kcal, 45g Vegan Protein, 225g Carbohydrates, 0.5g Chlorella, 0.3g Ashwagandha | Intense Muscle Recovery, Weight Gai\"],[\"Vedapure Natural L-Arginine Nitric Oxide Booster Supplement For Energy, Muscle Growth, Heart Health, Vascularity & Double Strength - 60 Capsules (Pack\"],[\"Casio Youth-Analog Black Dial Men's Watch-MCW-100H-9A2VDF (AD215)\"],[\"Dettol Liquid Hand wash Refill Original -1500 ml\"],[\"Just rider Bamboo Football Cotton Socks/Stockings for Men Women Knee High Length Superior Grip for Shin Guard, Anti Slip Blister Protection Anti Odour\"],[\"Dabur Cold Pressed Mustard Oil -1L : Healthy Cooking Oil with the Goodness of Omega 3 & 6\"],[\"Saffola Total Refined Cooking Oil | Blended Rice Bran & Safflower Oil | Helps Manage Cholesterol | Pouch, 4 X 1L Pouch\"],[\"Oleev Olive Pomace Oil for Everyday Cooking, 5L TIN\"],[\"Redragon Karura K502 Wired USB Gaming Keyboard with RGB LED Backlight, 104 Silent Keys and Wrist Rest (Black)\"],[\"Zebronics Zeb-Transformer-M Optical USB Gaming Mouse with LED Effect(Black)\"],[\"Butterfly Jet Elite Mixer Grinder, 750W, 4 Jars (Grey)\"],[\"Nestle Resource High Protein - 400g Pet Jar Pack (Vanilla Flavor)\"],[\"Boult Audio BassBuds Loop Wireless Bluetooth in Ear Earphone with Mic (Black)\"],[\"boAt BassHeads 152 KKR Edition in Ear Wired Earphones with Mic(Thunder Purple)\"],[\"Pawzone Yellow Body Harness With Leash for Dogs -Medium(3/4 Inch)\"],[\"xcluma Waist Pack Travel Handy Hiking Zip Pouch Document Money Phone Belt Sport Bag Bum Bag for Men and Women Polyester (Grey)\"],[\"Oreva Roman Figure Round Plastic Analog Wall Clock (28 cm x 28 cm x 3.9 cm, Silver, AQ-1457)\"],[\"Infinity (JBL) Fuze 100 Deep Bass Dual Equalizer IPX7 Waterproof Portable Wireless Speaker (Charcoal Black)\"],[\"Police Hedge Polyester 30 Ltr Black Laptop Stylish Premium Quality Backpack\"],[\"LPG cylinder booking\"],[\"Mobile Prepaid Recharge\"],[\"ALFA AWUS036NEH Long Range WIRELESS 802.11b/g/n Wi-Fi USBAdapter\"],[\"HP 32GB Class 10 MicroSD Memory Card (U1 TF Card32GB)\"],[\"SanDisk Ultra Dual SDDD3-128G-I35 USB 3.0 128GB Flash Drive\"],[\"SWADESI STUFF Quartz Movement Analogue Black Dial Leather Strap Lord Shiva Mahadev Men's Watch\"],[\"Maxima Analog White Dial Women's Watch - 41271LMLI\"],[\"DTH recharge\"],[\"DTH recharge\"],[\"verticals Men's Cotton Army Print Cargo Pants (Multicolour, 38)\"],[\"Amazon Pay balance: Money (Cash-load)\"],[\"PROPER DESI Stuffed Teddy Bear For Kids - Yellow 42 Cm/16 Inch\"],[\"Micromax X424 (Black-Grey)\"],[\"Campus Sutra Women's Cotton Sweatshirt (AZW17_JKHNK_W_PLN_DN_AZ_XL_Denim_X-Large)\"],[\"Mobile Prepaid Recharge\"],[\"Honor 8X (Black, 4GB RAM, 64GB Storage)\"],[\"Mobile Prepaid Recharge\"],[\"Generic MagiDeal 5 Pair Adult Plastics Red/Blue 3D Glasses Anaglyph Glasses,Black\"],[\"iBall Style 63 Optical Mouse (Black)\"],[\"Clublaptop Reversible 15.6-inch Laptop Sleeve\"],[\"Mobile Prepaid Recharge\"],[\"HOLME'S Stuffed Teddy Bear - 3 Feet - Pink\"],[\"Mobile Prepaid Recharge\"],[\"Mobile Prepaid Recharge\"],[\"Mobile Prepaid Recharge\"],[\"Mobile Prepaid Recharge\"],[\"Mobile Prepaid Recharge\"],[\"Philips Beard Trimmer Cordless for Men QT4001/15\"],[\"Threptin Protein Supplement Diskettes - 275 g\"],[\"Amazon Pay balance: Money\"],[\"Amazon Pay balance: Money\"],[\"Campus Sutra Women's Cotton Quilted Hoodie (AW15_ZH_W_PLN_DN_XL)\"],[\"Easies Synthetic Leather Executive Office Bag, 16 Inches\"],[\"NIKAVI Black Seamless Skull Face Tube Mask Pack (2)\"],[\"Lenovo Z2 Plus (Black, 64GB)\"],[\"Orpat OEH-1220 2000-Watt Fan Heater (White)\"],[\"PES Shock Proof Protective Rugged Armor Super Hybrid Heavy Duty Back Case Cover For Asus Zenfone 2 Laser 5.5 - Rugged Black\"],[\"Samsung EVO Plus Class 10 32GB MicroSD 80 MB/S Memory Card with SD Adapter (MB-MC32D)\"],[\"Zoook ZB-Jazz Beats Wireless On-Ear Bluetooth Headphones With In-built FM\"],[\"Asus Zenfone 2 Laser 5.5 ZE550KL(Black, 3 GB RAM, 16 GB)\"],[\"CHKOKKO 8X Zoom Universal Mobile Phone Telescope Camera Lens Adjustable Clip Holder (White Red)\"],[\"Casotec Metal Back TPU Back Case Cover for Micromax Canvas Knight A350 - Brown\"],[\"CASSIEY?? 2.5D Curved Edge Ultra HD+ 9H Hardness Premium Tempered Glass For Xiaomi Redmi Note 3,Transparent\"]],\"hovertemplate\":\"Quantity=1<br>Order Date=%{x}<br>Price=%{y}<br>Product Name=%{customdata[0]}<extra></extra>\",\"legendgroup\":\"1\",\"line\":{\"color\":\"#636efa\",\"dash\":\"dot\"},\"marker\":{\"symbol\":\"circle\"},\"mode\":\"markers+lines\",\"name\":\"1\",\"orientation\":\"v\",\"showlegend\":true,\"x\":[\"2023-03-24T02:28:49\",\"2023-03-03T08:02:35\",\"2023-03-03T08:02:35\",\"2023-03-03T08:02:35\",\"2023-03-03T08:02:35\",\"2023-02-28T16:47:25\",\"2023-02-15T03:08:16\",\"2022-11-28T10:25:56\",\"2022-11-17T10:05:37\",\"2022-11-17T10:05:37\",\"2022-11-13T11:18:26\",\"2022-10-22T12:43:20\",\"2022-10-12T13:18:28\",\"2022-09-09T10:15:13\",\"2022-09-06T09:47:46\",\"2022-09-06T09:47:46\",\"2022-09-06T09:47:46\",\"2022-09-06T09:47:46\",\"2022-06-30T07:09:42\",\"2022-05-19T10:01:56\",\"2022-05-19T10:01:56\",\"2022-05-19T10:01:56\",\"2022-03-17T04:01:53\",\"2022-01-19T18:29:37\",\"2021-12-26T06:00:53\",\"2021-12-26T06:00:53\",\"2021-12-26T06:00:53\",\"2021-12-26T06:00:53\",\"2021-11-15T11:30:51\",\"2021-11-15T11:30:51\",\"2021-10-22T15:08:34\",\"2021-10-13T13:05:15\",\"2021-10-04T03:15:11\",\"2021-10-04T03:15:11\",\"2021-02-19T15:31:51\",\"2021-01-15T14:03:57\",\"2021-01-15T14:03:57\",\"2021-01-15T14:03:57\",\"2020-09-23T05:42:19\",\"2020-09-09T07:22:46\",\"2020-03-21T07:41:19\",\"2019-07-31T15:14:18\",\"2019-07-31T05:18:49\",\"2019-07-31T05:18:49\",\"2019-06-01T13:32:59\",\"2019-06-01T13:32:59\",\"2019-05-30T15:01:09\",\"2019-05-30T14:52:08\",\"2019-01-22T03:17:01\",\"2018-11-21T05:59:27\",\"2018-11-16T08:53:43\",\"2018-11-16T08:53:43\",\"2018-11-16T08:53:43\",\"2018-11-14T10:45:20\",\"2018-10-28T12:43:59\",\"2018-10-17T03:57:54\",\"2018-10-08T02:28:25\",\"2018-10-08T02:28:25\",\"2018-10-08T02:28:25\",\"2018-06-26T05:26:27\",\"2018-06-26T05:20:49\",\"2018-06-23T02:20:35\",\"2018-06-20T01:29:42\",\"2018-06-20T01:29:03\",\"2018-06-16T04:52:57\",\"2018-06-15T05:22:37\",\"2018-06-15T05:15:31\",\"2018-06-15T05:15:31\",\"2018-06-15T05:07:18\",\"2018-06-15T03:13:50\",\"2018-01-28T05:55:35\",\"2017-09-01T13:55:15\",\"2017-08-06T12:00:59\",\"2017-07-24T16:09:05\",\"2017-07-19T17:23:40\",\"2017-06-21T13:11:04\",\"2017-06-21T13:11:04\",\"2017-06-21T11:27:51\",\"2017-05-23T07:23:49\",\"2016-12-04T16:12:41\",\"2016-09-25T12:00:47\",\"2016-09-25T07:31:58\"],\"xaxis\":\"x\",\"y\":[6950.0,267.0,199.0,89.0,233.0,2969.0,699.0,4856.0,2062.78,736.22,2750.0,309.1,617.4,1295.0,113.0,277.0,194.0,290.0,2123.0,261.25,799.0,455.0,3599.0,178.0,284.0,265.0,759.0,1649.0,1499.0,499.0,2599.0,759.0,349.0,399.0,312.0,399.0,395.0,1299.0,1349.0,605.0,399.0,3625.0,399.0,1609.0,159.0,710.0,295.0,295.0,999.0,1.0,299.0,829.0,786.0,199.0,14999.0,199.0,299.0,189.0,228.0,40.0,785.0,399.0,18.0,30.0,30.0,30.0,1299.0,338.0,1000.0,100.0,629.0,1599.0,320.0,12499.0,1124.0,279.0,749.0,999.0,9999.0,389.0,149.0,339.0],\"yaxis\":\"y\",\"type\":\"scatter\"},{\"customdata\":[[\"Stewit Universal Motorcycle/Cycle Chain Cleaner Brush for Bikes (Blue)\"],[\"3M Auto Specialty Tyre Dresser (250 ml) | Long lasting tyre Gloss | Fading and Crack Prevention.\"],[\"Motul C1 Chain Clean for All Bikes (150 ml)\"],[\"Motul C2 Chain Lube for All Bikes (150 ml)\"],[\"Stewit Universal Motorcycle/Cycle Chain Cleaner Brush for Bikes (Blue)\"],[\"Motul C2 Chain Lube for All Bikes (150 ml)\"],[\"3M Auto Specialty Tyre Dresser (250 ml) | Long lasting tyre Gloss | Fading and Crack Prevention.\"],[\"Motul C1 Chain Clean for All Bikes (150 ml)\"],[\"FitBox Sports Intruder 20 Kg Adjustable PVC Dumbbells Weights With Dumbbells Rods For Home Gym & Strength Training, 10 Kg X 2 (Black)\"],[\"Rynox Air GT Riding Gloves (Grey Red, M)\"],[\"Peter England Men's Polyester Blend Regular Business Suit Pants Set (PESUONSB814767_Blue_36)\"],[\"Himalayan Organics Omega 3 6 9 Vegan Natural Nutrition Supplement for Muscle , Bone , Heart & Skin - 90 Veg Capsules\"],[\"Reiki Crystal Products Unisex Natural \\\"Certified\\\" Stone Tiger Eye Bracelet for Healing and Meditation, Protection, Courage (Golden & Brown)\"],[\"Dettol Liquid Hand wash Refill Original -1500 ml\"],[\"Reiki Crystal Products Unisex Natural \\\"Certified\\\" Stone Tiger Eye Bracelet for Healing and Meditation, Protection, Courage (Golden & Brown)\"],[\"Dettol Liquid Hand wash Refill Original -1500 ml\"],[\"Amazon Pay balance: Credits\"],[\"DTH recharge\"],[\"Amazon Pay balance: Money\"],[\"Amazon Pay balance: Money\"],[\"Mobile Prepaid Recharge\"],[\"Mobile Prepaid Recharge\"],[\"Mobile Prepaid Recharge\"],[\"Mobile Prepaid Recharge\"],[\"Mobile Prepaid Recharge\"],[\"Philips Beard Trimmer Cordless for Men QT4001/15\"],[\"Threptin Protein Supplement Diskettes - 275 g\"]],\"hovertemplate\":\"Quantity=0<br>Order Date=%{x}<br>Price=%{y}<br>Product Name=%{customdata[0]}<extra></extra>\",\"legendgroup\":\"0\",\"line\":{\"color\":\"#EF553B\",\"dash\":\"dot\"},\"marker\":{\"symbol\":\"circle\"},\"mode\":\"markers+lines\",\"name\":\"0\",\"orientation\":\"v\",\"showlegend\":true,\"x\":[\"2023-03-03T07:46:45\",\"2023-03-03T07:46:45\",\"2023-03-03T07:46:45\",\"2023-03-03T07:46:45\",\"2023-03-02T14:41:22\",\"2023-03-02T14:41:22\",\"2023-03-02T14:41:22\",\"2023-03-02T14:41:22\",\"2023-02-14T18:21:01\",\"2022-10-22T12:43:20\",\"2022-10-09T14:29:03\",\"2022-05-21T03:00:56\",\"2022-01-19T18:15:40\",\"2022-01-19T18:15:40\",\"2022-01-19T18:07:52\",\"2022-01-19T18:07:52\",\"2021-06-17T10:34:06\",\"2019-05-30T14:58:30\",\"2019-05-11T14:53:19\",\"2019-05-11T14:52:41\",\"2018-11-11T06:23:38\",\"2018-10-13T12:05:21\",\"2018-10-13T11:47:37\",\"2018-10-13T11:44:25\",\"2018-10-13T11:40:24\",\"2018-06-15T05:10:36\",\"2018-06-15T05:10:36\"],\"xaxis\":\"x\",\"y\":[0.0,0.0,0.0,0.0,0.0,0.0,0.0,0.0,0.0,0.0,0.0,0.0,0.0,0.0,0.0,0.0,10.0,295.0,500.0,500.0,100.0,49.0,49.0,49.0,49.0,0.0,0.0],\"yaxis\":\"y\",\"type\":\"scatter\"},{\"customdata\":[[\"Dr.Vaidya's Herbobuild Pack of 1 | 30 capsules | Ayurvedic Muscle & Mass Gainer Capsules | Muscle Protein Synthesis | Lean Mass Gainer | Improved Stam\"],[\"Reiki Crystal Products Unisex Natural \\\"Certified\\\" Stone Tiger Eye Bracelet for Healing and Meditation, Protection, Courage (Golden & Brown)\"],[\"Lion Saffron, Original Kashmir Lacha Saffron/ Kesar/ Keshar (Certified Grade A) for Biryani, Beauty, Improved Health and Tilak (Pack of 1 (1gram))\"],[\"SWADESI STUFF Quartz Movement Analogue Black Dial Leather Strap Lord Shiva Mahadev Men's Watch\"]],\"hovertemplate\":\"Quantity=2<br>Order Date=%{x}<br>Price=%{y}<br>Product Name=%{customdata[0]}<extra></extra>\",\"legendgroup\":\"2\",\"line\":{\"color\":\"#00cc96\",\"dash\":\"dot\"},\"marker\":{\"symbol\":\"circle\"},\"mode\":\"markers+lines\",\"name\":\"2\",\"orientation\":\"v\",\"showlegend\":true,\"x\":[\"2022-10-12T13:18:28\",\"2022-01-19T18:29:37\",\"2021-01-15T14:03:57\",\"2019-07-31T05:18:49\"],\"xaxis\":\"x\",\"y\":[374.0,798.0,540.0,398.0],\"yaxis\":\"y\",\"type\":\"scatter\"}],                        {\"template\":{\"data\":{\"histogram2dcontour\":[{\"type\":\"histogram2dcontour\",\"colorbar\":{\"outlinewidth\":0,\"ticks\":\"\"},\"colorscale\":[[0.0,\"#0d0887\"],[0.1111111111111111,\"#46039f\"],[0.2222222222222222,\"#7201a8\"],[0.3333333333333333,\"#9c179e\"],[0.4444444444444444,\"#bd3786\"],[0.5555555555555556,\"#d8576b\"],[0.6666666666666666,\"#ed7953\"],[0.7777777777777778,\"#fb9f3a\"],[0.8888888888888888,\"#fdca26\"],[1.0,\"#f0f921\"]]}],\"choropleth\":[{\"type\":\"choropleth\",\"colorbar\":{\"outlinewidth\":0,\"ticks\":\"\"}}],\"histogram2d\":[{\"type\":\"histogram2d\",\"colorbar\":{\"outlinewidth\":0,\"ticks\":\"\"},\"colorscale\":[[0.0,\"#0d0887\"],[0.1111111111111111,\"#46039f\"],[0.2222222222222222,\"#7201a8\"],[0.3333333333333333,\"#9c179e\"],[0.4444444444444444,\"#bd3786\"],[0.5555555555555556,\"#d8576b\"],[0.6666666666666666,\"#ed7953\"],[0.7777777777777778,\"#fb9f3a\"],[0.8888888888888888,\"#fdca26\"],[1.0,\"#f0f921\"]]}],\"heatmap\":[{\"type\":\"heatmap\",\"colorbar\":{\"outlinewidth\":0,\"ticks\":\"\"},\"colorscale\":[[0.0,\"#0d0887\"],[0.1111111111111111,\"#46039f\"],[0.2222222222222222,\"#7201a8\"],[0.3333333333333333,\"#9c179e\"],[0.4444444444444444,\"#bd3786\"],[0.5555555555555556,\"#d8576b\"],[0.6666666666666666,\"#ed7953\"],[0.7777777777777778,\"#fb9f3a\"],[0.8888888888888888,\"#fdca26\"],[1.0,\"#f0f921\"]]}],\"heatmapgl\":[{\"type\":\"heatmapgl\",\"colorbar\":{\"outlinewidth\":0,\"ticks\":\"\"},\"colorscale\":[[0.0,\"#0d0887\"],[0.1111111111111111,\"#46039f\"],[0.2222222222222222,\"#7201a8\"],[0.3333333333333333,\"#9c179e\"],[0.4444444444444444,\"#bd3786\"],[0.5555555555555556,\"#d8576b\"],[0.6666666666666666,\"#ed7953\"],[0.7777777777777778,\"#fb9f3a\"],[0.8888888888888888,\"#fdca26\"],[1.0,\"#f0f921\"]]}],\"contourcarpet\":[{\"type\":\"contourcarpet\",\"colorbar\":{\"outlinewidth\":0,\"ticks\":\"\"}}],\"contour\":[{\"type\":\"contour\",\"colorbar\":{\"outlinewidth\":0,\"ticks\":\"\"},\"colorscale\":[[0.0,\"#0d0887\"],[0.1111111111111111,\"#46039f\"],[0.2222222222222222,\"#7201a8\"],[0.3333333333333333,\"#9c179e\"],[0.4444444444444444,\"#bd3786\"],[0.5555555555555556,\"#d8576b\"],[0.6666666666666666,\"#ed7953\"],[0.7777777777777778,\"#fb9f3a\"],[0.8888888888888888,\"#fdca26\"],[1.0,\"#f0f921\"]]}],\"surface\":[{\"type\":\"surface\",\"colorbar\":{\"outlinewidth\":0,\"ticks\":\"\"},\"colorscale\":[[0.0,\"#0d0887\"],[0.1111111111111111,\"#46039f\"],[0.2222222222222222,\"#7201a8\"],[0.3333333333333333,\"#9c179e\"],[0.4444444444444444,\"#bd3786\"],[0.5555555555555556,\"#d8576b\"],[0.6666666666666666,\"#ed7953\"],[0.7777777777777778,\"#fb9f3a\"],[0.8888888888888888,\"#fdca26\"],[1.0,\"#f0f921\"]]}],\"mesh3d\":[{\"type\":\"mesh3d\",\"colorbar\":{\"outlinewidth\":0,\"ticks\":\"\"}}],\"scatter\":[{\"fillpattern\":{\"fillmode\":\"overlay\",\"size\":10,\"solidity\":0.2},\"type\":\"scatter\"}],\"parcoords\":[{\"type\":\"parcoords\",\"line\":{\"colorbar\":{\"outlinewidth\":0,\"ticks\":\"\"}}}],\"scatterpolargl\":[{\"type\":\"scatterpolargl\",\"marker\":{\"colorbar\":{\"outlinewidth\":0,\"ticks\":\"\"}}}],\"bar\":[{\"error_x\":{\"color\":\"#2a3f5f\"},\"error_y\":{\"color\":\"#2a3f5f\"},\"marker\":{\"line\":{\"color\":\"#E5ECF6\",\"width\":0.5},\"pattern\":{\"fillmode\":\"overlay\",\"size\":10,\"solidity\":0.2}},\"type\":\"bar\"}],\"scattergeo\":[{\"type\":\"scattergeo\",\"marker\":{\"colorbar\":{\"outlinewidth\":0,\"ticks\":\"\"}}}],\"scatterpolar\":[{\"type\":\"scatterpolar\",\"marker\":{\"colorbar\":{\"outlinewidth\":0,\"ticks\":\"\"}}}],\"histogram\":[{\"marker\":{\"pattern\":{\"fillmode\":\"overlay\",\"size\":10,\"solidity\":0.2}},\"type\":\"histogram\"}],\"scattergl\":[{\"type\":\"scattergl\",\"marker\":{\"colorbar\":{\"outlinewidth\":0,\"ticks\":\"\"}}}],\"scatter3d\":[{\"type\":\"scatter3d\",\"line\":{\"colorbar\":{\"outlinewidth\":0,\"ticks\":\"\"}},\"marker\":{\"colorbar\":{\"outlinewidth\":0,\"ticks\":\"\"}}}],\"scattermapbox\":[{\"type\":\"scattermapbox\",\"marker\":{\"colorbar\":{\"outlinewidth\":0,\"ticks\":\"\"}}}],\"scatterternary\":[{\"type\":\"scatterternary\",\"marker\":{\"colorbar\":{\"outlinewidth\":0,\"ticks\":\"\"}}}],\"scattercarpet\":[{\"type\":\"scattercarpet\",\"marker\":{\"colorbar\":{\"outlinewidth\":0,\"ticks\":\"\"}}}],\"carpet\":[{\"aaxis\":{\"endlinecolor\":\"#2a3f5f\",\"gridcolor\":\"white\",\"linecolor\":\"white\",\"minorgridcolor\":\"white\",\"startlinecolor\":\"#2a3f5f\"},\"baxis\":{\"endlinecolor\":\"#2a3f5f\",\"gridcolor\":\"white\",\"linecolor\":\"white\",\"minorgridcolor\":\"white\",\"startlinecolor\":\"#2a3f5f\"},\"type\":\"carpet\"}],\"table\":[{\"cells\":{\"fill\":{\"color\":\"#EBF0F8\"},\"line\":{\"color\":\"white\"}},\"header\":{\"fill\":{\"color\":\"#C8D4E3\"},\"line\":{\"color\":\"white\"}},\"type\":\"table\"}],\"barpolar\":[{\"marker\":{\"line\":{\"color\":\"#E5ECF6\",\"width\":0.5},\"pattern\":{\"fillmode\":\"overlay\",\"size\":10,\"solidity\":0.2}},\"type\":\"barpolar\"}],\"pie\":[{\"automargin\":true,\"type\":\"pie\"}]},\"layout\":{\"autotypenumbers\":\"strict\",\"colorway\":[\"#636efa\",\"#EF553B\",\"#00cc96\",\"#ab63fa\",\"#FFA15A\",\"#19d3f3\",\"#FF6692\",\"#B6E880\",\"#FF97FF\",\"#FECB52\"],\"font\":{\"color\":\"#2a3f5f\"},\"hovermode\":\"closest\",\"hoverlabel\":{\"align\":\"left\"},\"paper_bgcolor\":\"white\",\"plot_bgcolor\":\"#E5ECF6\",\"polar\":{\"bgcolor\":\"#E5ECF6\",\"angularaxis\":{\"gridcolor\":\"white\",\"linecolor\":\"white\",\"ticks\":\"\"},\"radialaxis\":{\"gridcolor\":\"white\",\"linecolor\":\"white\",\"ticks\":\"\"}},\"ternary\":{\"bgcolor\":\"#E5ECF6\",\"aaxis\":{\"gridcolor\":\"white\",\"linecolor\":\"white\",\"ticks\":\"\"},\"baxis\":{\"gridcolor\":\"white\",\"linecolor\":\"white\",\"ticks\":\"\"},\"caxis\":{\"gridcolor\":\"white\",\"linecolor\":\"white\",\"ticks\":\"\"}},\"coloraxis\":{\"colorbar\":{\"outlinewidth\":0,\"ticks\":\"\"}},\"colorscale\":{\"sequential\":[[0.0,\"#0d0887\"],[0.1111111111111111,\"#46039f\"],[0.2222222222222222,\"#7201a8\"],[0.3333333333333333,\"#9c179e\"],[0.4444444444444444,\"#bd3786\"],[0.5555555555555556,\"#d8576b\"],[0.6666666666666666,\"#ed7953\"],[0.7777777777777778,\"#fb9f3a\"],[0.8888888888888888,\"#fdca26\"],[1.0,\"#f0f921\"]],\"sequentialminus\":[[0.0,\"#0d0887\"],[0.1111111111111111,\"#46039f\"],[0.2222222222222222,\"#7201a8\"],[0.3333333333333333,\"#9c179e\"],[0.4444444444444444,\"#bd3786\"],[0.5555555555555556,\"#d8576b\"],[0.6666666666666666,\"#ed7953\"],[0.7777777777777778,\"#fb9f3a\"],[0.8888888888888888,\"#fdca26\"],[1.0,\"#f0f921\"]],\"diverging\":[[0,\"#8e0152\"],[0.1,\"#c51b7d\"],[0.2,\"#de77ae\"],[0.3,\"#f1b6da\"],[0.4,\"#fde0ef\"],[0.5,\"#f7f7f7\"],[0.6,\"#e6f5d0\"],[0.7,\"#b8e186\"],[0.8,\"#7fbc41\"],[0.9,\"#4d9221\"],[1,\"#276419\"]]},\"xaxis\":{\"gridcolor\":\"white\",\"linecolor\":\"white\",\"ticks\":\"\",\"title\":{\"standoff\":15},\"zerolinecolor\":\"white\",\"automargin\":true,\"zerolinewidth\":2},\"yaxis\":{\"gridcolor\":\"white\",\"linecolor\":\"white\",\"ticks\":\"\",\"title\":{\"standoff\":15},\"zerolinecolor\":\"white\",\"automargin\":true,\"zerolinewidth\":2},\"scene\":{\"xaxis\":{\"backgroundcolor\":\"#E5ECF6\",\"gridcolor\":\"white\",\"linecolor\":\"white\",\"showbackground\":true,\"ticks\":\"\",\"zerolinecolor\":\"white\",\"gridwidth\":2},\"yaxis\":{\"backgroundcolor\":\"#E5ECF6\",\"gridcolor\":\"white\",\"linecolor\":\"white\",\"showbackground\":true,\"ticks\":\"\",\"zerolinecolor\":\"white\",\"gridwidth\":2},\"zaxis\":{\"backgroundcolor\":\"#E5ECF6\",\"gridcolor\":\"white\",\"linecolor\":\"white\",\"showbackground\":true,\"ticks\":\"\",\"zerolinecolor\":\"white\",\"gridwidth\":2}},\"shapedefaults\":{\"line\":{\"color\":\"#2a3f5f\"}},\"annotationdefaults\":{\"arrowcolor\":\"#2a3f5f\",\"arrowhead\":0,\"arrowwidth\":1},\"geo\":{\"bgcolor\":\"white\",\"landcolor\":\"#E5ECF6\",\"subunitcolor\":\"white\",\"showland\":true,\"showlakes\":true,\"lakecolor\":\"white\"},\"title\":{\"x\":0.05},\"mapbox\":{\"style\":\"light\"}}},\"xaxis\":{\"anchor\":\"y\",\"domain\":[0.0,1.0],\"title\":{\"text\":\"Order Date\"}},\"yaxis\":{\"anchor\":\"x\",\"domain\":[0.0,1.0],\"title\":{\"text\":\"Price\"}},\"legend\":{\"title\":{\"text\":\"Quantity\"},\"tracegroupgap\":0},\"title\":{\"text\":\"Orders through the time\"}},                        {\"responsive\": true}                    ).then(function(){\n",
       "                            \n",
       "var gd = document.getElementById('406eff21-1fd5-4fb3-a62a-5df73d2daca4');\n",
       "var x = new MutationObserver(function (mutations, observer) {{\n",
       "        var display = window.getComputedStyle(gd).display;\n",
       "        if (!display || display === 'none') {{\n",
       "            console.log([gd, 'removed!']);\n",
       "            Plotly.purge(gd);\n",
       "            observer.disconnect();\n",
       "        }}\n",
       "}});\n",
       "\n",
       "// Listen for the removal of the full notebook cells\n",
       "var notebookContainer = gd.closest('#notebook-container');\n",
       "if (notebookContainer) {{\n",
       "    x.observe(notebookContainer, {childList: true});\n",
       "}}\n",
       "\n",
       "// Listen for the clearing of the current output cell\n",
       "var outputEl = gd.closest('.output');\n",
       "if (outputEl) {{\n",
       "    x.observe(outputEl, {childList: true});\n",
       "}}\n",
       "\n",
       "                        })                };                });            </script>        </div>"
      ]
     },
     "metadata": {},
     "output_type": "display_data"
    }
   ],
   "source": [
    "px.line(x='Order Date', y='Total Owed',data_frame=orders_df,\n",
    "       title='Orders through the time',hover_data=['Product Name'],labels={'Total Owed':'Price'},color='Quantity',line_dash_sequence=['dot'],markers=True)"
   ]
  },
  {
   "cell_type": "markdown",
   "id": "3b870db1",
   "metadata": {
    "papermill": {
     "duration": 0.015931,
     "end_time": "2023-03-31T12:06:19.856526",
     "exception": false,
     "start_time": "2023-03-31T12:06:19.840595",
     "status": "completed"
    },
    "tags": []
   },
   "source": [
    "#### Inference\n",
    "Around late **2019** to late **2021**, the number of orders were lowest and the products were not relatively that costly when compared to other times excluding the stated time-range "
   ]
  },
  {
   "cell_type": "markdown",
   "id": "a7885703",
   "metadata": {
    "papermill": {
     "duration": 0.015701,
     "end_time": "2023-03-31T12:06:19.888323",
     "exception": false,
     "start_time": "2023-03-31T12:06:19.872622",
     "status": "completed"
    },
    "tags": []
   },
   "source": [
    "### Tax of products"
   ]
  },
  {
   "cell_type": "code",
   "execution_count": 30,
   "id": "8a943953",
   "metadata": {
    "execution": {
     "iopub.execute_input": "2023-03-31T12:06:19.922949Z",
     "iopub.status.busy": "2023-03-31T12:06:19.922162Z",
     "iopub.status.idle": "2023-03-31T12:06:20.019908Z",
     "shell.execute_reply": "2023-03-31T12:06:20.018440Z"
    },
    "papermill": {
     "duration": 0.118323,
     "end_time": "2023-03-31T12:06:20.022790",
     "exception": false,
     "start_time": "2023-03-31T12:06:19.904467",
     "status": "completed"
    },
    "tags": []
   },
   "outputs": [
    {
     "data": {
      "text/html": [
       "<div>                            <div id=\"07ce3b08-839e-4eff-8268-bd3fffd39a70\" class=\"plotly-graph-div\" style=\"height:525px; width:100%;\"></div>            <script type=\"text/javascript\">                require([\"plotly\"], function(Plotly) {                    window.PLOTLYENV=window.PLOTLYENV || {};                                    if (document.getElementById(\"07ce3b08-839e-4eff-8268-bd3fffd39a70\")) {                    Plotly.newPlot(                        \"07ce3b08-839e-4eff-8268-bd3fffd39a70\",                        [{\"alignmentgroup\":\"True\",\"customdata\":[[\"Honor 8X (Black, 4GB RAM, 64GB Storage)\"],[\"Lenovo Z2 Plus (Black, 64GB)\"],[\"Asus Zenfone 2 Laser 5.5 ZE550KL(Black, 3 GB RAM, 16 GB)\"],[\"Rynox Air GT 4 Jacket - Mesh Motorcycle Riding Jacket with Impact Protection and Abrasion Resistance - Black White | Small\"],[\"Axor Apex Hunter D/V Dull Black Red Helmet-M\"],[\"ALFA AWUS036NEH Long Range WIRELESS 802.11b/g/n Wi-Fi USBAdapter\"],[\"Casio Youth-Analog Black Dial Men's Watch-MCW-100H-9A2VDF (AD215)\"],[\"Peter England Men's Blue Blazer Slim (PIBZSNSBS78506_MediumBlue80_44)\"],[\"Rynox Air GT Riding Gloves (Grey Red, M)\"],[\"Butterfly Jet Elite Mixer Grinder, 750W, 4 Jars (Grey)\"]],\"hovertemplate\":\"variable=Price<br>value=%{x}<br>shorted_names=%{y}<br>Product Name=%{customdata[0]}<extra></extra>\",\"legendgroup\":\"Price\",\"marker\":{\"color\":\"#636efa\",\"opacity\":0.7,\"pattern\":{\"shape\":\"\"}},\"name\":\"Price\",\"offsetgroup\":\"Price\",\"orientation\":\"h\",\"showlegend\":true,\"textposition\":\"auto\",\"x\":[14999.0,12499.0,9999.0,6950.0,4856.0,3625.0,3599.0,2969.0,2750.0,2599.0],\"xaxis\":\"x\",\"y\":[\"Honor 8X (Black, 4GB RAM, 64GB Stor\",\"Lenovo Z2 Plus (Black, 64GB)\",\"Asus Zenfone 2 Laser 5.5 ZE550KL(Bl\",\"Rynox Air GT 4 Jacket - Mesh Motorc\",\"Axor Apex Hunter D/V Dull Black Red\",\"ALFA AWUS036NEH Long Range WIRELESS\",\"Casio Youth-Analog Black Dial Men's\",\"Peter England Men's Blue Blazer Sli\",\"Rynox Air GT Riding Gloves (Grey Re\",\"Butterfly Jet Elite Mixer Grinder, \"],\"yaxis\":\"y\",\"type\":\"bar\"},{\"alignmentgroup\":\"True\",\"customdata\":[[\"Honor 8X (Black, 4GB RAM, 64GB Storage)\"],[\"Lenovo Z2 Plus (Black, 64GB)\"],[\"Asus Zenfone 2 Laser 5.5 ZE550KL(Black, 3 GB RAM, 16 GB)\"],[\"Rynox Air GT 4 Jacket - Mesh Motorcycle Riding Jacket with Impact Protection and Abrasion Resistance - Black White | Small\"],[\"Axor Apex Hunter D/V Dull Black Red Helmet-M\"],[\"ALFA AWUS036NEH Long Range WIRELESS 802.11b/g/n Wi-Fi USBAdapter\"],[\"Casio Youth-Analog Black Dial Men's Watch-MCW-100H-9A2VDF (AD215)\"],[\"Peter England Men's Blue Blazer Slim (PIBZSNSBS78506_MediumBlue80_44)\"],[\"Rynox Air GT Riding Gloves (Grey Red, M)\"],[\"Butterfly Jet Elite Mixer Grinder, 750W, 4 Jars (Grey)\"]],\"hovertemplate\":\"variable=Tax<br>value=%{x}<br>shorted_names=%{y}<br>Product Name=%{customdata[0]}<extra></extra>\",\"legendgroup\":\"Tax\",\"marker\":{\"color\":\"#EF553B\",\"opacity\":0.7,\"pattern\":{\"shape\":\"\"}},\"name\":\"Tax\",\"offsetgroup\":\"Tax\",\"orientation\":\"h\",\"showlegend\":true,\"textposition\":\"auto\",\"x\":[1607.04,1339.18,521.27,744.64,740.74,552.97,549.0,141.38,294.64,396.46],\"xaxis\":\"x\",\"y\":[\"Honor 8X (Black, 4GB RAM, 64GB Stor\",\"Lenovo Z2 Plus (Black, 64GB)\",\"Asus Zenfone 2 Laser 5.5 ZE550KL(Bl\",\"Rynox Air GT 4 Jacket - Mesh Motorc\",\"Axor Apex Hunter D/V Dull Black Red\",\"ALFA AWUS036NEH Long Range WIRELESS\",\"Casio Youth-Analog Black Dial Men's\",\"Peter England Men's Blue Blazer Sli\",\"Rynox Air GT Riding Gloves (Grey Re\",\"Butterfly Jet Elite Mixer Grinder, \"],\"yaxis\":\"y\",\"type\":\"bar\"}],                        {\"template\":{\"data\":{\"histogram2dcontour\":[{\"type\":\"histogram2dcontour\",\"colorbar\":{\"outlinewidth\":0,\"ticks\":\"\"},\"colorscale\":[[0.0,\"#0d0887\"],[0.1111111111111111,\"#46039f\"],[0.2222222222222222,\"#7201a8\"],[0.3333333333333333,\"#9c179e\"],[0.4444444444444444,\"#bd3786\"],[0.5555555555555556,\"#d8576b\"],[0.6666666666666666,\"#ed7953\"],[0.7777777777777778,\"#fb9f3a\"],[0.8888888888888888,\"#fdca26\"],[1.0,\"#f0f921\"]]}],\"choropleth\":[{\"type\":\"choropleth\",\"colorbar\":{\"outlinewidth\":0,\"ticks\":\"\"}}],\"histogram2d\":[{\"type\":\"histogram2d\",\"colorbar\":{\"outlinewidth\":0,\"ticks\":\"\"},\"colorscale\":[[0.0,\"#0d0887\"],[0.1111111111111111,\"#46039f\"],[0.2222222222222222,\"#7201a8\"],[0.3333333333333333,\"#9c179e\"],[0.4444444444444444,\"#bd3786\"],[0.5555555555555556,\"#d8576b\"],[0.6666666666666666,\"#ed7953\"],[0.7777777777777778,\"#fb9f3a\"],[0.8888888888888888,\"#fdca26\"],[1.0,\"#f0f921\"]]}],\"heatmap\":[{\"type\":\"heatmap\",\"colorbar\":{\"outlinewidth\":0,\"ticks\":\"\"},\"colorscale\":[[0.0,\"#0d0887\"],[0.1111111111111111,\"#46039f\"],[0.2222222222222222,\"#7201a8\"],[0.3333333333333333,\"#9c179e\"],[0.4444444444444444,\"#bd3786\"],[0.5555555555555556,\"#d8576b\"],[0.6666666666666666,\"#ed7953\"],[0.7777777777777778,\"#fb9f3a\"],[0.8888888888888888,\"#fdca26\"],[1.0,\"#f0f921\"]]}],\"heatmapgl\":[{\"type\":\"heatmapgl\",\"colorbar\":{\"outlinewidth\":0,\"ticks\":\"\"},\"colorscale\":[[0.0,\"#0d0887\"],[0.1111111111111111,\"#46039f\"],[0.2222222222222222,\"#7201a8\"],[0.3333333333333333,\"#9c179e\"],[0.4444444444444444,\"#bd3786\"],[0.5555555555555556,\"#d8576b\"],[0.6666666666666666,\"#ed7953\"],[0.7777777777777778,\"#fb9f3a\"],[0.8888888888888888,\"#fdca26\"],[1.0,\"#f0f921\"]]}],\"contourcarpet\":[{\"type\":\"contourcarpet\",\"colorbar\":{\"outlinewidth\":0,\"ticks\":\"\"}}],\"contour\":[{\"type\":\"contour\",\"colorbar\":{\"outlinewidth\":0,\"ticks\":\"\"},\"colorscale\":[[0.0,\"#0d0887\"],[0.1111111111111111,\"#46039f\"],[0.2222222222222222,\"#7201a8\"],[0.3333333333333333,\"#9c179e\"],[0.4444444444444444,\"#bd3786\"],[0.5555555555555556,\"#d8576b\"],[0.6666666666666666,\"#ed7953\"],[0.7777777777777778,\"#fb9f3a\"],[0.8888888888888888,\"#fdca26\"],[1.0,\"#f0f921\"]]}],\"surface\":[{\"type\":\"surface\",\"colorbar\":{\"outlinewidth\":0,\"ticks\":\"\"},\"colorscale\":[[0.0,\"#0d0887\"],[0.1111111111111111,\"#46039f\"],[0.2222222222222222,\"#7201a8\"],[0.3333333333333333,\"#9c179e\"],[0.4444444444444444,\"#bd3786\"],[0.5555555555555556,\"#d8576b\"],[0.6666666666666666,\"#ed7953\"],[0.7777777777777778,\"#fb9f3a\"],[0.8888888888888888,\"#fdca26\"],[1.0,\"#f0f921\"]]}],\"mesh3d\":[{\"type\":\"mesh3d\",\"colorbar\":{\"outlinewidth\":0,\"ticks\":\"\"}}],\"scatter\":[{\"fillpattern\":{\"fillmode\":\"overlay\",\"size\":10,\"solidity\":0.2},\"type\":\"scatter\"}],\"parcoords\":[{\"type\":\"parcoords\",\"line\":{\"colorbar\":{\"outlinewidth\":0,\"ticks\":\"\"}}}],\"scatterpolargl\":[{\"type\":\"scatterpolargl\",\"marker\":{\"colorbar\":{\"outlinewidth\":0,\"ticks\":\"\"}}}],\"bar\":[{\"error_x\":{\"color\":\"#2a3f5f\"},\"error_y\":{\"color\":\"#2a3f5f\"},\"marker\":{\"line\":{\"color\":\"#E5ECF6\",\"width\":0.5},\"pattern\":{\"fillmode\":\"overlay\",\"size\":10,\"solidity\":0.2}},\"type\":\"bar\"}],\"scattergeo\":[{\"type\":\"scattergeo\",\"marker\":{\"colorbar\":{\"outlinewidth\":0,\"ticks\":\"\"}}}],\"scatterpolar\":[{\"type\":\"scatterpolar\",\"marker\":{\"colorbar\":{\"outlinewidth\":0,\"ticks\":\"\"}}}],\"histogram\":[{\"marker\":{\"pattern\":{\"fillmode\":\"overlay\",\"size\":10,\"solidity\":0.2}},\"type\":\"histogram\"}],\"scattergl\":[{\"type\":\"scattergl\",\"marker\":{\"colorbar\":{\"outlinewidth\":0,\"ticks\":\"\"}}}],\"scatter3d\":[{\"type\":\"scatter3d\",\"line\":{\"colorbar\":{\"outlinewidth\":0,\"ticks\":\"\"}},\"marker\":{\"colorbar\":{\"outlinewidth\":0,\"ticks\":\"\"}}}],\"scattermapbox\":[{\"type\":\"scattermapbox\",\"marker\":{\"colorbar\":{\"outlinewidth\":0,\"ticks\":\"\"}}}],\"scatterternary\":[{\"type\":\"scatterternary\",\"marker\":{\"colorbar\":{\"outlinewidth\":0,\"ticks\":\"\"}}}],\"scattercarpet\":[{\"type\":\"scattercarpet\",\"marker\":{\"colorbar\":{\"outlinewidth\":0,\"ticks\":\"\"}}}],\"carpet\":[{\"aaxis\":{\"endlinecolor\":\"#2a3f5f\",\"gridcolor\":\"white\",\"linecolor\":\"white\",\"minorgridcolor\":\"white\",\"startlinecolor\":\"#2a3f5f\"},\"baxis\":{\"endlinecolor\":\"#2a3f5f\",\"gridcolor\":\"white\",\"linecolor\":\"white\",\"minorgridcolor\":\"white\",\"startlinecolor\":\"#2a3f5f\"},\"type\":\"carpet\"}],\"table\":[{\"cells\":{\"fill\":{\"color\":\"#EBF0F8\"},\"line\":{\"color\":\"white\"}},\"header\":{\"fill\":{\"color\":\"#C8D4E3\"},\"line\":{\"color\":\"white\"}},\"type\":\"table\"}],\"barpolar\":[{\"marker\":{\"line\":{\"color\":\"#E5ECF6\",\"width\":0.5},\"pattern\":{\"fillmode\":\"overlay\",\"size\":10,\"solidity\":0.2}},\"type\":\"barpolar\"}],\"pie\":[{\"automargin\":true,\"type\":\"pie\"}]},\"layout\":{\"autotypenumbers\":\"strict\",\"colorway\":[\"#636efa\",\"#EF553B\",\"#00cc96\",\"#ab63fa\",\"#FFA15A\",\"#19d3f3\",\"#FF6692\",\"#B6E880\",\"#FF97FF\",\"#FECB52\"],\"font\":{\"color\":\"#2a3f5f\"},\"hovermode\":\"closest\",\"hoverlabel\":{\"align\":\"left\"},\"paper_bgcolor\":\"white\",\"plot_bgcolor\":\"#E5ECF6\",\"polar\":{\"bgcolor\":\"#E5ECF6\",\"angularaxis\":{\"gridcolor\":\"white\",\"linecolor\":\"white\",\"ticks\":\"\"},\"radialaxis\":{\"gridcolor\":\"white\",\"linecolor\":\"white\",\"ticks\":\"\"}},\"ternary\":{\"bgcolor\":\"#E5ECF6\",\"aaxis\":{\"gridcolor\":\"white\",\"linecolor\":\"white\",\"ticks\":\"\"},\"baxis\":{\"gridcolor\":\"white\",\"linecolor\":\"white\",\"ticks\":\"\"},\"caxis\":{\"gridcolor\":\"white\",\"linecolor\":\"white\",\"ticks\":\"\"}},\"coloraxis\":{\"colorbar\":{\"outlinewidth\":0,\"ticks\":\"\"}},\"colorscale\":{\"sequential\":[[0.0,\"#0d0887\"],[0.1111111111111111,\"#46039f\"],[0.2222222222222222,\"#7201a8\"],[0.3333333333333333,\"#9c179e\"],[0.4444444444444444,\"#bd3786\"],[0.5555555555555556,\"#d8576b\"],[0.6666666666666666,\"#ed7953\"],[0.7777777777777778,\"#fb9f3a\"],[0.8888888888888888,\"#fdca26\"],[1.0,\"#f0f921\"]],\"sequentialminus\":[[0.0,\"#0d0887\"],[0.1111111111111111,\"#46039f\"],[0.2222222222222222,\"#7201a8\"],[0.3333333333333333,\"#9c179e\"],[0.4444444444444444,\"#bd3786\"],[0.5555555555555556,\"#d8576b\"],[0.6666666666666666,\"#ed7953\"],[0.7777777777777778,\"#fb9f3a\"],[0.8888888888888888,\"#fdca26\"],[1.0,\"#f0f921\"]],\"diverging\":[[0,\"#8e0152\"],[0.1,\"#c51b7d\"],[0.2,\"#de77ae\"],[0.3,\"#f1b6da\"],[0.4,\"#fde0ef\"],[0.5,\"#f7f7f7\"],[0.6,\"#e6f5d0\"],[0.7,\"#b8e186\"],[0.8,\"#7fbc41\"],[0.9,\"#4d9221\"],[1,\"#276419\"]]},\"xaxis\":{\"gridcolor\":\"white\",\"linecolor\":\"white\",\"ticks\":\"\",\"title\":{\"standoff\":15},\"zerolinecolor\":\"white\",\"automargin\":true,\"zerolinewidth\":2},\"yaxis\":{\"gridcolor\":\"white\",\"linecolor\":\"white\",\"ticks\":\"\",\"title\":{\"standoff\":15},\"zerolinecolor\":\"white\",\"automargin\":true,\"zerolinewidth\":2},\"scene\":{\"xaxis\":{\"backgroundcolor\":\"#E5ECF6\",\"gridcolor\":\"white\",\"linecolor\":\"white\",\"showbackground\":true,\"ticks\":\"\",\"zerolinecolor\":\"white\",\"gridwidth\":2},\"yaxis\":{\"backgroundcolor\":\"#E5ECF6\",\"gridcolor\":\"white\",\"linecolor\":\"white\",\"showbackground\":true,\"ticks\":\"\",\"zerolinecolor\":\"white\",\"gridwidth\":2},\"zaxis\":{\"backgroundcolor\":\"#E5ECF6\",\"gridcolor\":\"white\",\"linecolor\":\"white\",\"showbackground\":true,\"ticks\":\"\",\"zerolinecolor\":\"white\",\"gridwidth\":2}},\"shapedefaults\":{\"line\":{\"color\":\"#2a3f5f\"}},\"annotationdefaults\":{\"arrowcolor\":\"#2a3f5f\",\"arrowhead\":0,\"arrowwidth\":1},\"geo\":{\"bgcolor\":\"white\",\"landcolor\":\"#E5ECF6\",\"subunitcolor\":\"white\",\"showland\":true,\"showlakes\":true,\"lakecolor\":\"white\"},\"title\":{\"x\":0.05},\"mapbox\":{\"style\":\"light\"}}},\"xaxis\":{\"anchor\":\"y\",\"domain\":[0.0,1.0],\"title\":{\"text\":\"value\"}},\"yaxis\":{\"anchor\":\"x\",\"domain\":[0.0,1.0],\"title\":{\"text\":\"shorted_names\"}},\"legend\":{\"title\":{\"text\":\"variable\"},\"tracegroupgap\":0},\"title\":{\"text\":\"Products with their Price and Tax\"},\"barmode\":\"overlay\"},                        {\"responsive\": true}                    ).then(function(){\n",
       "                            \n",
       "var gd = document.getElementById('07ce3b08-839e-4eff-8268-bd3fffd39a70');\n",
       "var x = new MutationObserver(function (mutations, observer) {{\n",
       "        var display = window.getComputedStyle(gd).display;\n",
       "        if (!display || display === 'none') {{\n",
       "            console.log([gd, 'removed!']);\n",
       "            Plotly.purge(gd);\n",
       "            observer.disconnect();\n",
       "        }}\n",
       "}});\n",
       "\n",
       "// Listen for the removal of the full notebook cells\n",
       "var notebookContainer = gd.closest('#notebook-container');\n",
       "if (notebookContainer) {{\n",
       "    x.observe(notebookContainer, {childList: true});\n",
       "}}\n",
       "\n",
       "// Listen for the clearing of the current output cell\n",
       "var outputEl = gd.closest('.output');\n",
       "if (outputEl) {{\n",
       "    x.observe(outputEl, {childList: true});\n",
       "}}\n",
       "\n",
       "                        })                };                });            </script>        </div>"
      ]
     },
     "metadata": {},
     "output_type": "display_data"
    }
   ],
   "source": [
    "px.bar(data_frame=product_price[:10],x=['Price','Tax'],y='shorted_names',barmode='overlay',opacity=0.7,\n",
    "       title='Products with their Price and Tax',\n",
    "       hover_data=['Product Name'])"
   ]
  },
  {
   "cell_type": "markdown",
   "id": "9feb71cb",
   "metadata": {
    "papermill": {
     "duration": 0.016002,
     "end_time": "2023-03-31T12:06:20.055316",
     "exception": false,
     "start_time": "2023-03-31T12:06:20.039314",
     "status": "completed"
    },
    "tags": []
   },
   "source": [
    "#### Inference\n",
    "we observe that some products have taxes more than the other products even though they cost less or other products cost more than them, one thing to notice is the date at which product is ordered, as over the time government changes policies and taxes which affects companies and their products accordingly."
   ]
  },
  {
   "cell_type": "code",
   "execution_count": 31,
   "id": "d7bdaad1",
   "metadata": {
    "execution": {
     "iopub.execute_input": "2023-03-31T12:06:20.090136Z",
     "iopub.status.busy": "2023-03-31T12:06:20.089692Z",
     "iopub.status.idle": "2023-03-31T12:06:20.115645Z",
     "shell.execute_reply": "2023-03-31T12:06:20.114337Z"
    },
    "papermill": {
     "duration": 0.046421,
     "end_time": "2023-03-31T12:06:20.118184",
     "exception": false,
     "start_time": "2023-03-31T12:06:20.071763",
     "status": "completed"
    },
    "tags": []
   },
   "outputs": [
    {
     "data": {
      "text/html": [
       "<div>\n",
       "<style scoped>\n",
       "    .dataframe tbody tr th:only-of-type {\n",
       "        vertical-align: middle;\n",
       "    }\n",
       "\n",
       "    .dataframe tbody tr th {\n",
       "        vertical-align: top;\n",
       "    }\n",
       "\n",
       "    .dataframe thead th {\n",
       "        text-align: right;\n",
       "    }\n",
       "</style>\n",
       "<table border=\"1\" class=\"dataframe\">\n",
       "  <thead>\n",
       "    <tr style=\"text-align: right;\">\n",
       "      <th></th>\n",
       "      <th>Order ID</th>\n",
       "      <th>Order Date</th>\n",
       "      <th>Currency</th>\n",
       "      <th>Unit Price</th>\n",
       "      <th>Unit Price Tax</th>\n",
       "      <th>Shipping Charge</th>\n",
       "      <th>Total Discounts</th>\n",
       "      <th>Total Owed</th>\n",
       "      <th>Shipment Item Subtotal</th>\n",
       "      <th>Shipment Item Subtotal Tax</th>\n",
       "      <th>ASIN</th>\n",
       "      <th>Product Condition</th>\n",
       "      <th>Quantity</th>\n",
       "      <th>Payment Instrument Type</th>\n",
       "      <th>Order Status</th>\n",
       "      <th>Shipment Status</th>\n",
       "      <th>Ship Date</th>\n",
       "      <th>Shipping Option</th>\n",
       "      <th>Product Name</th>\n",
       "    </tr>\n",
       "  </thead>\n",
       "  <tbody>\n",
       "    <tr>\n",
       "      <th>0</th>\n",
       "      <td>402-3170714-4132350</td>\n",
       "      <td>2023-03-24 02:28:49</td>\n",
       "      <td>INR</td>\n",
       "      <td>6205.36</td>\n",
       "      <td>744.64</td>\n",
       "      <td>0.00</td>\n",
       "      <td>0.0</td>\n",
       "      <td>6950.0</td>\n",
       "      <td>6205.36</td>\n",
       "      <td>744.64</td>\n",
       "      <td>B0BSR1J8XW</td>\n",
       "      <td>New</td>\n",
       "      <td>1</td>\n",
       "      <td>NaN</td>\n",
       "      <td>Closed</td>\n",
       "      <td>Shipped</td>\n",
       "      <td>2023-03-27 07:43:22</td>\n",
       "      <td>Std IN EZ Metro COD</td>\n",
       "      <td>Rynox Air GT 4 Jacket - Mesh Motorcycle Riding...</td>\n",
       "    </tr>\n",
       "    <tr>\n",
       "      <th>1</th>\n",
       "      <td>402-0957206-0852356</td>\n",
       "      <td>2023-03-03 08:02:35</td>\n",
       "      <td>INR</td>\n",
       "      <td>226.27</td>\n",
       "      <td>40.73</td>\n",
       "      <td>6.10</td>\n",
       "      <td>0.0</td>\n",
       "      <td>267.0</td>\n",
       "      <td>226.27</td>\n",
       "      <td>40.73</td>\n",
       "      <td>B00S5SAFDQ</td>\n",
       "      <td>New</td>\n",
       "      <td>1</td>\n",
       "      <td>NaN</td>\n",
       "      <td>Closed</td>\n",
       "      <td>Shipped</td>\n",
       "      <td>2023-03-13 09:24:47</td>\n",
       "      <td>std-in-10k</td>\n",
       "      <td>3M Auto Specialty Tyre Dresser (250 ml) | Long...</td>\n",
       "    </tr>\n",
       "    <tr>\n",
       "      <th>2</th>\n",
       "      <td>402-0957206-0852356</td>\n",
       "      <td>2023-03-03 08:02:35</td>\n",
       "      <td>INR</td>\n",
       "      <td>168.64</td>\n",
       "      <td>30.36</td>\n",
       "      <td>6.10</td>\n",
       "      <td>0.0</td>\n",
       "      <td>199.0</td>\n",
       "      <td>366.10</td>\n",
       "      <td>65.90</td>\n",
       "      <td>B01ESPB2VI</td>\n",
       "      <td>New</td>\n",
       "      <td>1</td>\n",
       "      <td>NaN</td>\n",
       "      <td>Closed</td>\n",
       "      <td>Shipped</td>\n",
       "      <td>2023-03-03 11:15:18</td>\n",
       "      <td>std-in-10k</td>\n",
       "      <td>Motul C2 Chain Lube for All Bikes (150 ml)</td>\n",
       "    </tr>\n",
       "    <tr>\n",
       "      <th>3</th>\n",
       "      <td>402-0957206-0852356</td>\n",
       "      <td>2023-03-03 08:02:35</td>\n",
       "      <td>INR</td>\n",
       "      <td>79.46</td>\n",
       "      <td>9.54</td>\n",
       "      <td>4.29</td>\n",
       "      <td>0.0</td>\n",
       "      <td>89.0</td>\n",
       "      <td>79.46</td>\n",
       "      <td>9.54</td>\n",
       "      <td>B09XKH1R5N</td>\n",
       "      <td>New</td>\n",
       "      <td>1</td>\n",
       "      <td>NaN</td>\n",
       "      <td>Closed</td>\n",
       "      <td>Shipped</td>\n",
       "      <td>2023-03-03 09:31:07</td>\n",
       "      <td>std-in-10k</td>\n",
       "      <td>Stewit Universal Motorcycle/Cycle Chain Cleane...</td>\n",
       "    </tr>\n",
       "    <tr>\n",
       "      <th>4</th>\n",
       "      <td>402-0957206-0852356</td>\n",
       "      <td>2023-03-03 08:02:35</td>\n",
       "      <td>INR</td>\n",
       "      <td>197.46</td>\n",
       "      <td>35.54</td>\n",
       "      <td>6.10</td>\n",
       "      <td>0.0</td>\n",
       "      <td>233.0</td>\n",
       "      <td>366.10</td>\n",
       "      <td>65.90</td>\n",
       "      <td>B01ESPB2V8</td>\n",
       "      <td>New</td>\n",
       "      <td>1</td>\n",
       "      <td>NaN</td>\n",
       "      <td>Closed</td>\n",
       "      <td>Shipped</td>\n",
       "      <td>2023-03-03 11:15:18</td>\n",
       "      <td>std-in-10k</td>\n",
       "      <td>Motul C1 Chain Clean for All Bikes (150 ml)</td>\n",
       "    </tr>\n",
       "  </tbody>\n",
       "</table>\n",
       "</div>"
      ],
      "text/plain": [
       "              Order ID          Order Date Currency  Unit Price  \\\n",
       "0  402-3170714-4132350 2023-03-24 02:28:49      INR     6205.36   \n",
       "1  402-0957206-0852356 2023-03-03 08:02:35      INR      226.27   \n",
       "2  402-0957206-0852356 2023-03-03 08:02:35      INR      168.64   \n",
       "3  402-0957206-0852356 2023-03-03 08:02:35      INR       79.46   \n",
       "4  402-0957206-0852356 2023-03-03 08:02:35      INR      197.46   \n",
       "\n",
       "   Unit Price Tax  Shipping Charge  Total Discounts  Total Owed  \\\n",
       "0          744.64             0.00              0.0      6950.0   \n",
       "1           40.73             6.10              0.0       267.0   \n",
       "2           30.36             6.10              0.0       199.0   \n",
       "3            9.54             4.29              0.0        89.0   \n",
       "4           35.54             6.10              0.0       233.0   \n",
       "\n",
       "   Shipment Item Subtotal  Shipment Item Subtotal Tax        ASIN  \\\n",
       "0                 6205.36                      744.64  B0BSR1J8XW   \n",
       "1                  226.27                       40.73  B00S5SAFDQ   \n",
       "2                  366.10                       65.90  B01ESPB2VI   \n",
       "3                   79.46                        9.54  B09XKH1R5N   \n",
       "4                  366.10                       65.90  B01ESPB2V8   \n",
       "\n",
       "  Product Condition  Quantity Payment Instrument Type Order Status  \\\n",
       "0               New         1                     NaN       Closed   \n",
       "1               New         1                     NaN       Closed   \n",
       "2               New         1                     NaN       Closed   \n",
       "3               New         1                     NaN       Closed   \n",
       "4               New         1                     NaN       Closed   \n",
       "\n",
       "  Shipment Status           Ship Date      Shipping Option  \\\n",
       "0         Shipped 2023-03-27 07:43:22  Std IN EZ Metro COD   \n",
       "1         Shipped 2023-03-13 09:24:47           std-in-10k   \n",
       "2         Shipped 2023-03-03 11:15:18           std-in-10k   \n",
       "3         Shipped 2023-03-03 09:31:07           std-in-10k   \n",
       "4         Shipped 2023-03-03 11:15:18           std-in-10k   \n",
       "\n",
       "                                        Product Name  \n",
       "0  Rynox Air GT 4 Jacket - Mesh Motorcycle Riding...  \n",
       "1  3M Auto Specialty Tyre Dresser (250 ml) | Long...  \n",
       "2         Motul C2 Chain Lube for All Bikes (150 ml)  \n",
       "3  Stewit Universal Motorcycle/Cycle Chain Cleane...  \n",
       "4        Motul C1 Chain Clean for All Bikes (150 ml)  "
      ]
     },
     "execution_count": 31,
     "metadata": {},
     "output_type": "execute_result"
    }
   ],
   "source": [
    "orders_df.head()"
   ]
  },
  {
   "cell_type": "code",
   "execution_count": 32,
   "id": "4145b17b",
   "metadata": {
    "execution": {
     "iopub.execute_input": "2023-03-31T12:06:20.154640Z",
     "iopub.status.busy": "2023-03-31T12:06:20.153767Z",
     "iopub.status.idle": "2023-03-31T12:06:20.369539Z",
     "shell.execute_reply": "2023-03-31T12:06:20.368358Z"
    },
    "papermill": {
     "duration": 0.237335,
     "end_time": "2023-03-31T12:06:20.372464",
     "exception": false,
     "start_time": "2023-03-31T12:06:20.135129",
     "status": "completed"
    },
    "tags": []
   },
   "outputs": [
    {
     "data": {
      "text/html": [
       "<div>                            <div id=\"ea00b040-90b4-4820-987f-fd5a6d4c7451\" class=\"plotly-graph-div\" style=\"height:525px; width:100%;\"></div>            <script type=\"text/javascript\">                require([\"plotly\"], function(Plotly) {                    window.PLOTLYENV=window.PLOTLYENV || {};                                    if (document.getElementById(\"ea00b040-90b4-4820-987f-fd5a6d4c7451\")) {                    Plotly.newPlot(                        \"ea00b040-90b4-4820-987f-fd5a6d4c7451\",                        [{\"customdata\":[[\"Rynox Air GT 4 Jacket - Mesh Motorcycle Riding Jacket with Impact Protection and Abrasion Resistance - Black White | Small\"],[\"3M Auto Specialty Tyre Dresser (250 ml) | Long lasting tyre Gloss | Fading and Crack Prevention.\"],[\"Motul C2 Chain Lube for All Bikes (150 ml)\"],[\"Stewit Universal Motorcycle/Cycle Chain Cleaner Brush for Bikes (Blue)\"],[\"Motul C1 Chain Clean for All Bikes (150 ml)\"],[\"Stewit Universal Motorcycle/Cycle Chain Cleaner Brush for Bikes (Blue)\"],[\"3M Auto Specialty Tyre Dresser (250 ml) | Long lasting tyre Gloss | Fading and Crack Prevention.\"],[\"Motul C1 Chain Clean for All Bikes (150 ml)\"],[\"Motul C2 Chain Lube for All Bikes (150 ml)\"],[\"Stewit Universal Motorcycle/Cycle Chain Cleaner Brush for Bikes (Blue)\"],[\"Motul C2 Chain Lube for All Bikes (150 ml)\"],[\"3M Auto Specialty Tyre Dresser (250 ml) | Long lasting tyre Gloss | Fading and Crack Prevention.\"],[\"Motul C1 Chain Clean for All Bikes (150 ml)\"],[\"Peter England Men's Blue Blazer Slim (PIBZSNSBS78506_MediumBlue80_44)\"],[\"FitBox Sports Intruder 20 Kg Adjustable PVC Dumbbells Weights With Dumbbells Rods For Home Gym & Strength Training, 10 Kg X 2 (Black)\"],[\"FitBox Sports Intruder 20 Kg Adjustable PVC Dumbbells Weights With Dumbbells Rods For Home Gym & Strength Training, 10 Kg X 2 (Black)\"],[\"Axor Apex Hunter D/V Dull Black Red Helmet-M\"],[\"Tribit XSound Go 16W 5.0 Bluetooth Speaker with Loud Sound & Rich Bass, 24H Playtime, IPX7 Waterproof, Wireless Stereo Pairing, Type-C, Portable Wirel\"],[\"iClever HS14 Headphones for Girls, Kids Headphones with Mic, 94dB Volume Limited, Adjustable Headband, Foldable, Wired Over Ear Child Headset for Onli\"],[\"Rynox Air GT Riding Gloves (Grey Red, M)\"],[\"Rynox Air GT Riding Gloves (Grey Red, M)\"],[\"SOFTSPUN Microfiber Cloth - 4 pcs - 40x40 cms - 340 GSM Grey- Thick Lint & Streak-Free Multipurpose Cloths - Automotive Microfibre Towels for Car Bike\"],[\"Himalayan Organics Omega 3 6 9 Flaxseed Oil With Nutrition Supplement For Healthy Hair, Skin, Joint, Brain, Muscles And Bones - 90 Vegetarian Capsules\"],[\"Dr.Vaidya's Herbobuild Pack of 1 | 30 capsules | Ayurvedic Muscle & Mass Gainer Capsules | Muscle Protein Synthesis | Lean Mass Gainer | Improved Stam\"],[\"Peter England Men's Polyester Blend Regular Business Suit Pants Set (PESUONSB814767_Blue_36)\"],[\"eSplanade - 5 inches - Singing Bowl Tibetan Buddhist Prayer Instrument With Striker Stick | OM Bell | OM Bowl | Meditation Bowl | Music Therapy\"],[\"SFT Cinnamon (Dalchini Stick) 200 Gm\"],[\"Saffola Honey, 100% Pure NMR tested Honey, 1.0kg\"],[\"SFT Cardamom Green (Elaichi) 100 Gm\"],[\"Evergreen Farms Fresh Whole Cashews Kaju 250 Grams\"],[\"Steelbird SBA-1 R2K Double Visor Full Face Graphics ABS Helmet, Inner Silver Sun Shield and Outer Clear Visor (Medium 580 mm, Matt Black Grey)\"],[\"Himalayan Organics Omega 3 6 9 Vegan Natural Nutrition Supplement for Muscle , Bone , Heart & Skin - 90 Veg Capsules\"],[\"DR. VAIDYA'S new age ayurveda Herbobuild| Ayurvedic Capsules for Muscle Gain | Stamina and Performance | Power of Ashwagandha, Shatavari and Safed Mus\"],[\"Azani Plant Mass Gainer 1kg | 1083 Kcal, 45g Vegan Protein, 225g Carbohydrates, 0.5g Chlorella, 0.3g Ashwagandha | Intense Muscle Recovery, Weight Gai\"],[\"Vedapure Natural L-Arginine Nitric Oxide Booster Supplement For Energy, Muscle Growth, Heart Health, Vascularity & Double Strength - 60 Capsules (Pack\"],[\"Casio Youth-Analog Black Dial Men's Watch-MCW-100H-9A2VDF (AD215)\"],[\"Dettol Liquid Hand wash Refill Original -1500 ml\"],[\"Reiki Crystal Products Unisex Natural \\\"Certified\\\" Stone Tiger Eye Bracelet for Healing and Meditation, Protection, Courage (Golden & Brown)\"],[\"Reiki Crystal Products Unisex Natural \\\"Certified\\\" Stone Tiger Eye Bracelet for Healing and Meditation, Protection, Courage (Golden & Brown)\"],[\"Dettol Liquid Hand wash Refill Original -1500 ml\"],[\"Reiki Crystal Products Unisex Natural \\\"Certified\\\" Stone Tiger Eye Bracelet for Healing and Meditation, Protection, Courage (Golden & Brown)\"],[\"Dettol Liquid Hand wash Refill Original -1500 ml\"],[\"Just rider Bamboo Football Cotton Socks/Stockings for Men Women Knee High Length Superior Grip for Shin Guard, Anti Slip Blister Protection Anti Odour\"],[\"Dabur Cold Pressed Mustard Oil -1L : Healthy Cooking Oil with the Goodness of Omega 3 & 6\"],[\"Saffola Total Refined Cooking Oil | Blended Rice Bran & Safflower Oil | Helps Manage Cholesterol | Pouch, 4 X 1L Pouch\"],[\"Oleev Olive Pomace Oil for Everyday Cooking, 5L TIN\"],[\"Redragon Karura K502 Wired USB Gaming Keyboard with RGB LED Backlight, 104 Silent Keys and Wrist Rest (Black)\"],[\"Zebronics Zeb-Transformer-M Optical USB Gaming Mouse with LED Effect(Black)\"],[\"Butterfly Jet Elite Mixer Grinder, 750W, 4 Jars (Grey)\"],[\"Nestle Resource High Protein - 400g Pet Jar Pack (Vanilla Flavor)\"],[\"Boult Audio BassBuds Loop Wireless Bluetooth in Ear Earphone with Mic (Black)\"],[\"boAt BassHeads 152 KKR Edition in Ear Wired Earphones with Mic(Thunder Purple)\"],[\"Amazon Pay balance: Credits\"],[\"Pawzone Yellow Body Harness With Leash for Dogs -Medium(3/4 Inch)\"],[\"xcluma Waist Pack Travel Handy Hiking Zip Pouch Document Money Phone Belt Sport Bag Bum Bag for Men and Women Polyester (Grey)\"],[\"Lion Saffron, Original Kashmir Lacha Saffron/ Kesar/ Keshar (Certified Grade A) for Biryani, Beauty, Improved Health and Tilak (Pack of 1 (1gram))\"],[\"Oreva Roman Figure Round Plastic Analog Wall Clock (28 cm x 28 cm x 3.9 cm, Silver, AQ-1457)\"],[\"Infinity (JBL) Fuze 100 Deep Bass Dual Equalizer IPX7 Waterproof Portable Wireless Speaker (Charcoal Black)\"],[\"Police Hedge Polyester 30 Ltr Black Laptop Stylish Premium Quality Backpack\"],[\"LPG cylinder booking\"],[\"Mobile Prepaid Recharge\"],[\"ALFA AWUS036NEH Long Range WIRELESS 802.11b/g/n Wi-Fi USBAdapter\"],[\"SWADESI STUFF Quartz Movement Analogue Black Dial Leather Strap Lord Shiva Mahadev Men's Watch\"],[\"HP 32GB Class 10 MicroSD Memory Card (U1 TF Card32GB)\"],[\"SanDisk Ultra Dual SDDD3-128G-I35 USB 3.0 128GB Flash Drive\"],[\"SWADESI STUFF Quartz Movement Analogue Black Dial Leather Strap Lord Shiva Mahadev Men's Watch\"],[\"Maxima Analog White Dial Women's Watch - 41271LMLI\"],[\"DTH recharge\"],[\"DTH recharge\"],[\"DTH recharge\"],[\"Amazon Pay balance: Money\"],[\"Amazon Pay balance: Money\"],[\"verticals Men's Cotton Army Print Cargo Pants (Multicolour, 38)\"],[\"Amazon Pay balance: Money (Cash-load)\"],[\"PROPER DESI Stuffed Teddy Bear For Kids - Yellow 42 Cm/16 Inch\"],[\"Micromax X424 (Black-Grey)\"],[\"Campus Sutra Women's Cotton Sweatshirt (AZW17_JKHNK_W_PLN_DN_AZ_XL_Denim_X-Large)\"],[\"Mobile Prepaid Recharge\"],[\"Mobile Prepaid Recharge\"],[\"Honor 8X (Black, 4GB RAM, 64GB Storage)\"],[\"Mobile Prepaid Recharge\"],[\"Mobile Prepaid Recharge\"],[\"Mobile Prepaid Recharge\"],[\"Mobile Prepaid Recharge\"],[\"Mobile Prepaid Recharge\"],[\"Generic MagiDeal 5 Pair Adult Plastics Red/Blue 3D Glasses Anaglyph Glasses,Black\"],[\"iBall Style 63 Optical Mouse (Black)\"],[\"Clublaptop Reversible 15.6-inch Laptop Sleeve\"],[\"Mobile Prepaid Recharge\"],[\"HOLME'S Stuffed Teddy Bear - 3 Feet - Pink\"],[\"Mobile Prepaid Recharge\"],[\"Mobile Prepaid Recharge\"],[\"Mobile Prepaid Recharge\"],[\"Mobile Prepaid Recharge\"],[\"Mobile Prepaid Recharge\"],[\"Philips Beard Trimmer Cordless for Men QT4001/15\"],[\"Threptin Protein Supplement Diskettes - 275 g\"],[\"Philips Beard Trimmer Cordless for Men QT4001/15\"],[\"Threptin Protein Supplement Diskettes - 275 g\"],[\"Amazon Pay balance: Money\"],[\"Amazon Pay balance: Money\"],[\"Campus Sutra Women's Cotton Quilted Hoodie (AW15_ZH_W_PLN_DN_XL)\"],[\"Easies Synthetic Leather Executive Office Bag, 16 Inches\"],[\"NIKAVI Black Seamless Skull Face Tube Mask Pack (2)\"],[\"Lenovo Z2 Plus (Black, 64GB)\"],[\"Orpat OEH-1220 2000-Watt Fan Heater (White)\"],[\"PES Shock Proof Protective Rugged Armor Super Hybrid Heavy Duty Back Case Cover For Asus Zenfone 2 Laser 5.5 - Rugged Black\"],[\"Samsung EVO Plus Class 10 32GB MicroSD 80 MB/S Memory Card with SD Adapter (MB-MC32D)\"],[\"Zoook ZB-Jazz Beats Wireless On-Ear Bluetooth Headphones With In-built FM\"],[\"Asus Zenfone 2 Laser 5.5 ZE550KL(Black, 3 GB RAM, 16 GB)\"],[\"CHKOKKO 8X Zoom Universal Mobile Phone Telescope Camera Lens Adjustable Clip Holder (White Red)\"],[\"Casotec Metal Back TPU Back Case Cover for Micromax Canvas Knight A350 - Brown\"],[\"CASSIEY?? 2.5D Curved Edge Ultra HD+ 9H Hardness Premium Tempered Glass For Xiaomi Redmi Note 3,Transparent\"]],\"hovertemplate\":\"Order Date=%{x}<br>Price=%{marker.color}<br>Quantity=%{marker.size}<br>Product Name=%{customdata[0]}<extra></extra>\",\"legendgroup\":\"\",\"marker\":{\"color\":[6950.0,267.0,199.0,89.0,233.0,0.0,0.0,0.0,0.0,0.0,0.0,0.0,0.0,2969.0,699.0,0.0,4856.0,2062.78,736.22,2750.0,0.0,309.1,617.4,374.0,0.0,1295.0,113.0,277.0,194.0,290.0,2123.0,0.0,261.25,799.0,455.0,3599.0,178.0,798.0,0.0,0.0,0.0,0.0,284.0,265.0,759.0,1649.0,1499.0,499.0,2599.0,759.0,349.0,399.0,10.0,312.0,399.0,540.0,395.0,1299.0,1349.0,605.0,399.0,3625.0,398.0,399.0,1609.0,159.0,710.0,295.0,295.0,295.0,500.0,500.0,999.0,1.0,299.0,829.0,786.0,199.0,100.0,14999.0,199.0,49.0,49.0,49.0,49.0,299.0,189.0,228.0,40.0,785.0,399.0,18.0,30.0,30.0,30.0,1299.0,338.0,0.0,0.0,1000.0,100.0,629.0,1599.0,320.0,12499.0,1124.0,279.0,749.0,999.0,9999.0,389.0,149.0,339.0],\"coloraxis\":\"coloraxis\",\"size\":[1,1,1,1,1,0,0,0,0,0,0,0,0,1,1,0,1,1,1,1,0,1,1,2,0,1,1,1,1,1,1,0,1,1,1,1,1,2,0,0,0,0,1,1,1,1,1,1,1,1,1,1,0,1,1,2,1,1,1,1,1,1,2,1,1,1,1,1,0,1,0,0,1,1,1,1,1,1,0,1,1,0,0,0,0,1,1,1,1,1,1,1,1,1,1,1,1,0,0,1,1,1,1,1,1,1,1,1,1,1,1,1,1],\"sizemode\":\"area\",\"sizeref\":0.005,\"symbol\":\"circle\"},\"mode\":\"markers\",\"name\":\"\",\"orientation\":\"v\",\"showlegend\":false,\"x\":[\"2023-03-24T02:28:49\",\"2023-03-03T08:02:35\",\"2023-03-03T08:02:35\",\"2023-03-03T08:02:35\",\"2023-03-03T08:02:35\",\"2023-03-03T07:46:45\",\"2023-03-03T07:46:45\",\"2023-03-03T07:46:45\",\"2023-03-03T07:46:45\",\"2023-03-02T14:41:22\",\"2023-03-02T14:41:22\",\"2023-03-02T14:41:22\",\"2023-03-02T14:41:22\",\"2023-02-28T16:47:25\",\"2023-02-15T03:08:16\",\"2023-02-14T18:21:01\",\"2022-11-28T10:25:56\",\"2022-11-17T10:05:37\",\"2022-11-17T10:05:37\",\"2022-11-13T11:18:26\",\"2022-10-22T12:43:20\",\"2022-10-22T12:43:20\",\"2022-10-12T13:18:28\",\"2022-10-12T13:18:28\",\"2022-10-09T14:29:03\",\"2022-09-09T10:15:13\",\"2022-09-06T09:47:46\",\"2022-09-06T09:47:46\",\"2022-09-06T09:47:46\",\"2022-09-06T09:47:46\",\"2022-06-30T07:09:42\",\"2022-05-21T03:00:56\",\"2022-05-19T10:01:56\",\"2022-05-19T10:01:56\",\"2022-05-19T10:01:56\",\"2022-03-17T04:01:53\",\"2022-01-19T18:29:37\",\"2022-01-19T18:29:37\",\"2022-01-19T18:15:40\",\"2022-01-19T18:15:40\",\"2022-01-19T18:07:52\",\"2022-01-19T18:07:52\",\"2021-12-26T06:00:53\",\"2021-12-26T06:00:53\",\"2021-12-26T06:00:53\",\"2021-12-26T06:00:53\",\"2021-11-15T11:30:51\",\"2021-11-15T11:30:51\",\"2021-10-22T15:08:34\",\"2021-10-13T13:05:15\",\"2021-10-04T03:15:11\",\"2021-10-04T03:15:11\",\"2021-06-17T10:34:06\",\"2021-02-19T15:31:51\",\"2021-01-15T14:03:57\",\"2021-01-15T14:03:57\",\"2021-01-15T14:03:57\",\"2021-01-15T14:03:57\",\"2020-09-23T05:42:19\",\"2020-09-09T07:22:46\",\"2020-03-21T07:41:19\",\"2019-07-31T15:14:18\",\"2019-07-31T05:18:49\",\"2019-07-31T05:18:49\",\"2019-07-31T05:18:49\",\"2019-06-01T13:32:59\",\"2019-06-01T13:32:59\",\"2019-05-30T15:01:09\",\"2019-05-30T14:58:30\",\"2019-05-30T14:52:08\",\"2019-05-11T14:53:19\",\"2019-05-11T14:52:41\",\"2019-01-22T03:17:01\",\"2018-11-21T05:59:27\",\"2018-11-16T08:53:43\",\"2018-11-16T08:53:43\",\"2018-11-16T08:53:43\",\"2018-11-14T10:45:20\",\"2018-11-11T06:23:38\",\"2018-10-28T12:43:59\",\"2018-10-17T03:57:54\",\"2018-10-13T12:05:21\",\"2018-10-13T11:47:37\",\"2018-10-13T11:44:25\",\"2018-10-13T11:40:24\",\"2018-10-08T02:28:25\",\"2018-10-08T02:28:25\",\"2018-10-08T02:28:25\",\"2018-06-26T05:26:27\",\"2018-06-26T05:20:49\",\"2018-06-23T02:20:35\",\"2018-06-20T01:29:42\",\"2018-06-20T01:29:03\",\"2018-06-16T04:52:57\",\"2018-06-15T05:22:37\",\"2018-06-15T05:15:31\",\"2018-06-15T05:15:31\",\"2018-06-15T05:10:36\",\"2018-06-15T05:10:36\",\"2018-06-15T05:07:18\",\"2018-06-15T03:13:50\",\"2018-01-28T05:55:35\",\"2017-09-01T13:55:15\",\"2017-08-06T12:00:59\",\"2017-07-24T16:09:05\",\"2017-07-19T17:23:40\",\"2017-06-21T13:11:04\",\"2017-06-21T13:11:04\",\"2017-06-21T11:27:51\",\"2017-05-23T07:23:49\",\"2016-12-04T16:12:41\",\"2016-09-25T12:00:47\",\"2016-09-25T07:31:58\"],\"xaxis\":\"x\",\"y\":[6950.0,267.0,199.0,89.0,233.0,0.0,0.0,0.0,0.0,0.0,0.0,0.0,0.0,2969.0,699.0,0.0,4856.0,2062.78,736.22,2750.0,0.0,309.1,617.4,374.0,0.0,1295.0,113.0,277.0,194.0,290.0,2123.0,0.0,261.25,799.0,455.0,3599.0,178.0,798.0,0.0,0.0,0.0,0.0,284.0,265.0,759.0,1649.0,1499.0,499.0,2599.0,759.0,349.0,399.0,10.0,312.0,399.0,540.0,395.0,1299.0,1349.0,605.0,399.0,3625.0,398.0,399.0,1609.0,159.0,710.0,295.0,295.0,295.0,500.0,500.0,999.0,1.0,299.0,829.0,786.0,199.0,100.0,14999.0,199.0,49.0,49.0,49.0,49.0,299.0,189.0,228.0,40.0,785.0,399.0,18.0,30.0,30.0,30.0,1299.0,338.0,0.0,0.0,1000.0,100.0,629.0,1599.0,320.0,12499.0,1124.0,279.0,749.0,999.0,9999.0,389.0,149.0,339.0],\"yaxis\":\"y\",\"type\":\"scatter\"}],                        {\"template\":{\"data\":{\"histogram2dcontour\":[{\"type\":\"histogram2dcontour\",\"colorbar\":{\"outlinewidth\":0,\"ticks\":\"\"},\"colorscale\":[[0.0,\"#0d0887\"],[0.1111111111111111,\"#46039f\"],[0.2222222222222222,\"#7201a8\"],[0.3333333333333333,\"#9c179e\"],[0.4444444444444444,\"#bd3786\"],[0.5555555555555556,\"#d8576b\"],[0.6666666666666666,\"#ed7953\"],[0.7777777777777778,\"#fb9f3a\"],[0.8888888888888888,\"#fdca26\"],[1.0,\"#f0f921\"]]}],\"choropleth\":[{\"type\":\"choropleth\",\"colorbar\":{\"outlinewidth\":0,\"ticks\":\"\"}}],\"histogram2d\":[{\"type\":\"histogram2d\",\"colorbar\":{\"outlinewidth\":0,\"ticks\":\"\"},\"colorscale\":[[0.0,\"#0d0887\"],[0.1111111111111111,\"#46039f\"],[0.2222222222222222,\"#7201a8\"],[0.3333333333333333,\"#9c179e\"],[0.4444444444444444,\"#bd3786\"],[0.5555555555555556,\"#d8576b\"],[0.6666666666666666,\"#ed7953\"],[0.7777777777777778,\"#fb9f3a\"],[0.8888888888888888,\"#fdca26\"],[1.0,\"#f0f921\"]]}],\"heatmap\":[{\"type\":\"heatmap\",\"colorbar\":{\"outlinewidth\":0,\"ticks\":\"\"},\"colorscale\":[[0.0,\"#0d0887\"],[0.1111111111111111,\"#46039f\"],[0.2222222222222222,\"#7201a8\"],[0.3333333333333333,\"#9c179e\"],[0.4444444444444444,\"#bd3786\"],[0.5555555555555556,\"#d8576b\"],[0.6666666666666666,\"#ed7953\"],[0.7777777777777778,\"#fb9f3a\"],[0.8888888888888888,\"#fdca26\"],[1.0,\"#f0f921\"]]}],\"heatmapgl\":[{\"type\":\"heatmapgl\",\"colorbar\":{\"outlinewidth\":0,\"ticks\":\"\"},\"colorscale\":[[0.0,\"#0d0887\"],[0.1111111111111111,\"#46039f\"],[0.2222222222222222,\"#7201a8\"],[0.3333333333333333,\"#9c179e\"],[0.4444444444444444,\"#bd3786\"],[0.5555555555555556,\"#d8576b\"],[0.6666666666666666,\"#ed7953\"],[0.7777777777777778,\"#fb9f3a\"],[0.8888888888888888,\"#fdca26\"],[1.0,\"#f0f921\"]]}],\"contourcarpet\":[{\"type\":\"contourcarpet\",\"colorbar\":{\"outlinewidth\":0,\"ticks\":\"\"}}],\"contour\":[{\"type\":\"contour\",\"colorbar\":{\"outlinewidth\":0,\"ticks\":\"\"},\"colorscale\":[[0.0,\"#0d0887\"],[0.1111111111111111,\"#46039f\"],[0.2222222222222222,\"#7201a8\"],[0.3333333333333333,\"#9c179e\"],[0.4444444444444444,\"#bd3786\"],[0.5555555555555556,\"#d8576b\"],[0.6666666666666666,\"#ed7953\"],[0.7777777777777778,\"#fb9f3a\"],[0.8888888888888888,\"#fdca26\"],[1.0,\"#f0f921\"]]}],\"surface\":[{\"type\":\"surface\",\"colorbar\":{\"outlinewidth\":0,\"ticks\":\"\"},\"colorscale\":[[0.0,\"#0d0887\"],[0.1111111111111111,\"#46039f\"],[0.2222222222222222,\"#7201a8\"],[0.3333333333333333,\"#9c179e\"],[0.4444444444444444,\"#bd3786\"],[0.5555555555555556,\"#d8576b\"],[0.6666666666666666,\"#ed7953\"],[0.7777777777777778,\"#fb9f3a\"],[0.8888888888888888,\"#fdca26\"],[1.0,\"#f0f921\"]]}],\"mesh3d\":[{\"type\":\"mesh3d\",\"colorbar\":{\"outlinewidth\":0,\"ticks\":\"\"}}],\"scatter\":[{\"fillpattern\":{\"fillmode\":\"overlay\",\"size\":10,\"solidity\":0.2},\"type\":\"scatter\"}],\"parcoords\":[{\"type\":\"parcoords\",\"line\":{\"colorbar\":{\"outlinewidth\":0,\"ticks\":\"\"}}}],\"scatterpolargl\":[{\"type\":\"scatterpolargl\",\"marker\":{\"colorbar\":{\"outlinewidth\":0,\"ticks\":\"\"}}}],\"bar\":[{\"error_x\":{\"color\":\"#2a3f5f\"},\"error_y\":{\"color\":\"#2a3f5f\"},\"marker\":{\"line\":{\"color\":\"#E5ECF6\",\"width\":0.5},\"pattern\":{\"fillmode\":\"overlay\",\"size\":10,\"solidity\":0.2}},\"type\":\"bar\"}],\"scattergeo\":[{\"type\":\"scattergeo\",\"marker\":{\"colorbar\":{\"outlinewidth\":0,\"ticks\":\"\"}}}],\"scatterpolar\":[{\"type\":\"scatterpolar\",\"marker\":{\"colorbar\":{\"outlinewidth\":0,\"ticks\":\"\"}}}],\"histogram\":[{\"marker\":{\"pattern\":{\"fillmode\":\"overlay\",\"size\":10,\"solidity\":0.2}},\"type\":\"histogram\"}],\"scattergl\":[{\"type\":\"scattergl\",\"marker\":{\"colorbar\":{\"outlinewidth\":0,\"ticks\":\"\"}}}],\"scatter3d\":[{\"type\":\"scatter3d\",\"line\":{\"colorbar\":{\"outlinewidth\":0,\"ticks\":\"\"}},\"marker\":{\"colorbar\":{\"outlinewidth\":0,\"ticks\":\"\"}}}],\"scattermapbox\":[{\"type\":\"scattermapbox\",\"marker\":{\"colorbar\":{\"outlinewidth\":0,\"ticks\":\"\"}}}],\"scatterternary\":[{\"type\":\"scatterternary\",\"marker\":{\"colorbar\":{\"outlinewidth\":0,\"ticks\":\"\"}}}],\"scattercarpet\":[{\"type\":\"scattercarpet\",\"marker\":{\"colorbar\":{\"outlinewidth\":0,\"ticks\":\"\"}}}],\"carpet\":[{\"aaxis\":{\"endlinecolor\":\"#2a3f5f\",\"gridcolor\":\"white\",\"linecolor\":\"white\",\"minorgridcolor\":\"white\",\"startlinecolor\":\"#2a3f5f\"},\"baxis\":{\"endlinecolor\":\"#2a3f5f\",\"gridcolor\":\"white\",\"linecolor\":\"white\",\"minorgridcolor\":\"white\",\"startlinecolor\":\"#2a3f5f\"},\"type\":\"carpet\"}],\"table\":[{\"cells\":{\"fill\":{\"color\":\"#EBF0F8\"},\"line\":{\"color\":\"white\"}},\"header\":{\"fill\":{\"color\":\"#C8D4E3\"},\"line\":{\"color\":\"white\"}},\"type\":\"table\"}],\"barpolar\":[{\"marker\":{\"line\":{\"color\":\"#E5ECF6\",\"width\":0.5},\"pattern\":{\"fillmode\":\"overlay\",\"size\":10,\"solidity\":0.2}},\"type\":\"barpolar\"}],\"pie\":[{\"automargin\":true,\"type\":\"pie\"}]},\"layout\":{\"autotypenumbers\":\"strict\",\"colorway\":[\"#636efa\",\"#EF553B\",\"#00cc96\",\"#ab63fa\",\"#FFA15A\",\"#19d3f3\",\"#FF6692\",\"#B6E880\",\"#FF97FF\",\"#FECB52\"],\"font\":{\"color\":\"#2a3f5f\"},\"hovermode\":\"closest\",\"hoverlabel\":{\"align\":\"left\"},\"paper_bgcolor\":\"white\",\"plot_bgcolor\":\"#E5ECF6\",\"polar\":{\"bgcolor\":\"#E5ECF6\",\"angularaxis\":{\"gridcolor\":\"white\",\"linecolor\":\"white\",\"ticks\":\"\"},\"radialaxis\":{\"gridcolor\":\"white\",\"linecolor\":\"white\",\"ticks\":\"\"}},\"ternary\":{\"bgcolor\":\"#E5ECF6\",\"aaxis\":{\"gridcolor\":\"white\",\"linecolor\":\"white\",\"ticks\":\"\"},\"baxis\":{\"gridcolor\":\"white\",\"linecolor\":\"white\",\"ticks\":\"\"},\"caxis\":{\"gridcolor\":\"white\",\"linecolor\":\"white\",\"ticks\":\"\"}},\"coloraxis\":{\"colorbar\":{\"outlinewidth\":0,\"ticks\":\"\"}},\"colorscale\":{\"sequential\":[[0.0,\"#0d0887\"],[0.1111111111111111,\"#46039f\"],[0.2222222222222222,\"#7201a8\"],[0.3333333333333333,\"#9c179e\"],[0.4444444444444444,\"#bd3786\"],[0.5555555555555556,\"#d8576b\"],[0.6666666666666666,\"#ed7953\"],[0.7777777777777778,\"#fb9f3a\"],[0.8888888888888888,\"#fdca26\"],[1.0,\"#f0f921\"]],\"sequentialminus\":[[0.0,\"#0d0887\"],[0.1111111111111111,\"#46039f\"],[0.2222222222222222,\"#7201a8\"],[0.3333333333333333,\"#9c179e\"],[0.4444444444444444,\"#bd3786\"],[0.5555555555555556,\"#d8576b\"],[0.6666666666666666,\"#ed7953\"],[0.7777777777777778,\"#fb9f3a\"],[0.8888888888888888,\"#fdca26\"],[1.0,\"#f0f921\"]],\"diverging\":[[0,\"#8e0152\"],[0.1,\"#c51b7d\"],[0.2,\"#de77ae\"],[0.3,\"#f1b6da\"],[0.4,\"#fde0ef\"],[0.5,\"#f7f7f7\"],[0.6,\"#e6f5d0\"],[0.7,\"#b8e186\"],[0.8,\"#7fbc41\"],[0.9,\"#4d9221\"],[1,\"#276419\"]]},\"xaxis\":{\"gridcolor\":\"white\",\"linecolor\":\"white\",\"ticks\":\"\",\"title\":{\"standoff\":15},\"zerolinecolor\":\"white\",\"automargin\":true,\"zerolinewidth\":2},\"yaxis\":{\"gridcolor\":\"white\",\"linecolor\":\"white\",\"ticks\":\"\",\"title\":{\"standoff\":15},\"zerolinecolor\":\"white\",\"automargin\":true,\"zerolinewidth\":2},\"scene\":{\"xaxis\":{\"backgroundcolor\":\"#E5ECF6\",\"gridcolor\":\"white\",\"linecolor\":\"white\",\"showbackground\":true,\"ticks\":\"\",\"zerolinecolor\":\"white\",\"gridwidth\":2},\"yaxis\":{\"backgroundcolor\":\"#E5ECF6\",\"gridcolor\":\"white\",\"linecolor\":\"white\",\"showbackground\":true,\"ticks\":\"\",\"zerolinecolor\":\"white\",\"gridwidth\":2},\"zaxis\":{\"backgroundcolor\":\"#E5ECF6\",\"gridcolor\":\"white\",\"linecolor\":\"white\",\"showbackground\":true,\"ticks\":\"\",\"zerolinecolor\":\"white\",\"gridwidth\":2}},\"shapedefaults\":{\"line\":{\"color\":\"#2a3f5f\"}},\"annotationdefaults\":{\"arrowcolor\":\"#2a3f5f\",\"arrowhead\":0,\"arrowwidth\":1},\"geo\":{\"bgcolor\":\"white\",\"landcolor\":\"#E5ECF6\",\"subunitcolor\":\"white\",\"showland\":true,\"showlakes\":true,\"lakecolor\":\"white\"},\"title\":{\"x\":0.05},\"mapbox\":{\"style\":\"light\"}}},\"xaxis\":{\"anchor\":\"y\",\"domain\":[0.0,1.0],\"title\":{\"text\":\"Order Date\"}},\"yaxis\":{\"anchor\":\"x\",\"domain\":[0.0,1.0],\"title\":{\"text\":\"Price\"}},\"coloraxis\":{\"colorbar\":{\"title\":{\"text\":\"Price\"}},\"colorscale\":[[0.0,\"#0d0887\"],[0.1111111111111111,\"#46039f\"],[0.2222222222222222,\"#7201a8\"],[0.3333333333333333,\"#9c179e\"],[0.4444444444444444,\"#bd3786\"],[0.5555555555555556,\"#d8576b\"],[0.6666666666666666,\"#ed7953\"],[0.7777777777777778,\"#fb9f3a\"],[0.8888888888888888,\"#fdca26\"],[1.0,\"#f0f921\"]]},\"legend\":{\"tracegroupgap\":0,\"itemsizing\":\"constant\"},\"margin\":{\"t\":60}},                        {\"responsive\": true}                    ).then(function(){\n",
       "                            \n",
       "var gd = document.getElementById('ea00b040-90b4-4820-987f-fd5a6d4c7451');\n",
       "var x = new MutationObserver(function (mutations, observer) {{\n",
       "        var display = window.getComputedStyle(gd).display;\n",
       "        if (!display || display === 'none') {{\n",
       "            console.log([gd, 'removed!']);\n",
       "            Plotly.purge(gd);\n",
       "            observer.disconnect();\n",
       "        }}\n",
       "}});\n",
       "\n",
       "// Listen for the removal of the full notebook cells\n",
       "var notebookContainer = gd.closest('#notebook-container');\n",
       "if (notebookContainer) {{\n",
       "    x.observe(notebookContainer, {childList: true});\n",
       "}}\n",
       "\n",
       "// Listen for the clearing of the current output cell\n",
       "var outputEl = gd.closest('.output');\n",
       "if (outputEl) {{\n",
       "    x.observe(outputEl, {childList: true});\n",
       "}}\n",
       "\n",
       "                        })                };                });            </script>        </div>"
      ]
     },
     "metadata": {},
     "output_type": "display_data"
    }
   ],
   "source": [
    "px.scatter(data_frame=orders_df, x='Order Date', y='Total Owed', color='Total Owed',\n",
    "           labels={'Total Owed': 'Price'},hover_data=['Product Name'],size='Quantity')"
   ]
  },
  {
   "cell_type": "markdown",
   "id": "c9960547",
   "metadata": {
    "papermill": {
     "duration": 0.017256,
     "end_time": "2023-03-31T12:06:20.407581",
     "exception": false,
     "start_time": "2023-03-31T12:06:20.390325",
     "status": "completed"
    },
    "tags": []
   },
   "source": [
    "#### Inference\n",
    "The sizes signify the Quantity, color represents the Price of the Products, Let's find out the average spend (mean)"
   ]
  },
  {
   "cell_type": "code",
   "execution_count": 33,
   "id": "32ded44e",
   "metadata": {
    "execution": {
     "iopub.execute_input": "2023-03-31T12:06:20.444314Z",
     "iopub.status.busy": "2023-03-31T12:06:20.443472Z",
     "iopub.status.idle": "2023-03-31T12:06:20.455475Z",
     "shell.execute_reply": "2023-03-31T12:06:20.454350Z"
    },
    "papermill": {
     "duration": 0.03325,
     "end_time": "2023-03-31T12:06:20.458066",
     "exception": false,
     "start_time": "2023-03-31T12:06:20.424816",
     "status": "completed"
    },
    "tags": []
   },
   "outputs": [
    {
     "data": {
      "text/plain": [
       "count      113.000000\n",
       "mean       965.608407\n",
       "std       2194.172780\n",
       "min          0.000000\n",
       "25%         49.000000\n",
       "50%        312.000000\n",
       "75%        785.000000\n",
       "max      14999.000000\n",
       "Name: Total Owed, dtype: float64"
      ]
     },
     "execution_count": 33,
     "metadata": {},
     "output_type": "execute_result"
    }
   ],
   "source": [
    "orders_df['Total Owed'].describe()"
   ]
  },
  {
   "cell_type": "code",
   "execution_count": 34,
   "id": "930caf4b",
   "metadata": {
    "execution": {
     "iopub.execute_input": "2023-03-31T12:06:20.494591Z",
     "iopub.status.busy": "2023-03-31T12:06:20.494164Z",
     "iopub.status.idle": "2023-03-31T12:06:20.516614Z",
     "shell.execute_reply": "2023-03-31T12:06:20.515119Z"
    },
    "papermill": {
     "duration": 0.043817,
     "end_time": "2023-03-31T12:06:20.519008",
     "exception": false,
     "start_time": "2023-03-31T12:06:20.475191",
     "status": "completed"
    },
    "tags": []
   },
   "outputs": [
    {
     "data": {
      "text/html": [
       "<div>\n",
       "<style scoped>\n",
       "    .dataframe tbody tr th:only-of-type {\n",
       "        vertical-align: middle;\n",
       "    }\n",
       "\n",
       "    .dataframe tbody tr th {\n",
       "        vertical-align: top;\n",
       "    }\n",
       "\n",
       "    .dataframe thead th {\n",
       "        text-align: right;\n",
       "    }\n",
       "</style>\n",
       "<table border=\"1\" class=\"dataframe\">\n",
       "  <thead>\n",
       "    <tr style=\"text-align: right;\">\n",
       "      <th></th>\n",
       "      <th>Order ID</th>\n",
       "      <th>Order Date</th>\n",
       "      <th>Currency</th>\n",
       "      <th>Unit Price</th>\n",
       "      <th>Unit Price Tax</th>\n",
       "      <th>Shipping Charge</th>\n",
       "      <th>Total Discounts</th>\n",
       "      <th>Total Owed</th>\n",
       "      <th>Shipment Item Subtotal</th>\n",
       "      <th>Shipment Item Subtotal Tax</th>\n",
       "      <th>ASIN</th>\n",
       "      <th>Product Condition</th>\n",
       "      <th>Quantity</th>\n",
       "      <th>Payment Instrument Type</th>\n",
       "      <th>Order Status</th>\n",
       "      <th>Shipment Status</th>\n",
       "      <th>Ship Date</th>\n",
       "      <th>Shipping Option</th>\n",
       "      <th>Product Name</th>\n",
       "    </tr>\n",
       "  </thead>\n",
       "  <tbody>\n",
       "    <tr>\n",
       "      <th>0</th>\n",
       "      <td>402-3170714-4132350</td>\n",
       "      <td>2023-03-24 02:28:49</td>\n",
       "      <td>INR</td>\n",
       "      <td>6205.36</td>\n",
       "      <td>744.64</td>\n",
       "      <td>0.0</td>\n",
       "      <td>0.0</td>\n",
       "      <td>6950.0</td>\n",
       "      <td>6205.36</td>\n",
       "      <td>744.64</td>\n",
       "      <td>B0BSR1J8XW</td>\n",
       "      <td>New</td>\n",
       "      <td>1</td>\n",
       "      <td>NaN</td>\n",
       "      <td>Closed</td>\n",
       "      <td>Shipped</td>\n",
       "      <td>2023-03-27 07:43:22</td>\n",
       "      <td>Std IN EZ Metro COD</td>\n",
       "      <td>Rynox Air GT 4 Jacket - Mesh Motorcycle Riding...</td>\n",
       "    </tr>\n",
       "    <tr>\n",
       "      <th>1</th>\n",
       "      <td>402-0957206-0852356</td>\n",
       "      <td>2023-03-03 08:02:35</td>\n",
       "      <td>INR</td>\n",
       "      <td>226.27</td>\n",
       "      <td>40.73</td>\n",
       "      <td>6.1</td>\n",
       "      <td>0.0</td>\n",
       "      <td>267.0</td>\n",
       "      <td>226.27</td>\n",
       "      <td>40.73</td>\n",
       "      <td>B00S5SAFDQ</td>\n",
       "      <td>New</td>\n",
       "      <td>1</td>\n",
       "      <td>NaN</td>\n",
       "      <td>Closed</td>\n",
       "      <td>Shipped</td>\n",
       "      <td>2023-03-13 09:24:47</td>\n",
       "      <td>std-in-10k</td>\n",
       "      <td>3M Auto Specialty Tyre Dresser (250 ml) | Long...</td>\n",
       "    </tr>\n",
       "  </tbody>\n",
       "</table>\n",
       "</div>"
      ],
      "text/plain": [
       "              Order ID          Order Date Currency  Unit Price  \\\n",
       "0  402-3170714-4132350 2023-03-24 02:28:49      INR     6205.36   \n",
       "1  402-0957206-0852356 2023-03-03 08:02:35      INR      226.27   \n",
       "\n",
       "   Unit Price Tax  Shipping Charge  Total Discounts  Total Owed  \\\n",
       "0          744.64              0.0              0.0      6950.0   \n",
       "1           40.73              6.1              0.0       267.0   \n",
       "\n",
       "   Shipment Item Subtotal  Shipment Item Subtotal Tax        ASIN  \\\n",
       "0                 6205.36                      744.64  B0BSR1J8XW   \n",
       "1                  226.27                       40.73  B00S5SAFDQ   \n",
       "\n",
       "  Product Condition  Quantity Payment Instrument Type Order Status  \\\n",
       "0               New         1                     NaN       Closed   \n",
       "1               New         1                     NaN       Closed   \n",
       "\n",
       "  Shipment Status           Ship Date      Shipping Option  \\\n",
       "0         Shipped 2023-03-27 07:43:22  Std IN EZ Metro COD   \n",
       "1         Shipped 2023-03-13 09:24:47           std-in-10k   \n",
       "\n",
       "                                        Product Name  \n",
       "0  Rynox Air GT 4 Jacket - Mesh Motorcycle Riding...  \n",
       "1  3M Auto Specialty Tyre Dresser (250 ml) | Long...  "
      ]
     },
     "execution_count": 34,
     "metadata": {},
     "output_type": "execute_result"
    }
   ],
   "source": [
    "orders_df.head(2)"
   ]
  },
  {
   "cell_type": "markdown",
   "id": "e6f85840",
   "metadata": {
    "papermill": {
     "duration": 0.01954,
     "end_time": "2023-03-31T12:06:20.558527",
     "exception": false,
     "start_time": "2023-03-31T12:06:20.538987",
     "status": "completed"
    },
    "tags": []
   },
   "source": [
    "#### An interactive 3d plot for detailed information"
   ]
  },
  {
   "cell_type": "code",
   "execution_count": 35,
   "id": "278327a9",
   "metadata": {
    "execution": {
     "iopub.execute_input": "2023-03-31T12:06:20.595218Z",
     "iopub.status.busy": "2023-03-31T12:06:20.594795Z",
     "iopub.status.idle": "2023-03-31T12:06:20.720013Z",
     "shell.execute_reply": "2023-03-31T12:06:20.718900Z"
    },
    "papermill": {
     "duration": 0.147011,
     "end_time": "2023-03-31T12:06:20.722944",
     "exception": false,
     "start_time": "2023-03-31T12:06:20.575933",
     "status": "completed"
    },
    "tags": []
   },
   "outputs": [
    {
     "data": {
      "text/html": [
       "<div>                            <div id=\"7a98d717-098a-486d-8e65-cd89b4208359\" class=\"plotly-graph-div\" style=\"height:750px; width:800px;\"></div>            <script type=\"text/javascript\">                require([\"plotly\"], function(Plotly) {                    window.PLOTLYENV=window.PLOTLYENV || {};                                    if (document.getElementById(\"7a98d717-098a-486d-8e65-cd89b4208359\")) {                    Plotly.newPlot(                        \"7a98d717-098a-486d-8e65-cd89b4208359\",                        [{\"customdata\":[[\"Rynox Air GT 4 Jacket - Mesh Motorcycle Riding Jacket with Impact Protection and Abrasion Resistance - Black White | Small\"],[\"3M Auto Specialty Tyre Dresser (250 ml) | Long lasting tyre Gloss | Fading and Crack Prevention.\"],[\"Motul C2 Chain Lube for All Bikes (150 ml)\"],[\"Stewit Universal Motorcycle/Cycle Chain Cleaner Brush for Bikes (Blue)\"],[\"Motul C1 Chain Clean for All Bikes (150 ml)\"],[\"Stewit Universal Motorcycle/Cycle Chain Cleaner Brush for Bikes (Blue)\"],[\"3M Auto Specialty Tyre Dresser (250 ml) | Long lasting tyre Gloss | Fading and Crack Prevention.\"],[\"Motul C1 Chain Clean for All Bikes (150 ml)\"],[\"Motul C2 Chain Lube for All Bikes (150 ml)\"],[\"Stewit Universal Motorcycle/Cycle Chain Cleaner Brush for Bikes (Blue)\"],[\"Motul C2 Chain Lube for All Bikes (150 ml)\"],[\"3M Auto Specialty Tyre Dresser (250 ml) | Long lasting tyre Gloss | Fading and Crack Prevention.\"],[\"Motul C1 Chain Clean for All Bikes (150 ml)\"],[\"Peter England Men's Blue Blazer Slim (PIBZSNSBS78506_MediumBlue80_44)\"],[\"FitBox Sports Intruder 20 Kg Adjustable PVC Dumbbells Weights With Dumbbells Rods For Home Gym & Strength Training, 10 Kg X 2 (Black)\"],[\"FitBox Sports Intruder 20 Kg Adjustable PVC Dumbbells Weights With Dumbbells Rods For Home Gym & Strength Training, 10 Kg X 2 (Black)\"],[\"Axor Apex Hunter D/V Dull Black Red Helmet-M\"],[\"Tribit XSound Go 16W 5.0 Bluetooth Speaker with Loud Sound & Rich Bass, 24H Playtime, IPX7 Waterproof, Wireless Stereo Pairing, Type-C, Portable Wirel\"],[\"iClever HS14 Headphones for Girls, Kids Headphones with Mic, 94dB Volume Limited, Adjustable Headband, Foldable, Wired Over Ear Child Headset for Onli\"],[\"Rynox Air GT Riding Gloves (Grey Red, M)\"],[\"Rynox Air GT Riding Gloves (Grey Red, M)\"],[\"SOFTSPUN Microfiber Cloth - 4 pcs - 40x40 cms - 340 GSM Grey- Thick Lint & Streak-Free Multipurpose Cloths - Automotive Microfibre Towels for Car Bike\"],[\"Himalayan Organics Omega 3 6 9 Flaxseed Oil With Nutrition Supplement For Healthy Hair, Skin, Joint, Brain, Muscles And Bones - 90 Vegetarian Capsules\"],[\"Dr.Vaidya's Herbobuild Pack of 1 | 30 capsules | Ayurvedic Muscle & Mass Gainer Capsules | Muscle Protein Synthesis | Lean Mass Gainer | Improved Stam\"],[\"Peter England Men's Polyester Blend Regular Business Suit Pants Set (PESUONSB814767_Blue_36)\"],[\"eSplanade - 5 inches - Singing Bowl Tibetan Buddhist Prayer Instrument With Striker Stick | OM Bell | OM Bowl | Meditation Bowl | Music Therapy\"],[\"SFT Cinnamon (Dalchini Stick) 200 Gm\"],[\"Saffola Honey, 100% Pure NMR tested Honey, 1.0kg\"],[\"SFT Cardamom Green (Elaichi) 100 Gm\"],[\"Evergreen Farms Fresh Whole Cashews Kaju 250 Grams\"],[\"Steelbird SBA-1 R2K Double Visor Full Face Graphics ABS Helmet, Inner Silver Sun Shield and Outer Clear Visor (Medium 580 mm, Matt Black Grey)\"],[\"Himalayan Organics Omega 3 6 9 Vegan Natural Nutrition Supplement for Muscle , Bone , Heart & Skin - 90 Veg Capsules\"],[\"DR. VAIDYA'S new age ayurveda Herbobuild| Ayurvedic Capsules for Muscle Gain | Stamina and Performance | Power of Ashwagandha, Shatavari and Safed Mus\"],[\"Azani Plant Mass Gainer 1kg | 1083 Kcal, 45g Vegan Protein, 225g Carbohydrates, 0.5g Chlorella, 0.3g Ashwagandha | Intense Muscle Recovery, Weight Gai\"],[\"Vedapure Natural L-Arginine Nitric Oxide Booster Supplement For Energy, Muscle Growth, Heart Health, Vascularity & Double Strength - 60 Capsules (Pack\"],[\"Casio Youth-Analog Black Dial Men's Watch-MCW-100H-9A2VDF (AD215)\"],[\"Dettol Liquid Hand wash Refill Original -1500 ml\"],[\"Reiki Crystal Products Unisex Natural \\\"Certified\\\" Stone Tiger Eye Bracelet for Healing and Meditation, Protection, Courage (Golden & Brown)\"],[\"Reiki Crystal Products Unisex Natural \\\"Certified\\\" Stone Tiger Eye Bracelet for Healing and Meditation, Protection, Courage (Golden & Brown)\"],[\"Dettol Liquid Hand wash Refill Original -1500 ml\"],[\"Reiki Crystal Products Unisex Natural \\\"Certified\\\" Stone Tiger Eye Bracelet for Healing and Meditation, Protection, Courage (Golden & Brown)\"],[\"Dettol Liquid Hand wash Refill Original -1500 ml\"],[\"Just rider Bamboo Football Cotton Socks/Stockings for Men Women Knee High Length Superior Grip for Shin Guard, Anti Slip Blister Protection Anti Odour\"],[\"Dabur Cold Pressed Mustard Oil -1L : Healthy Cooking Oil with the Goodness of Omega 3 & 6\"],[\"Saffola Total Refined Cooking Oil | Blended Rice Bran & Safflower Oil | Helps Manage Cholesterol | Pouch, 4 X 1L Pouch\"],[\"Oleev Olive Pomace Oil for Everyday Cooking, 5L TIN\"],[\"Redragon Karura K502 Wired USB Gaming Keyboard with RGB LED Backlight, 104 Silent Keys and Wrist Rest (Black)\"],[\"Zebronics Zeb-Transformer-M Optical USB Gaming Mouse with LED Effect(Black)\"],[\"Butterfly Jet Elite Mixer Grinder, 750W, 4 Jars (Grey)\"],[\"Nestle Resource High Protein - 400g Pet Jar Pack (Vanilla Flavor)\"],[\"Boult Audio BassBuds Loop Wireless Bluetooth in Ear Earphone with Mic (Black)\"],[\"boAt BassHeads 152 KKR Edition in Ear Wired Earphones with Mic(Thunder Purple)\"],[\"Amazon Pay balance: Credits\"],[\"Pawzone Yellow Body Harness With Leash for Dogs -Medium(3/4 Inch)\"],[\"xcluma Waist Pack Travel Handy Hiking Zip Pouch Document Money Phone Belt Sport Bag Bum Bag for Men and Women Polyester (Grey)\"],[\"Lion Saffron, Original Kashmir Lacha Saffron/ Kesar/ Keshar (Certified Grade A) for Biryani, Beauty, Improved Health and Tilak (Pack of 1 (1gram))\"],[\"Oreva Roman Figure Round Plastic Analog Wall Clock (28 cm x 28 cm x 3.9 cm, Silver, AQ-1457)\"],[\"Infinity (JBL) Fuze 100 Deep Bass Dual Equalizer IPX7 Waterproof Portable Wireless Speaker (Charcoal Black)\"],[\"Police Hedge Polyester 30 Ltr Black Laptop Stylish Premium Quality Backpack\"],[\"LPG cylinder booking\"],[\"Mobile Prepaid Recharge\"],[\"ALFA AWUS036NEH Long Range WIRELESS 802.11b/g/n Wi-Fi USBAdapter\"],[\"SWADESI STUFF Quartz Movement Analogue Black Dial Leather Strap Lord Shiva Mahadev Men's Watch\"],[\"HP 32GB Class 10 MicroSD Memory Card (U1 TF Card32GB)\"],[\"SanDisk Ultra Dual SDDD3-128G-I35 USB 3.0 128GB Flash Drive\"],[\"SWADESI STUFF Quartz Movement Analogue Black Dial Leather Strap Lord Shiva Mahadev Men's Watch\"],[\"Maxima Analog White Dial Women's Watch - 41271LMLI\"],[\"DTH recharge\"],[\"DTH recharge\"],[\"DTH recharge\"],[\"Amazon Pay balance: Money\"],[\"Amazon Pay balance: Money\"],[\"verticals Men's Cotton Army Print Cargo Pants (Multicolour, 38)\"],[\"Amazon Pay balance: Money (Cash-load)\"],[\"PROPER DESI Stuffed Teddy Bear For Kids - Yellow 42 Cm/16 Inch\"],[\"Micromax X424 (Black-Grey)\"],[\"Campus Sutra Women's Cotton Sweatshirt (AZW17_JKHNK_W_PLN_DN_AZ_XL_Denim_X-Large)\"],[\"Mobile Prepaid Recharge\"],[\"Mobile Prepaid Recharge\"],[\"Honor 8X (Black, 4GB RAM, 64GB Storage)\"],[\"Mobile Prepaid Recharge\"],[\"Mobile Prepaid Recharge\"],[\"Mobile Prepaid Recharge\"],[\"Mobile Prepaid Recharge\"],[\"Mobile Prepaid Recharge\"],[\"Generic MagiDeal 5 Pair Adult Plastics Red/Blue 3D Glasses Anaglyph Glasses,Black\"],[\"iBall Style 63 Optical Mouse (Black)\"],[\"Clublaptop Reversible 15.6-inch Laptop Sleeve\"],[\"Mobile Prepaid Recharge\"],[\"HOLME'S Stuffed Teddy Bear - 3 Feet - Pink\"],[\"Mobile Prepaid Recharge\"],[\"Mobile Prepaid Recharge\"],[\"Mobile Prepaid Recharge\"],[\"Mobile Prepaid Recharge\"],[\"Mobile Prepaid Recharge\"],[\"Philips Beard Trimmer Cordless for Men QT4001/15\"],[\"Threptin Protein Supplement Diskettes - 275 g\"],[\"Philips Beard Trimmer Cordless for Men QT4001/15\"],[\"Threptin Protein Supplement Diskettes - 275 g\"],[\"Amazon Pay balance: Money\"],[\"Amazon Pay balance: Money\"],[\"Campus Sutra Women's Cotton Quilted Hoodie (AW15_ZH_W_PLN_DN_XL)\"],[\"Easies Synthetic Leather Executive Office Bag, 16 Inches\"],[\"NIKAVI Black Seamless Skull Face Tube Mask Pack (2)\"],[\"Lenovo Z2 Plus (Black, 64GB)\"],[\"Orpat OEH-1220 2000-Watt Fan Heater (White)\"],[\"PES Shock Proof Protective Rugged Armor Super Hybrid Heavy Duty Back Case Cover For Asus Zenfone 2 Laser 5.5 - Rugged Black\"],[\"Samsung EVO Plus Class 10 32GB MicroSD 80 MB/S Memory Card with SD Adapter (MB-MC32D)\"],[\"Zoook ZB-Jazz Beats Wireless On-Ear Bluetooth Headphones With In-built FM\"],[\"Asus Zenfone 2 Laser 5.5 ZE550KL(Black, 3 GB RAM, 16 GB)\"],[\"CHKOKKO 8X Zoom Universal Mobile Phone Telescope Camera Lens Adjustable Clip Holder (White Red)\"],[\"Casotec Metal Back TPU Back Case Cover for Micromax Canvas Knight A350 - Brown\"],[\"CASSIEY?? 2.5D Curved Edge Ultra HD+ 9H Hardness Premium Tempered Glass For Xiaomi Redmi Note 3,Transparent\"]],\"hovertemplate\":\"Order Date=%{x}<br>Quantity=%{marker.color}<br>Price=%{z}<br>Product Name=%{customdata[0]}<extra></extra>\",\"legendgroup\":\"\",\"marker\":{\"color\":[1,1,1,1,1,0,0,0,0,0,0,0,0,1,1,0,1,1,1,1,0,1,1,2,0,1,1,1,1,1,1,0,1,1,1,1,1,2,0,0,0,0,1,1,1,1,1,1,1,1,1,1,0,1,1,2,1,1,1,1,1,1,2,1,1,1,1,1,0,1,0,0,1,1,1,1,1,1,0,1,1,0,0,0,0,1,1,1,1,1,1,1,1,1,1,1,1,0,0,1,1,1,1,1,1,1,1,1,1,1,1,1,1],\"coloraxis\":\"coloraxis\",\"symbol\":\"circle\"},\"mode\":\"markers\",\"name\":\"\",\"scene\":\"scene\",\"showlegend\":false,\"x\":[\"2023-03-24T02:28:49\",\"2023-03-03T08:02:35\",\"2023-03-03T08:02:35\",\"2023-03-03T08:02:35\",\"2023-03-03T08:02:35\",\"2023-03-03T07:46:45\",\"2023-03-03T07:46:45\",\"2023-03-03T07:46:45\",\"2023-03-03T07:46:45\",\"2023-03-02T14:41:22\",\"2023-03-02T14:41:22\",\"2023-03-02T14:41:22\",\"2023-03-02T14:41:22\",\"2023-02-28T16:47:25\",\"2023-02-15T03:08:16\",\"2023-02-14T18:21:01\",\"2022-11-28T10:25:56\",\"2022-11-17T10:05:37\",\"2022-11-17T10:05:37\",\"2022-11-13T11:18:26\",\"2022-10-22T12:43:20\",\"2022-10-22T12:43:20\",\"2022-10-12T13:18:28\",\"2022-10-12T13:18:28\",\"2022-10-09T14:29:03\",\"2022-09-09T10:15:13\",\"2022-09-06T09:47:46\",\"2022-09-06T09:47:46\",\"2022-09-06T09:47:46\",\"2022-09-06T09:47:46\",\"2022-06-30T07:09:42\",\"2022-05-21T03:00:56\",\"2022-05-19T10:01:56\",\"2022-05-19T10:01:56\",\"2022-05-19T10:01:56\",\"2022-03-17T04:01:53\",\"2022-01-19T18:29:37\",\"2022-01-19T18:29:37\",\"2022-01-19T18:15:40\",\"2022-01-19T18:15:40\",\"2022-01-19T18:07:52\",\"2022-01-19T18:07:52\",\"2021-12-26T06:00:53\",\"2021-12-26T06:00:53\",\"2021-12-26T06:00:53\",\"2021-12-26T06:00:53\",\"2021-11-15T11:30:51\",\"2021-11-15T11:30:51\",\"2021-10-22T15:08:34\",\"2021-10-13T13:05:15\",\"2021-10-04T03:15:11\",\"2021-10-04T03:15:11\",\"2021-06-17T10:34:06\",\"2021-02-19T15:31:51\",\"2021-01-15T14:03:57\",\"2021-01-15T14:03:57\",\"2021-01-15T14:03:57\",\"2021-01-15T14:03:57\",\"2020-09-23T05:42:19\",\"2020-09-09T07:22:46\",\"2020-03-21T07:41:19\",\"2019-07-31T15:14:18\",\"2019-07-31T05:18:49\",\"2019-07-31T05:18:49\",\"2019-07-31T05:18:49\",\"2019-06-01T13:32:59\",\"2019-06-01T13:32:59\",\"2019-05-30T15:01:09\",\"2019-05-30T14:58:30\",\"2019-05-30T14:52:08\",\"2019-05-11T14:53:19\",\"2019-05-11T14:52:41\",\"2019-01-22T03:17:01\",\"2018-11-21T05:59:27\",\"2018-11-16T08:53:43\",\"2018-11-16T08:53:43\",\"2018-11-16T08:53:43\",\"2018-11-14T10:45:20\",\"2018-11-11T06:23:38\",\"2018-10-28T12:43:59\",\"2018-10-17T03:57:54\",\"2018-10-13T12:05:21\",\"2018-10-13T11:47:37\",\"2018-10-13T11:44:25\",\"2018-10-13T11:40:24\",\"2018-10-08T02:28:25\",\"2018-10-08T02:28:25\",\"2018-10-08T02:28:25\",\"2018-06-26T05:26:27\",\"2018-06-26T05:20:49\",\"2018-06-23T02:20:35\",\"2018-06-20T01:29:42\",\"2018-06-20T01:29:03\",\"2018-06-16T04:52:57\",\"2018-06-15T05:22:37\",\"2018-06-15T05:15:31\",\"2018-06-15T05:15:31\",\"2018-06-15T05:10:36\",\"2018-06-15T05:10:36\",\"2018-06-15T05:07:18\",\"2018-06-15T03:13:50\",\"2018-01-28T05:55:35\",\"2017-09-01T13:55:15\",\"2017-08-06T12:00:59\",\"2017-07-24T16:09:05\",\"2017-07-19T17:23:40\",\"2017-06-21T13:11:04\",\"2017-06-21T13:11:04\",\"2017-06-21T11:27:51\",\"2017-05-23T07:23:49\",\"2016-12-04T16:12:41\",\"2016-09-25T12:00:47\",\"2016-09-25T07:31:58\"],\"y\":[1,1,1,1,1,0,0,0,0,0,0,0,0,1,1,0,1,1,1,1,0,1,1,2,0,1,1,1,1,1,1,0,1,1,1,1,1,2,0,0,0,0,1,1,1,1,1,1,1,1,1,1,0,1,1,2,1,1,1,1,1,1,2,1,1,1,1,1,0,1,0,0,1,1,1,1,1,1,0,1,1,0,0,0,0,1,1,1,1,1,1,1,1,1,1,1,1,0,0,1,1,1,1,1,1,1,1,1,1,1,1,1,1],\"z\":[6950.0,267.0,199.0,89.0,233.0,0.0,0.0,0.0,0.0,0.0,0.0,0.0,0.0,2969.0,699.0,0.0,4856.0,2062.78,736.22,2750.0,0.0,309.1,617.4,374.0,0.0,1295.0,113.0,277.0,194.0,290.0,2123.0,0.0,261.25,799.0,455.0,3599.0,178.0,798.0,0.0,0.0,0.0,0.0,284.0,265.0,759.0,1649.0,1499.0,499.0,2599.0,759.0,349.0,399.0,10.0,312.0,399.0,540.0,395.0,1299.0,1349.0,605.0,399.0,3625.0,398.0,399.0,1609.0,159.0,710.0,295.0,295.0,295.0,500.0,500.0,999.0,1.0,299.0,829.0,786.0,199.0,100.0,14999.0,199.0,49.0,49.0,49.0,49.0,299.0,189.0,228.0,40.0,785.0,399.0,18.0,30.0,30.0,30.0,1299.0,338.0,0.0,0.0,1000.0,100.0,629.0,1599.0,320.0,12499.0,1124.0,279.0,749.0,999.0,9999.0,389.0,149.0,339.0],\"type\":\"scatter3d\"}],                        {\"template\":{\"data\":{\"histogram2dcontour\":[{\"type\":\"histogram2dcontour\",\"colorbar\":{\"outlinewidth\":0,\"ticks\":\"\"},\"colorscale\":[[0.0,\"#0d0887\"],[0.1111111111111111,\"#46039f\"],[0.2222222222222222,\"#7201a8\"],[0.3333333333333333,\"#9c179e\"],[0.4444444444444444,\"#bd3786\"],[0.5555555555555556,\"#d8576b\"],[0.6666666666666666,\"#ed7953\"],[0.7777777777777778,\"#fb9f3a\"],[0.8888888888888888,\"#fdca26\"],[1.0,\"#f0f921\"]]}],\"choropleth\":[{\"type\":\"choropleth\",\"colorbar\":{\"outlinewidth\":0,\"ticks\":\"\"}}],\"histogram2d\":[{\"type\":\"histogram2d\",\"colorbar\":{\"outlinewidth\":0,\"ticks\":\"\"},\"colorscale\":[[0.0,\"#0d0887\"],[0.1111111111111111,\"#46039f\"],[0.2222222222222222,\"#7201a8\"],[0.3333333333333333,\"#9c179e\"],[0.4444444444444444,\"#bd3786\"],[0.5555555555555556,\"#d8576b\"],[0.6666666666666666,\"#ed7953\"],[0.7777777777777778,\"#fb9f3a\"],[0.8888888888888888,\"#fdca26\"],[1.0,\"#f0f921\"]]}],\"heatmap\":[{\"type\":\"heatmap\",\"colorbar\":{\"outlinewidth\":0,\"ticks\":\"\"},\"colorscale\":[[0.0,\"#0d0887\"],[0.1111111111111111,\"#46039f\"],[0.2222222222222222,\"#7201a8\"],[0.3333333333333333,\"#9c179e\"],[0.4444444444444444,\"#bd3786\"],[0.5555555555555556,\"#d8576b\"],[0.6666666666666666,\"#ed7953\"],[0.7777777777777778,\"#fb9f3a\"],[0.8888888888888888,\"#fdca26\"],[1.0,\"#f0f921\"]]}],\"heatmapgl\":[{\"type\":\"heatmapgl\",\"colorbar\":{\"outlinewidth\":0,\"ticks\":\"\"},\"colorscale\":[[0.0,\"#0d0887\"],[0.1111111111111111,\"#46039f\"],[0.2222222222222222,\"#7201a8\"],[0.3333333333333333,\"#9c179e\"],[0.4444444444444444,\"#bd3786\"],[0.5555555555555556,\"#d8576b\"],[0.6666666666666666,\"#ed7953\"],[0.7777777777777778,\"#fb9f3a\"],[0.8888888888888888,\"#fdca26\"],[1.0,\"#f0f921\"]]}],\"contourcarpet\":[{\"type\":\"contourcarpet\",\"colorbar\":{\"outlinewidth\":0,\"ticks\":\"\"}}],\"contour\":[{\"type\":\"contour\",\"colorbar\":{\"outlinewidth\":0,\"ticks\":\"\"},\"colorscale\":[[0.0,\"#0d0887\"],[0.1111111111111111,\"#46039f\"],[0.2222222222222222,\"#7201a8\"],[0.3333333333333333,\"#9c179e\"],[0.4444444444444444,\"#bd3786\"],[0.5555555555555556,\"#d8576b\"],[0.6666666666666666,\"#ed7953\"],[0.7777777777777778,\"#fb9f3a\"],[0.8888888888888888,\"#fdca26\"],[1.0,\"#f0f921\"]]}],\"surface\":[{\"type\":\"surface\",\"colorbar\":{\"outlinewidth\":0,\"ticks\":\"\"},\"colorscale\":[[0.0,\"#0d0887\"],[0.1111111111111111,\"#46039f\"],[0.2222222222222222,\"#7201a8\"],[0.3333333333333333,\"#9c179e\"],[0.4444444444444444,\"#bd3786\"],[0.5555555555555556,\"#d8576b\"],[0.6666666666666666,\"#ed7953\"],[0.7777777777777778,\"#fb9f3a\"],[0.8888888888888888,\"#fdca26\"],[1.0,\"#f0f921\"]]}],\"mesh3d\":[{\"type\":\"mesh3d\",\"colorbar\":{\"outlinewidth\":0,\"ticks\":\"\"}}],\"scatter\":[{\"fillpattern\":{\"fillmode\":\"overlay\",\"size\":10,\"solidity\":0.2},\"type\":\"scatter\"}],\"parcoords\":[{\"type\":\"parcoords\",\"line\":{\"colorbar\":{\"outlinewidth\":0,\"ticks\":\"\"}}}],\"scatterpolargl\":[{\"type\":\"scatterpolargl\",\"marker\":{\"colorbar\":{\"outlinewidth\":0,\"ticks\":\"\"}}}],\"bar\":[{\"error_x\":{\"color\":\"#2a3f5f\"},\"error_y\":{\"color\":\"#2a3f5f\"},\"marker\":{\"line\":{\"color\":\"#E5ECF6\",\"width\":0.5},\"pattern\":{\"fillmode\":\"overlay\",\"size\":10,\"solidity\":0.2}},\"type\":\"bar\"}],\"scattergeo\":[{\"type\":\"scattergeo\",\"marker\":{\"colorbar\":{\"outlinewidth\":0,\"ticks\":\"\"}}}],\"scatterpolar\":[{\"type\":\"scatterpolar\",\"marker\":{\"colorbar\":{\"outlinewidth\":0,\"ticks\":\"\"}}}],\"histogram\":[{\"marker\":{\"pattern\":{\"fillmode\":\"overlay\",\"size\":10,\"solidity\":0.2}},\"type\":\"histogram\"}],\"scattergl\":[{\"type\":\"scattergl\",\"marker\":{\"colorbar\":{\"outlinewidth\":0,\"ticks\":\"\"}}}],\"scatter3d\":[{\"type\":\"scatter3d\",\"line\":{\"colorbar\":{\"outlinewidth\":0,\"ticks\":\"\"}},\"marker\":{\"colorbar\":{\"outlinewidth\":0,\"ticks\":\"\"}}}],\"scattermapbox\":[{\"type\":\"scattermapbox\",\"marker\":{\"colorbar\":{\"outlinewidth\":0,\"ticks\":\"\"}}}],\"scatterternary\":[{\"type\":\"scatterternary\",\"marker\":{\"colorbar\":{\"outlinewidth\":0,\"ticks\":\"\"}}}],\"scattercarpet\":[{\"type\":\"scattercarpet\",\"marker\":{\"colorbar\":{\"outlinewidth\":0,\"ticks\":\"\"}}}],\"carpet\":[{\"aaxis\":{\"endlinecolor\":\"#2a3f5f\",\"gridcolor\":\"white\",\"linecolor\":\"white\",\"minorgridcolor\":\"white\",\"startlinecolor\":\"#2a3f5f\"},\"baxis\":{\"endlinecolor\":\"#2a3f5f\",\"gridcolor\":\"white\",\"linecolor\":\"white\",\"minorgridcolor\":\"white\",\"startlinecolor\":\"#2a3f5f\"},\"type\":\"carpet\"}],\"table\":[{\"cells\":{\"fill\":{\"color\":\"#EBF0F8\"},\"line\":{\"color\":\"white\"}},\"header\":{\"fill\":{\"color\":\"#C8D4E3\"},\"line\":{\"color\":\"white\"}},\"type\":\"table\"}],\"barpolar\":[{\"marker\":{\"line\":{\"color\":\"#E5ECF6\",\"width\":0.5},\"pattern\":{\"fillmode\":\"overlay\",\"size\":10,\"solidity\":0.2}},\"type\":\"barpolar\"}],\"pie\":[{\"automargin\":true,\"type\":\"pie\"}]},\"layout\":{\"autotypenumbers\":\"strict\",\"colorway\":[\"#636efa\",\"#EF553B\",\"#00cc96\",\"#ab63fa\",\"#FFA15A\",\"#19d3f3\",\"#FF6692\",\"#B6E880\",\"#FF97FF\",\"#FECB52\"],\"font\":{\"color\":\"#2a3f5f\"},\"hovermode\":\"closest\",\"hoverlabel\":{\"align\":\"left\"},\"paper_bgcolor\":\"white\",\"plot_bgcolor\":\"#E5ECF6\",\"polar\":{\"bgcolor\":\"#E5ECF6\",\"angularaxis\":{\"gridcolor\":\"white\",\"linecolor\":\"white\",\"ticks\":\"\"},\"radialaxis\":{\"gridcolor\":\"white\",\"linecolor\":\"white\",\"ticks\":\"\"}},\"ternary\":{\"bgcolor\":\"#E5ECF6\",\"aaxis\":{\"gridcolor\":\"white\",\"linecolor\":\"white\",\"ticks\":\"\"},\"baxis\":{\"gridcolor\":\"white\",\"linecolor\":\"white\",\"ticks\":\"\"},\"caxis\":{\"gridcolor\":\"white\",\"linecolor\":\"white\",\"ticks\":\"\"}},\"coloraxis\":{\"colorbar\":{\"outlinewidth\":0,\"ticks\":\"\"}},\"colorscale\":{\"sequential\":[[0.0,\"#0d0887\"],[0.1111111111111111,\"#46039f\"],[0.2222222222222222,\"#7201a8\"],[0.3333333333333333,\"#9c179e\"],[0.4444444444444444,\"#bd3786\"],[0.5555555555555556,\"#d8576b\"],[0.6666666666666666,\"#ed7953\"],[0.7777777777777778,\"#fb9f3a\"],[0.8888888888888888,\"#fdca26\"],[1.0,\"#f0f921\"]],\"sequentialminus\":[[0.0,\"#0d0887\"],[0.1111111111111111,\"#46039f\"],[0.2222222222222222,\"#7201a8\"],[0.3333333333333333,\"#9c179e\"],[0.4444444444444444,\"#bd3786\"],[0.5555555555555556,\"#d8576b\"],[0.6666666666666666,\"#ed7953\"],[0.7777777777777778,\"#fb9f3a\"],[0.8888888888888888,\"#fdca26\"],[1.0,\"#f0f921\"]],\"diverging\":[[0,\"#8e0152\"],[0.1,\"#c51b7d\"],[0.2,\"#de77ae\"],[0.3,\"#f1b6da\"],[0.4,\"#fde0ef\"],[0.5,\"#f7f7f7\"],[0.6,\"#e6f5d0\"],[0.7,\"#b8e186\"],[0.8,\"#7fbc41\"],[0.9,\"#4d9221\"],[1,\"#276419\"]]},\"xaxis\":{\"gridcolor\":\"white\",\"linecolor\":\"white\",\"ticks\":\"\",\"title\":{\"standoff\":15},\"zerolinecolor\":\"white\",\"automargin\":true,\"zerolinewidth\":2},\"yaxis\":{\"gridcolor\":\"white\",\"linecolor\":\"white\",\"ticks\":\"\",\"title\":{\"standoff\":15},\"zerolinecolor\":\"white\",\"automargin\":true,\"zerolinewidth\":2},\"scene\":{\"xaxis\":{\"backgroundcolor\":\"#E5ECF6\",\"gridcolor\":\"white\",\"linecolor\":\"white\",\"showbackground\":true,\"ticks\":\"\",\"zerolinecolor\":\"white\",\"gridwidth\":2},\"yaxis\":{\"backgroundcolor\":\"#E5ECF6\",\"gridcolor\":\"white\",\"linecolor\":\"white\",\"showbackground\":true,\"ticks\":\"\",\"zerolinecolor\":\"white\",\"gridwidth\":2},\"zaxis\":{\"backgroundcolor\":\"#E5ECF6\",\"gridcolor\":\"white\",\"linecolor\":\"white\",\"showbackground\":true,\"ticks\":\"\",\"zerolinecolor\":\"white\",\"gridwidth\":2}},\"shapedefaults\":{\"line\":{\"color\":\"#2a3f5f\"}},\"annotationdefaults\":{\"arrowcolor\":\"#2a3f5f\",\"arrowhead\":0,\"arrowwidth\":1},\"geo\":{\"bgcolor\":\"white\",\"landcolor\":\"#E5ECF6\",\"subunitcolor\":\"white\",\"showland\":true,\"showlakes\":true,\"lakecolor\":\"white\"},\"title\":{\"x\":0.05},\"mapbox\":{\"style\":\"light\"}}},\"scene\":{\"domain\":{\"x\":[0.0,1.0],\"y\":[0.0,1.0]},\"xaxis\":{\"title\":{\"text\":\"Order Date\"}},\"yaxis\":{\"title\":{\"text\":\"Quantity\"}},\"zaxis\":{\"title\":{\"text\":\"Price\"}}},\"coloraxis\":{\"colorbar\":{\"title\":{\"text\":\"Quantity\"}},\"colorscale\":[[0.0,\"#0d0887\"],[0.1111111111111111,\"#46039f\"],[0.2222222222222222,\"#7201a8\"],[0.3333333333333333,\"#9c179e\"],[0.4444444444444444,\"#bd3786\"],[0.5555555555555556,\"#d8576b\"],[0.6666666666666666,\"#ed7953\"],[0.7777777777777778,\"#fb9f3a\"],[0.8888888888888888,\"#fdca26\"],[1.0,\"#f0f921\"]]},\"legend\":{\"tracegroupgap\":0},\"margin\":{\"t\":60},\"height\":750,\"width\":800},                        {\"responsive\": true}                    ).then(function(){\n",
       "                            \n",
       "var gd = document.getElementById('7a98d717-098a-486d-8e65-cd89b4208359');\n",
       "var x = new MutationObserver(function (mutations, observer) {{\n",
       "        var display = window.getComputedStyle(gd).display;\n",
       "        if (!display || display === 'none') {{\n",
       "            console.log([gd, 'removed!']);\n",
       "            Plotly.purge(gd);\n",
       "            observer.disconnect();\n",
       "        }}\n",
       "}});\n",
       "\n",
       "// Listen for the removal of the full notebook cells\n",
       "var notebookContainer = gd.closest('#notebook-container');\n",
       "if (notebookContainer) {{\n",
       "    x.observe(notebookContainer, {childList: true});\n",
       "}}\n",
       "\n",
       "// Listen for the clearing of the current output cell\n",
       "var outputEl = gd.closest('.output');\n",
       "if (outputEl) {{\n",
       "    x.observe(outputEl, {childList: true});\n",
       "}}\n",
       "\n",
       "                        })                };                });            </script>        </div>"
      ]
     },
     "metadata": {},
     "output_type": "display_data"
    }
   ],
   "source": [
    "px.scatter_3d(data_frame=orders_df, x='Order Date', z='Total Owed',y='Quantity',hover_data=['Product Name'],labels={'Total Owed':'Price'},color='Quantity',width=800,height=750)"
   ]
  },
  {
   "cell_type": "code",
   "execution_count": 36,
   "id": "afe9a570",
   "metadata": {
    "execution": {
     "iopub.execute_input": "2023-03-31T12:06:20.763181Z",
     "iopub.status.busy": "2023-03-31T12:06:20.761916Z",
     "iopub.status.idle": "2023-03-31T12:06:20.779026Z",
     "shell.execute_reply": "2023-03-31T12:06:20.778029Z"
    },
    "papermill": {
     "duration": 0.039494,
     "end_time": "2023-03-31T12:06:20.781263",
     "exception": false,
     "start_time": "2023-03-31T12:06:20.741769",
     "status": "completed"
    },
    "tags": []
   },
   "outputs": [
    {
     "data": {
      "text/html": [
       "<div>\n",
       "<style scoped>\n",
       "    .dataframe tbody tr th:only-of-type {\n",
       "        vertical-align: middle;\n",
       "    }\n",
       "\n",
       "    .dataframe tbody tr th {\n",
       "        vertical-align: top;\n",
       "    }\n",
       "\n",
       "    .dataframe thead th {\n",
       "        text-align: right;\n",
       "    }\n",
       "</style>\n",
       "<table border=\"1\" class=\"dataframe\">\n",
       "  <thead>\n",
       "    <tr style=\"text-align: right;\">\n",
       "      <th></th>\n",
       "      <th>Total Owed</th>\n",
       "    </tr>\n",
       "    <tr>\n",
       "      <th>Product Name</th>\n",
       "      <th></th>\n",
       "    </tr>\n",
       "  </thead>\n",
       "  <tbody>\n",
       "    <tr>\n",
       "      <th>3M Auto Specialty Tyre Dresser (250 ml) | Long lasting tyre Gloss | Fading and Crack Prevention.</th>\n",
       "      <td>267.00</td>\n",
       "    </tr>\n",
       "    <tr>\n",
       "      <th>ALFA AWUS036NEH Long Range WIRELESS 802.11b/g/n Wi-Fi USBAdapter</th>\n",
       "      <td>3625.00</td>\n",
       "    </tr>\n",
       "    <tr>\n",
       "      <th>Amazon Pay balance: Credits</th>\n",
       "      <td>10.00</td>\n",
       "    </tr>\n",
       "    <tr>\n",
       "      <th>Amazon Pay balance: Money</th>\n",
       "      <td>2100.00</td>\n",
       "    </tr>\n",
       "    <tr>\n",
       "      <th>Amazon Pay balance: Money (Cash-load)</th>\n",
       "      <td>1.00</td>\n",
       "    </tr>\n",
       "    <tr>\n",
       "      <th>...</th>\n",
       "      <td>...</td>\n",
       "    </tr>\n",
       "    <tr>\n",
       "      <th>eSplanade - 5 inches - Singing Bowl Tibetan Buddhist Prayer Instrument With Striker Stick | OM Bell | OM Bowl | Meditation Bowl | Music Therapy</th>\n",
       "      <td>1295.00</td>\n",
       "    </tr>\n",
       "    <tr>\n",
       "      <th>iBall Style 63 Optical Mouse (Black)</th>\n",
       "      <td>189.00</td>\n",
       "    </tr>\n",
       "    <tr>\n",
       "      <th>iClever HS14 Headphones for Girls, Kids Headphones with Mic, 94dB Volume Limited, Adjustable Headband, Foldable, Wired Over Ear Child Headset for Onli</th>\n",
       "      <td>736.22</td>\n",
       "    </tr>\n",
       "    <tr>\n",
       "      <th>verticals Men's Cotton Army Print Cargo Pants (Multicolour, 38)</th>\n",
       "      <td>999.00</td>\n",
       "    </tr>\n",
       "    <tr>\n",
       "      <th>xcluma Waist Pack Travel Handy Hiking Zip Pouch Document Money Phone Belt Sport Bag Bum Bag for Men and Women Polyester (Grey)</th>\n",
       "      <td>399.00</td>\n",
       "    </tr>\n",
       "  </tbody>\n",
       "</table>\n",
       "<p>78 rows × 1 columns</p>\n",
       "</div>"
      ],
      "text/plain": [
       "                                                    Total Owed\n",
       "Product Name                                                  \n",
       "3M Auto Specialty Tyre Dresser (250 ml) | Long ...      267.00\n",
       "ALFA AWUS036NEH Long Range WIRELESS 802.11b/g/n...     3625.00\n",
       "Amazon Pay balance: Credits                              10.00\n",
       "Amazon Pay balance: Money                              2100.00\n",
       "Amazon Pay balance: Money (Cash-load)                     1.00\n",
       "...                                                        ...\n",
       "eSplanade - 5 inches - Singing Bowl Tibetan Bud...     1295.00\n",
       "iBall Style 63 Optical Mouse (Black)                    189.00\n",
       "iClever HS14 Headphones for Girls, Kids Headpho...      736.22\n",
       "verticals Men's Cotton Army Print Cargo Pants (...      999.00\n",
       "xcluma Waist Pack Travel Handy Hiking Zip Pouch...      399.00\n",
       "\n",
       "[78 rows x 1 columns]"
      ]
     },
     "execution_count": 36,
     "metadata": {},
     "output_type": "execute_result"
    }
   ],
   "source": [
    "orders_df.groupby(['Product Name'])[['Total Owed']].sum()"
   ]
  },
  {
   "cell_type": "code",
   "execution_count": null,
   "id": "aeeb4369",
   "metadata": {
    "papermill": {
     "duration": 0.017971,
     "end_time": "2023-03-31T12:06:20.817667",
     "exception": false,
     "start_time": "2023-03-31T12:06:20.799696",
     "status": "completed"
    },
    "tags": []
   },
   "outputs": [],
   "source": [
    "\n"
   ]
  }
 ],
 "metadata": {
  "kernelspec": {
   "display_name": "Python 3",
   "language": "python",
   "name": "python3"
  },
  "language_info": {
   "codemirror_mode": {
    "name": "ipython",
    "version": 3
   },
   "file_extension": ".py",
   "mimetype": "text/x-python",
   "name": "python",
   "nbconvert_exporter": "python",
   "pygments_lexer": "ipython3",
   "version": "3.7.12"
  },
  "papermill": {
   "default_parameters": {},
   "duration": 17.767925,
   "end_time": "2023-03-31T12:06:21.659564",
   "environment_variables": {},
   "exception": null,
   "input_path": "__notebook__.ipynb",
   "output_path": "__notebook__.ipynb",
   "parameters": {},
   "start_time": "2023-03-31T12:06:03.891639",
   "version": "2.4.0"
  }
 },
 "nbformat": 4,
 "nbformat_minor": 5
}
